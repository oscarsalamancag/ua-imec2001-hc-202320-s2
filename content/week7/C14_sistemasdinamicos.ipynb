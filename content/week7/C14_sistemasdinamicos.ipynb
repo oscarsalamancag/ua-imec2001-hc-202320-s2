{
 "cells": [
  {
   "cell_type": "markdown",
   "metadata": {},
   "source": [
    "# IMEC2001 Herramientas Computacionales\n",
    "## Semana 7: Ecuación Diferencial Ordinaria (ODE)\n",
    "### Clase 14:  ODE y Dinámica\n",
    "\n",
    "Universidad de los Andes — Noviembre 22, 2023.\n",
    "\n",
    "---\n",
    "\n",
    "## TABLA DE CONTENIDO\n",
    "\n",
    "### Sección 1: ODE [→](#section1)\n",
    "- 1.1. Introducción\n",
    "- 1.2. Cargar Librerías\n",
    "- 1.3. Sintaxis\n",
    "- 1.4. Ejemplo 1: ODE\n",
    "- 1.5. Ejemplo 2: Sistema de ODEs\n",
    "- 1.6. Ejemplo 3: Ecuaciones de Lorenz\n",
    "- 1.7. Ejemplo 4: ODE de Segundo Grado\n",
    "\n",
    "### Sección 2: Sistemas Dinámicos [→](#section2)\n",
    "- 2.1. Introducción\n",
    "- 2.2. Ejemplo 1: Péndulo Simple\n",
    "- 2.3. Ejemplo 2: Péndulo Simple + Fricción + Fuerza Externa\n",
    "- 2.4. Ejemplo 3: Masa-Resorte\n",
    "- 2.5. Ejemplo 4: Doble Masa y Doble Resorte\n",
    "___"
   ]
  },
  {
   "cell_type": "markdown",
   "metadata": {},
   "source": [
    "<a id=\"section1\"></a>\n",
    "# Sección 1: ODE"
   ]
  },
  {
   "cell_type": "markdown",
   "metadata": {},
   "source": [
    "## 1.1. Introducción\n",
    "\n",
    "Una ecuación diferencial ordinaria (ODE, por sus siglas en inglés) es aquella que relaciona **una única variable independiente** y una o más de sus derivadas respecto de tal variable.\n",
    "\n",
    "¿Pero, qué es una ecuación diferencial?\n",
    "\n",
    "<div class=\"alert alert-block alert-success\">\n",
    "Una ecuación diferencial es una ecuación matemática que relaciona una función con sus derivadas.\n",
    "</div>\n",
    "\n",
    "También, aclaremos qué es una derivada:\n",
    "\n",
    "<div class=\"alert alert-block alert-success\">\n",
    "    \n",
    "La derivada de una función es **la razón de cambio instantánea** con la que varía el valor de dicha función matemática.\n",
    "</div>\n",
    "\n",
    "Típicamente, la razón de cambio instantánea es respecto a la posición y al tiempo.\n",
    "\n",
    "Es importante tener en cuenta que el **orden** de un ODE es **la derivada de mayor grado**. Note que es diferente al máximo exponente presente en la ecuación. Por ejemplo:\n",
    "\n",
    "$$\n",
    "\\boxed{\\frac{d^2y}{dx^2}} + 5 \\left( \\frac{dy}{dx} \\right)^3 - 4y = e^x\n",
    "$$\n",
    "\n",
    "Es un ODE de **segundo grado** por el término enmarcado. Fíjese que el orden del ODE **no** lo rige el mayor exponente, que en este caso es el grado tres del segundo término.\n",
    "\n",
    "Ahora bien, cuando trabajamos con un conjunto de ODE, podemos hacer uso de diferentes notaciones para facilitar la escritura y ser más eficientes con la comprensión del ejercicio. Las más utilizadas son:\n",
    "\n",
    "$$\n",
    "\\begin{cases}\n",
    "  \\text{Leibniz} & \\rightarrow \\frac{dx}{dy} \\\\ \n",
    "  \\\\\n",
    "  \\text{Lagrange} & \\rightarrow y' \\\\\n",
    "  \\\\\n",
    "  \\text{Newton} & \\rightarrow \\dot{y}\n",
    "\\end{cases} \n",
    "$$\n",
    "\n",
    "Entonces, la ecuación anterior puede ser escrita de las siguientes formas:\n",
    "\n",
    "$$\n",
    "\\begin{cases}\n",
    "  \\text{Leibniz} & \\rightarrow \\frac{d^2y}{dx^2} + 5 \\left( \\frac{dy}{dx} \\right)^3 - 4y = e^x \\\\ \n",
    "  \\\\\n",
    "  \\text{Lagrange} & \\rightarrow y'' + 5 \\left( y' \\right)^3 - 4y = e^x \\\\\n",
    "  \\\\\n",
    "  \\text{Newton} & \\rightarrow \\ddot{y} + 5 \\left( \\dot{y} \\right)^3 - 4y = e^x\n",
    "\\end{cases} \n",
    "$$\n",
    "\n",
    "Similar a como lo estudiamos anteriormente, a partir de un conjunto de ODE podemos conformar un sistema de ecuaciones diferenciales. En general:\n",
    "\n",
    "<div class=\"alert alert-block alert-success\">\n",
    "Un sistema de ecuaciones diferenciales es un conjunto de varias ecuaciones diferenciales con varias funciones incógnitas y un conjunto de condiciones iniciales. Una solución es un conjunto de funciones diferenciables que satisfacen todas y cada una de las ecuaciones del sistema.\n",
    "</div>\n",
    "\n",
    "Por ejemplo:\n",
    "\n",
    "$$\n",
    "\\begin{cases}\n",
    "  \\frac{dx}{dt} = 3x + 4y & (1)\\\\ \n",
    "  \\\\\n",
    "  \\frac{dy}{dt} = 5x - 7y & (2)\\\\\n",
    "\\end{cases} \n",
    "$$\n",
    "\n",
    "En forma matricial, esto puede escribirse como:\n",
    "\n",
    "$$\n",
    "{\\begin{bmatrix}\n",
    "x' \\\\\n",
    "y' \\\\\n",
    "\\end{bmatrix}} =\n",
    "{\\begin{bmatrix}\n",
    "3 & 4 \\\\\n",
    "5 & -7 \\\\\n",
    "\\end{bmatrix}}\n",
    "{\\begin{bmatrix}\n",
    "x \\\\\n",
    "y \\\\\n",
    "\\end{bmatrix}}\n",
    "$$\n",
    "\n",
    "O, de forma genérica:\n",
    "\n",
    "$$\n",
    "\\frac{d}{dt}\n",
    "{\\begin{bmatrix}\n",
    "x_1 \\\\\n",
    "x_2 \\\\\n",
    "\\vdots \\\\\n",
    "x_n \\\\\n",
    "\\end{bmatrix}} = \n",
    "{\\begin{bmatrix}\n",
    "a_{11} & a_{12} & \\dots & a_{1n} \\\\\n",
    "a_{21} & a_{22} & \\dots & a_{2n} \\\\\n",
    "\\vdots & \\vdots & \\ddots & \\vdots \\\\\n",
    "a_{m1} & a_{m2} & \\dots & a_{mn} \\\\\n",
    "\\end{bmatrix}}\n",
    "{\\begin{bmatrix}\n",
    "x_1 \\\\\n",
    "x_2 \\\\\n",
    "\\vdots \\\\\n",
    "x_n \\\\\n",
    "\\end{bmatrix}} +\n",
    "{\\begin{bmatrix}\n",
    "f_1(t) \\\\\n",
    "f_2(t) \\\\\n",
    "\\vdots \\\\\n",
    "f_n(t) \\\\\n",
    "\\end{bmatrix}}\n",
    "$$\n",
    "\n",
    "Existen diversos métodos analíticos para poder dar solución a estos ODE y sistemas de ecuaciones diferenciales. No obstante, aprovecharemos la librerías `scipy.integrate.odeint` para dar respuesta a estos ejercicios de manera práctica y eficiente.\n",
    "\n",
    "<div class=\"alert alert-block alert-success\">\n",
    "\n",
    "Resolver ODE significa determinar **cómo cambiarán las variables a medida que pasa el tiempo**. Usualmente solo consideramos una variable independiente: el tiempo $t$.\n",
    "</div>\n",
    "\n",
    "¡Empecemos!"
   ]
  },
  {
   "cell_type": "markdown",
   "metadata": {},
   "source": [
    "## 1.2. Cargar Librerías"
   ]
  },
  {
   "cell_type": "code",
   "execution_count": 1,
   "metadata": {},
   "outputs": [],
   "source": [
    "# Datos y Gráficas\n",
    "%matplotlib inline\n",
    "import matplotlib.pyplot as plt\n",
    "import pandas as pd\n",
    "import numpy as np\n",
    "import sympy\n",
    "from sympy.physics.mechanics import *\n",
    "\n",
    "# ODE\n",
    "from scipy import integrate"
   ]
  },
  {
   "cell_type": "markdown",
   "metadata": {},
   "source": [
    "## 1.3. Sintaxis\n",
    "\n",
    "La función `scipy.integrate.odeint` requiere tres parámetros de entrada:\n",
    "\n",
    "1. `func`: Nombre de la función que devuelve valores derivados en los valores $y$ y $t$.\n",
    "2. `y0`: Condiciones iniciales.\n",
    "3. `t`: Puntos de tiempo $t$ en los que se debe informar la solución.\n",
    "\n",
    "<div class='alert alert-block alert-info'> \n",
    "\n",
    "<i class='fa fa-info-circle' aria-hidden='true'></i>\n",
    "Puede obtener más información en la documentación oficial de la librería `scipy.integrate.odeint` dando clic [aquí](https://docs.scipy.org/doc/scipy/reference/generated/scipy.integrate.odeint.html).\n",
    "</div>"
   ]
  },
  {
   "cell_type": "markdown",
   "metadata": {},
   "source": [
    "## 1.4. Ejemplo 1: ODE\n",
    "\n",
    "Se tiene la siguiente ODE:\n",
    "\n",
    "$$\n",
    "\\frac{dx}{dt} = -x + \\sin(t) + 3 \\cos (2t)\n",
    "$$\n",
    "\n",
    "Donde:\n",
    "- $x$ es la variable de estado actual.\n",
    "- $t$ es el tiempo en que se evalúa.\n",
    "- $x(t=0) \\rightarrow x_0 = 0$ es la condición inicial."
   ]
  },
  {
   "cell_type": "code",
   "execution_count": 2,
   "metadata": {},
   "outputs": [
    {
     "data": {
      "text/plain": [
       "<function __main__.ode(x, t)>"
      ]
     },
     "execution_count": 2,
     "metadata": {},
     "output_type": "execute_result"
    }
   ],
   "source": [
    "# PASO 1. Definir la función f(x,t)\n",
    "def ode(x, t):\n",
    "    dx_dt = -x + np.sin(t) + 3*np.cos(2*t)\n",
    "    return dx_dt\n",
    "\n",
    "ode"
   ]
  },
  {
   "cell_type": "code",
   "execution_count": 3,
   "metadata": {},
   "outputs": [
    {
     "data": {
      "text/plain": [
       "0"
      ]
     },
     "execution_count": 3,
     "metadata": {},
     "output_type": "execute_result"
    }
   ],
   "source": [
    "# PASO 2. Condiciones iniciales\n",
    "condiciones_iniciales = 0\n",
    "condiciones_iniciales"
   ]
  },
  {
   "cell_type": "code",
   "execution_count": 4,
   "metadata": {},
   "outputs": [
    {
     "data": {
      "text/plain": [
       "array([ 0.        ,  0.20408163,  0.40816327,  0.6122449 ,  0.81632653,\n",
       "        1.02040816,  1.2244898 ,  1.42857143,  1.63265306,  1.83673469,\n",
       "        2.04081633,  2.24489796,  2.44897959,  2.65306122,  2.85714286,\n",
       "        3.06122449,  3.26530612,  3.46938776,  3.67346939,  3.87755102,\n",
       "        4.08163265,  4.28571429,  4.48979592,  4.69387755,  4.89795918,\n",
       "        5.10204082,  5.30612245,  5.51020408,  5.71428571,  5.91836735,\n",
       "        6.12244898,  6.32653061,  6.53061224,  6.73469388,  6.93877551,\n",
       "        7.14285714,  7.34693878,  7.55102041,  7.75510204,  7.95918367,\n",
       "        8.16326531,  8.36734694,  8.57142857,  8.7755102 ,  8.97959184,\n",
       "        9.18367347,  9.3877551 ,  9.59183673,  9.79591837, 10.        ])"
      ]
     },
     "execution_count": 4,
     "metadata": {},
     "output_type": "execute_result"
    }
   ],
   "source": [
    "# PASO 3. Puntos de tiempo\n",
    "start = 0\n",
    "stop = 10\n",
    "num = 50\n",
    "\n",
    "tiempo = np.linspace(start, stop, num)\n",
    "tiempo"
   ]
  },
  {
   "cell_type": "code",
   "execution_count": 5,
   "metadata": {
    "scrolled": true
   },
   "outputs": [
    {
     "data": {
      "text/plain": [
       "array([[ 0.        ],\n",
       "       [ 0.55719044],\n",
       "       [ 0.95835252],\n",
       "       [ 1.1563747 ],\n",
       "       [ 1.13827552],\n",
       "       [ 0.92673556],\n",
       "       [ 0.57572502],\n",
       "       [ 0.16097904],\n",
       "       [-0.23308078],\n",
       "       [-0.52779929],\n",
       "       [-0.66371207],\n",
       "       [-0.6107116 ],\n",
       "       [-0.37326624],\n",
       "       [ 0.01017917],\n",
       "       [ 0.47352977],\n",
       "       [ 0.93405565],\n",
       "       [ 1.30628062],\n",
       "       [ 1.51645113],\n",
       "       [ 1.5151915 ],\n",
       "       [ 1.28624447],\n",
       "       [ 0.84983545],\n",
       "       [ 0.26007931],\n",
       "       [-0.403174  ],\n",
       "       [-1.04674584],\n",
       "       [-1.57877802],\n",
       "       [-1.92324525],\n",
       "       [-2.03197037],\n",
       "       [-1.89218803],\n",
       "       [-1.52842842],\n",
       "       [-0.9984206 ],\n",
       "       [-0.38369092],\n",
       "       [ 0.22360202],\n",
       "       [ 0.7354429 ],\n",
       "       [ 1.08193273],\n",
       "       [ 1.22218454],\n",
       "       [ 1.15037569],\n",
       "       [ 0.8959901 ],\n",
       "       [ 0.5182405 ],\n",
       "       [ 0.09561719],\n",
       "       [-0.28768931],\n",
       "       [-0.55623271],\n",
       "       [-0.65622403],\n",
       "       [-0.56477011],\n",
       "       [-0.29390314],\n",
       "       [ 0.11127204],\n",
       "       [ 0.58001355],\n",
       "       [ 1.02773846],\n",
       "       [ 1.3702337 ],\n",
       "       [ 1.53793428],\n",
       "       [ 1.48790431]])"
      ]
     },
     "execution_count": 5,
     "metadata": {},
     "output_type": "execute_result"
    }
   ],
   "source": [
    "# PASO 4. Solcionar ODE\n",
    "sol = integrate.odeint(func=ode, \n",
    "                       y0=condiciones_iniciales, \n",
    "                       t=tiempo)\n",
    "\n",
    "sol"
   ]
  },
  {
   "cell_type": "code",
   "execution_count": 6,
   "metadata": {},
   "outputs": [],
   "source": [
    "def formato_grafica(titulo, ejex, ejey, leyenda=False, xlim=[None, None], ylim=[None, None]):\n",
    "    plt.rcParams['axes.axisbelow'] = True\n",
    "\n",
    "    plt.title(titulo, fontsize=15)\n",
    "    plt.ylabel(ejey, fontsize=13)\n",
    "    plt.xlabel(ejex, fontsize=13)\n",
    "\n",
    "    plt.tick_params(direction='out', length=5, width=0.75, grid_alpha=0.3)\n",
    "    plt.xticks(rotation=0)\n",
    "    plt.minorticks_on()\n",
    "    plt.ylim(ylim[0], ylim[1])\n",
    "    plt.xlim(xlim[0], xlim[1])\n",
    "    plt.grid(True)\n",
    "    plt.grid(visible=True, which='major', color='grey', linestyle='-')\n",
    "    plt.grid(visible=True, which='minor', color='lightgrey', linestyle='-', alpha=0.2)\n",
    "    \n",
    "    if leyenda == True:\n",
    "        plt.legend(loc='best')\n",
    "    \n",
    "    plt.tight_layout;"
   ]
  },
  {
   "cell_type": "code",
   "execution_count": 7,
   "metadata": {},
   "outputs": [
    {
     "data": {
      "image/png": "[encoded data removed]",
      "text/plain": [
       "<Figure size 640x400 with 1 Axes>"
      ]
     },
     "metadata": {
      "needs_background": "light"
     },
     "output_type": "display_data"
    }
   ],
   "source": [
    "# Solución Analítica\n",
    "def sol_an(t):\n",
    "    return (1/2)*np.sin(t) - (1/2)*np.cos(t) + (3/5)*np.cos(2.0*t) + (6/5)*np.sin(2.0*t) - (1/10)*np.exp(-t)\n",
    "\n",
    "# Gráfica\n",
    "hor = 8\n",
    "ver = 5\n",
    "fig1 = plt.figure(figsize=(hor, ver), dpi=80)\n",
    "\n",
    "plt.plot(tiempo, sol, linestyle='-', linewidth=6, color='mediumblue', label='Solución Numérica')\n",
    "plt.plot(tiempo, sol_an(tiempo), linestyle='--', linewidth=3, color='orange', label='Solución Analítica')\n",
    "\n",
    "formato_grafica(titulo='Comportamiento ODE', \n",
    "                ejex='Tiempo ($t$)', \n",
    "                ejey='$x(t)$',\n",
    "                leyenda=True)"
   ]
  },
  {
   "cell_type": "markdown",
   "metadata": {},
   "source": [
    "## 1.5. Ejemplo 2: Sistema de ODEs\n",
    "\n",
    "Se tiene el siguiente sistema de ecuaciones diferenciales:\n",
    "\n",
    "$$\n",
    "\\begin{cases}\n",
    "  \\frac{dx}{dt} = y - x \\\\ \n",
    "  \\\\\n",
    "  \\frac{dy}{dt} = 4x - y \\\\\n",
    "\\end{cases} \n",
    "$$\n",
    "\n",
    "Donde:\n",
    "- $x(t=0) \\rightarrow x_0 = 2.0$\n",
    "- $y(t=0) \\rightarrow y_0 = 0.0$"
   ]
  },
  {
   "cell_type": "code",
   "execution_count": 8,
   "metadata": {},
   "outputs": [
    {
     "data": {
      "text/plain": [
       "<function __main__.ode(variables, t)>"
      ]
     },
     "execution_count": 8,
     "metadata": {},
     "output_type": "execute_result"
    }
   ],
   "source": [
    "# PASO 1. Definir la función f(x,t)\n",
    "def ode(variables, t):\n",
    "    # Variables\n",
    "    x = variables[0]\n",
    "    y = variables[1]\n",
    "    \n",
    "    # Ecuaciones\n",
    "    dx_dt = y - x\n",
    "    dy_dt = 4*x - y\n",
    "    \n",
    "    return [dx_dt, dy_dt]\n",
    "\n",
    "ode"
   ]
  },
  {
   "cell_type": "code",
   "execution_count": 9,
   "metadata": {},
   "outputs": [
    {
     "data": {
      "text/plain": [
       "[2, 0]"
      ]
     },
     "execution_count": 9,
     "metadata": {},
     "output_type": "execute_result"
    }
   ],
   "source": [
    "# PASO 2. Condiciones iniciales\n",
    "condiciones_iniciales = [2, 0] # [x0, y0]\n",
    "condiciones_iniciales"
   ]
  },
  {
   "cell_type": "code",
   "execution_count": 10,
   "metadata": {},
   "outputs": [
    {
     "data": {
      "text/plain": [
       "array([ 0.        ,  0.20408163,  0.40816327,  0.6122449 ,  0.81632653,\n",
       "        1.02040816,  1.2244898 ,  1.42857143,  1.63265306,  1.83673469,\n",
       "        2.04081633,  2.24489796,  2.44897959,  2.65306122,  2.85714286,\n",
       "        3.06122449,  3.26530612,  3.46938776,  3.67346939,  3.87755102,\n",
       "        4.08163265,  4.28571429,  4.48979592,  4.69387755,  4.89795918,\n",
       "        5.10204082,  5.30612245,  5.51020408,  5.71428571,  5.91836735,\n",
       "        6.12244898,  6.32653061,  6.53061224,  6.73469388,  6.93877551,\n",
       "        7.14285714,  7.34693878,  7.55102041,  7.75510204,  7.95918367,\n",
       "        8.16326531,  8.36734694,  8.57142857,  8.7755102 ,  8.97959184,\n",
       "        9.18367347,  9.3877551 ,  9.59183673,  9.79591837, 10.        ])"
      ]
     },
     "execution_count": 10,
     "metadata": {},
     "output_type": "execute_result"
    }
   ],
   "source": [
    "# PASO 3. Puntos de tiempo\n",
    "start = 0\n",
    "stop = 10\n",
    "num = 50\n",
    "\n",
    "tiempo = np.linspace(start, stop, num)\n",
    "tiempo"
   ]
  },
  {
   "cell_type": "code",
   "execution_count": 11,
   "metadata": {
    "scrolled": true
   },
   "outputs": [
    {
     "data": {
      "text/plain": [
       "array([[2.00000000e+00, 0.00000000e+00],\n",
       "       [1.76853075e+00, 1.36853155e+00],\n",
       "       [1.79796031e+00, 2.42029018e+00],\n",
       "       [2.00390447e+00, 3.37046155e+00],\n",
       "       [2.34855619e+00, 4.35158572e+00],\n",
       "       [2.82115723e+00, 5.45499319e+00],\n",
       "       [3.42781794e+00, 6.75408294e+00],\n",
       "       [4.18649767e+00, 8.31794019e+00],\n",
       "       [5.12489539e+00, 1.02199436e+01],\n",
       "       [6.28005695e+00, 1.25439328e+01],\n",
       "       [7.69908289e+00, 1.53893935e+01],\n",
       "       [9.44064125e+00, 1.88765268e+01],\n",
       "       [1.15771725e+01, 2.31517667e+01],\n",
       "       [1.41977832e+01, 2.83941687e+01],\n",
       "       [1.74118977e+01, 3.48230376e+01],\n",
       "       [2.13537916e+01, 4.27071723e+01],\n",
       "       [2.61881828e+01, 5.23761428e+01],\n",
       "       [3.21171040e+01, 6.42340872e+01],\n",
       "       [3.93883399e+01, 7.87766143e+01],\n",
       "       [4.83057804e+01, 9.66115253e+01],\n",
       "       [5.92421192e+01, 1.18484219e+02],\n",
       "       [7.26544289e+01, 1.45308847e+02],\n",
       "       [8.91032638e+01, 1.78206522e+02],\n",
       "       [1.09276087e+02, 2.18552172e+02],\n",
       "       [1.34016004e+02, 2.68032006e+02],\n",
       "       [1.64356995e+02, 3.28713989e+02],\n",
       "       [2.01567134e+02, 4.03134267e+02],\n",
       "       [2.47201583e+02, 4.94403166e+02],\n",
       "       [3.03167594e+02, 6.06335187e+02],\n",
       "       [3.71804212e+02, 7.43608424e+02],\n",
       "       [4.55980041e+02, 9.11960083e+02],\n",
       "       [5.59213133e+02, 1.11842627e+03],\n",
       "       [6.85818018e+02, 1.37163604e+03],\n",
       "       [8.41086029e+02, 1.68217206e+03],\n",
       "       [1.03150645e+03, 2.06301290e+03],\n",
       "       [1.26503772e+03, 2.53007545e+03],\n",
       "       [1.55144007e+03, 3.10288015e+03],\n",
       "       [1.90268342e+03, 3.80536683e+03],\n",
       "       [2.33344765e+03, 4.66689529e+03],\n",
       "       [2.86173615e+03, 5.72347231e+03],\n",
       "       [3.50962826e+03, 7.01925653e+03],\n",
       "       [4.30420202e+03, 8.60840404e+03],\n",
       "       [5.27866590e+03, 1.05573318e+04],\n",
       "       [6.47374672e+03, 1.29474934e+04],\n",
       "       [7.93939177e+03, 1.58787835e+04],\n",
       "       [9.73685631e+03, 1.94737126e+04],\n",
       "       [1.19412637e+04, 2.38825274e+04],\n",
       "       [1.46447451e+04, 2.92894903e+04],\n",
       "       [1.79602901e+04, 3.59205801e+04],\n",
       "       [2.20264686e+04, 4.40529373e+04]])"
      ]
     },
     "execution_count": 11,
     "metadata": {},
     "output_type": "execute_result"
    }
   ],
   "source": [
    "# PASO 4. Solcionar ODE\n",
    "sol = integrate.odeint(func=ode, \n",
    "                       y0=condiciones_iniciales, \n",
    "                       t=tiempo)\n",
    "\n",
    "sol"
   ]
  },
  {
   "cell_type": "code",
   "execution_count": 12,
   "metadata": {},
   "outputs": [
    {
     "data": {
      "image/png": "[encoded data removed]",
      "text/plain": [
       "<Figure size 640x400 with 1 Axes>"
      ]
     },
     "metadata": {
      "needs_background": "light"
     },
     "output_type": "display_data"
    }
   ],
   "source": [
    "# Solución Analítica\n",
    "def X_an(t):\n",
    "    return np.exp(t) + np.exp(-3*t)\n",
    "\n",
    "def Y_an(t):\n",
    "    return 2*np.exp(t) - 2*np.exp(-3*t)\n",
    "\n",
    "# Gráfica\n",
    "hor = 8\n",
    "ver = 5\n",
    "fig1 = plt.figure(figsize=(hor, ver), dpi=80)\n",
    "\n",
    "# X\n",
    "plt.plot(tiempo, sol[:,0], linestyle='-', linewidth=6, color='mediumblue', label='Sol. X Numérica')\n",
    "plt.plot(tiempo, X_an(tiempo), linestyle='--', linewidth=3, color='orange', label='Sol. X Analítica')\n",
    "\n",
    "# Y\n",
    "plt.plot(tiempo, sol[:,1], linestyle='-', linewidth=6, color='darkolivegreen', label='Sol. Y Numérica')\n",
    "plt.plot(tiempo, Y_an(tiempo), linestyle='--', linewidth=3, color='powderblue', label='Sol. Y Analítica')\n",
    "\n",
    "formato_grafica(titulo='Comportamiento ODE', \n",
    "                ejex='Tiempo ($t$)', \n",
    "                ejey='$x(t)$, $y(t)$',\n",
    "                leyenda=True)"
   ]
  },
  {
   "cell_type": "markdown",
   "metadata": {},
   "source": [
    "## 1.6. Ejemplo 3: Ecuaciones de Lorenz\n",
    "\n",
    "Se tiene el siguiente sistema de ecuaciones diferenciales (**[Ecuaciones de Lorenz](https://es.wikipedia.org/wiki/Atractor_de_Lorenz)**):\n",
    "\n",
    "$$\n",
    "\\begin{cases}\n",
    "  \\frac{dx}{dt} = \\sigma (y - x) \\\\ \n",
    "  \\\\\n",
    "  \\frac{dy}{dt} = x(\\rho - z) - y \\\\\n",
    "  \\\\\n",
    "  \\frac{dz}{dt} = xy - \\beta z\n",
    "\\end{cases} \n",
    "$$\n",
    "\n",
    "Donde:\n",
    "**Constantes**\n",
    "- $\\sigma = 10.0$\n",
    "- $\\rho = 28.0$\n",
    "- $\\beta = 8/3$\n",
    "\n",
    "**Parámetros ODE**\n",
    "- $x(t=0) \\rightarrow x_0 = 1.0$\n",
    "- $y(t=0) \\rightarrow y_0 = 0.0$\n",
    "- $z(t=0) \\rightarrow z_0 = 0.0$"
   ]
  },
  {
   "cell_type": "code",
   "execution_count": 13,
   "metadata": {},
   "outputs": [
    {
     "data": {
      "text/plain": [
       "<function __main__.ode(variables, t, sigma, rho, beta)>"
      ]
     },
     "execution_count": 13,
     "metadata": {},
     "output_type": "execute_result"
    }
   ],
   "source": [
    "# PASO 1. Definir la función f(x,t)\n",
    "def ode(variables, t, sigma, rho, beta):\n",
    "    # Variables\n",
    "    x = variables[0]\n",
    "    y = variables[1]\n",
    "    z = variables[2]\n",
    "    \n",
    "    # Ecuaciones\n",
    "    dx_dt = sigma * (y-x)\n",
    "    dy_dt = x * (rho-z) - y\n",
    "    dz_dt = x*y - beta*z\n",
    "    \n",
    "    return [dx_dt, dy_dt, dz_dt]\n",
    "\n",
    "ode"
   ]
  },
  {
   "cell_type": "code",
   "execution_count": 14,
   "metadata": {},
   "outputs": [
    {
     "data": {
      "text/plain": [
       "[1, 0, 0]"
      ]
     },
     "execution_count": 14,
     "metadata": {},
     "output_type": "execute_result"
    }
   ],
   "source": [
    "# PASO 2. Condiciones iniciales\n",
    "condiciones_iniciales = [1, 0, 0] # [x0, y0, z0]\n",
    "condiciones_iniciales"
   ]
  },
  {
   "cell_type": "code",
   "execution_count": 15,
   "metadata": {
    "scrolled": true
   },
   "outputs": [],
   "source": [
    "# PASO 3. Puntos de tiempo\n",
    "start = 0\n",
    "stop = 40\n",
    "num = 10000\n",
    "\n",
    "tiempo = np.linspace(start, stop, num)"
   ]
  },
  {
   "cell_type": "code",
   "execution_count": 16,
   "metadata": {
    "scrolled": true
   },
   "outputs": [
    {
     "data": {
      "text/plain": [
       "array([[1.00000000e+00, 0.00000000e+00, 0.00000000e+00],\n",
       "       [9.62965076e-01, 1.09661099e-01, 2.14552217e-04],\n",
       "       [9.31596554e-01, 2.15063427e-01, 8.24457431e-04],\n",
       "       ...,\n",
       "       [9.20967797e-01, 1.63415442e+00, 1.28019203e+01],\n",
       "       [9.49924576e-01, 1.68463054e+00, 1.26722551e+01],\n",
       "       [9.79766166e-01, 1.73719245e+00, 1.25443577e+01]])"
      ]
     },
     "execution_count": 16,
     "metadata": {},
     "output_type": "execute_result"
    }
   ],
   "source": [
    "# PASO 4. Solcionar ODE\n",
    "sigma = 10\n",
    "rho = 28\n",
    "beta = 8/3\n",
    "\n",
    "sol = integrate.odeint(func=ode, \n",
    "                       y0=condiciones_iniciales, \n",
    "                       t=tiempo,\n",
    "                       args=(sigma, rho, beta))\n",
    "\n",
    "sol"
   ]
  },
  {
   "cell_type": "code",
   "execution_count": 17,
   "metadata": {},
   "outputs": [
    {
     "data": {
      "image/png": "[encoded data removed]",
      "text/plain": [
       "<Figure size 640x400 with 1 Axes>"
      ]
     },
     "metadata": {
      "needs_background": "light"
     },
     "output_type": "display_data"
    }
   ],
   "source": [
    "from mpl_toolkits.mplot3d import Axes3D\n",
    "\n",
    "# Gráfica\n",
    "hor = 8\n",
    "ver = 5\n",
    "fig = plt.figure(figsize=(hor, ver), dpi=80)\n",
    "ax = fig.add_subplot(1, 1, 1, projection='3d')\n",
    "\n",
    "ax.plot(sol[:, 0], sol[:, 1], sol[:, 2], linestyle='-', linewidth=1, color='dodgerblue', label='Solución Numérica')\n",
    "\n",
    "formato_grafica(titulo='Comportamiento ODE', \n",
    "                ejex='', \n",
    "                ejey='',\n",
    "                leyenda=False)"
   ]
  },
  {
   "cell_type": "markdown",
   "metadata": {},
   "source": [
    "## 1.7. Ejemplo 4: ODE de Segundo Grado\n",
    "\n",
    "$$\n",
    "\\frac{d^2x}{dt^2} + \\frac{dx}{dt} + 2x = 0\n",
    "$$\n",
    "\n",
    "Donde:\n",
    "- $dx$ es la derivada de la variable de estado actual.\n",
    "- $x$ es la variable de estado actual.\n",
    "- $t$ es el tiempo actual.\n",
    "- $x(t=0) = x_0 = 1$\n",
    "- $\\frac{dx}{dt}(t=0) = dx_0 = 0$"
   ]
  },
  {
   "cell_type": "code",
   "execution_count": 18,
   "metadata": {},
   "outputs": [
    {
     "data": {
      "text/plain": [
       "<function __main__.ode(variables, t)>"
      ]
     },
     "execution_count": 18,
     "metadata": {},
     "output_type": "execute_result"
    }
   ],
   "source": [
    "# PASO 1. Definir la función f(x,t)\n",
    "def ode(variables, t):\n",
    "    # Variables\n",
    "    x = variables[0]\n",
    "    dx_dt = variables[1]\n",
    "    \n",
    "    # Ecuaciones\n",
    "    d2x_dt2 = -dx_dt - 2*x\n",
    "    \n",
    "    return [dx_dt, d2x_dt2]\n",
    "\n",
    "ode"
   ]
  },
  {
   "cell_type": "code",
   "execution_count": 19,
   "metadata": {},
   "outputs": [
    {
     "data": {
      "text/plain": [
       "[1, 0]"
      ]
     },
     "execution_count": 19,
     "metadata": {},
     "output_type": "execute_result"
    }
   ],
   "source": [
    "# PASO 2. Condiciones iniciales\n",
    "condiciones_iniciales = [1, 0] # [x0, dx_dt0]\n",
    "condiciones_iniciales"
   ]
  },
  {
   "cell_type": "code",
   "execution_count": 20,
   "metadata": {},
   "outputs": [
    {
     "data": {
      "text/plain": [
       "array([ 0.        ,  0.24489796,  0.48979592,  0.73469388,  0.97959184,\n",
       "        1.2244898 ,  1.46938776,  1.71428571,  1.95918367,  2.20408163,\n",
       "        2.44897959,  2.69387755,  2.93877551,  3.18367347,  3.42857143,\n",
       "        3.67346939,  3.91836735,  4.16326531,  4.40816327,  4.65306122,\n",
       "        4.89795918,  5.14285714,  5.3877551 ,  5.63265306,  5.87755102,\n",
       "        6.12244898,  6.36734694,  6.6122449 ,  6.85714286,  7.10204082,\n",
       "        7.34693878,  7.59183673,  7.83673469,  8.08163265,  8.32653061,\n",
       "        8.57142857,  8.81632653,  9.06122449,  9.30612245,  9.55102041,\n",
       "        9.79591837, 10.04081633, 10.28571429, 10.53061224, 10.7755102 ,\n",
       "       11.02040816, 11.26530612, 11.51020408, 11.75510204, 12.        ])"
      ]
     },
     "execution_count": 20,
     "metadata": {},
     "output_type": "execute_result"
    }
   ],
   "source": [
    "# PASO 3. Puntos de tiempo\n",
    "start = 0\n",
    "stop = 12\n",
    "num = 50\n",
    "\n",
    "tiempo = np.linspace(start, stop, num)\n",
    "tiempo"
   ]
  },
  {
   "cell_type": "code",
   "execution_count": 21,
   "metadata": {
    "scrolled": true
   },
   "outputs": [
    {
     "data": {
      "text/plain": [
       "array([[ 1.00000000e+00,  0.00000000e+00],\n",
       "       [ 9.45177295e-01, -4.25806712e-01],\n",
       "       [ 8.02704474e-01, -7.14269993e-01],\n",
       "       [ 6.06627572e-01, -8.64838285e-01],\n",
       "       [ 3.89243645e-01, -8.91604653e-01],\n",
       "       [ 1.78078636e-01, -8.18641435e-01],\n",
       "       [-5.97562880e-03, -6.75296888e-01],\n",
       "       [-1.49421008e-01, -4.91957862e-01],\n",
       "       [-2.45968822e-01, -2.96623460e-01],\n",
       "       [-2.95636279e-01, -1.12474459e-01],\n",
       "       [-3.03374893e-01,  4.35217943e-02],\n",
       "       [-2.77477129e-01,  1.61048941e-01],\n",
       "       [-2.27977228e-01,  2.36083571e-01],\n",
       "       [-1.65215919e-01,  2.69952088e-01],\n",
       "       [-9.86846324e-02,  2.68028936e-01],\n",
       "       [-3.62102139e-02,  2.38291192e-01],\n",
       "       [ 1.65079279e-02,  1.89912991e-01],\n",
       "       [ 5.60360431e-02,  1.32039151e-01],\n",
       "       [ 8.10755859e-02,  7.28283034e-02],\n",
       "       [ 9.21362029e-02,  1.88077337e-02],\n",
       "       [ 9.10892809e-02, -2.54598036e-02],\n",
       "       [ 8.06750460e-02, -5.74299825e-02],\n",
       "       [ 6.40251898e-02, -7.64064664e-02],\n",
       "       [ 4.42479580e-02, -8.32128127e-02],\n",
       "       [ 2.41058769e-02, -7.97756466e-02],\n",
       "       [ 5.79982385e-03, -6.86820694e-02],\n",
       "       [-9.14078160e-03, -5.27636921e-02],\n",
       "       [-1.98732265e-02, -3.47452695e-02],\n",
       "       [-2.61811068e-02, -1.69809014e-02],\n",
       "       [-2.83610783e-02, -1.28658001e-03],\n",
       "       [-2.70801641e-02,  1.11342088e-02],\n",
       "       [-2.32250462e-02,  1.96842071e-02],\n",
       "       [-1.77609533e-02,  2.43036143e-02],\n",
       "       [-1.16129289e-02,  2.53596380e-02],\n",
       "       [-5.57712458e-03,  2.35150665e-02],\n",
       "       [-2.64932868e-04,  1.95942493e-02],\n",
       "       [ 3.92127292e-03,  1.44611638e-02],\n",
       "       [ 6.78512728e-03,  8.91982692e-03],\n",
       "       [ 8.31220883e-03,  3.64260282e-03],\n",
       "       [ 8.63203268e-03, -8.72011931e-04],\n",
       "       [ 7.97314673e-03, -4.31413006e-03],\n",
       "       [ 6.61754519e-03, -6.55414689e-03],\n",
       "       [ 4.85935399e-03, -7.61722895e-03],\n",
       "       [ 2.97121722e-03, -7.64704607e-03],\n",
       "       [ 1.18024480e-03, -6.86489789e-03],\n",
       "       [-3.46019919e-04, -5.52954260e-03],\n",
       "       [-1.50430920e-03, -3.90180240e-03],\n",
       "       [-2.25254672e-03, -2.21664338e-03],\n",
       "       [-2.60098702e-03, -6.64044924e-04],\n",
       "       [-2.59977239e-03,  6.21250436e-04]])"
      ]
     },
     "execution_count": 21,
     "metadata": {},
     "output_type": "execute_result"
    }
   ],
   "source": [
    "# PASO 4. Solcionar ODE\n",
    "sol = integrate.odeint(func=ode, \n",
    "                       y0=condiciones_iniciales, \n",
    "                       t=tiempo)\n",
    "\n",
    "sol"
   ]
  },
  {
   "cell_type": "code",
   "execution_count": 22,
   "metadata": {},
   "outputs": [
    {
     "data": {
      "image/png": "[encoded data removed]",
      "text/plain": [
       "<Figure size 640x400 with 1 Axes>"
      ]
     },
     "metadata": {
      "needs_background": "light"
     },
     "output_type": "display_data"
    }
   ],
   "source": [
    "# Solución Analítica\n",
    "def sol_an(t):\n",
    "    return np.exp(-t/2) * (np.cos(np.sqrt(7) * t / 2) + np.sin(np.sqrt(7) * t / 2)/np.sqrt(7))\n",
    "\n",
    "# Gráfica\n",
    "hor = 8\n",
    "ver = 5\n",
    "fig1 = plt.figure(figsize=(hor, ver), dpi=80)\n",
    "\n",
    "plt.plot(tiempo, sol[:,0], linestyle='-', linewidth=6, color='mediumblue', label='Solución Numérica')\n",
    "plt.plot(tiempo, sol_an(tiempo), linestyle='--', linewidth=3, color='orange', label='Solución Analítica')\n",
    "\n",
    "formato_grafica(titulo='Comportamiento ODE', \n",
    "                ejex='Tiempo ($t$)', \n",
    "                ejey='$x(t)$',\n",
    "                leyenda=True)"
   ]
  },
  {
   "cell_type": "markdown",
   "metadata": {},
   "source": [
    "<a id=\"section2\"></a>\n",
    "# Sección 2: Sistemas Dinámicos"
   ]
  },
  {
   "cell_type": "markdown",
   "metadata": {},
   "source": [
    "## 2.1. Introducción\n",
    "\n",
    "Tengamos presentes las siguientes equivalencias:\n",
    "\n",
    "#### Movimiento Rectilíneo\n",
    "$$\n",
    "\\begin{cases}\n",
    "  v = \\frac{dx}{dt} = \\dot{x} \\\\ \n",
    "  \\\\\n",
    "  a = \\frac{dv}{dt} = \\frac{d}{dt} \\left( \\frac{dx}{dt} \\right) = \\frac{d^2x}{dt^2} = \\ddot{x} \\\\\n",
    "\\end{cases} \n",
    "$$\n",
    "\n",
    "#### Movimiento Rotacional\n",
    "$$\n",
    "\\begin{cases}\n",
    "  \\omega = \\frac{d \\theta}{dt} = \\dot{\\theta} \\\\ \n",
    "  \\\\\n",
    "  \\alpha = \\frac{d \\omega}{dt} = \\frac{d}{dt} \\left( \\frac{d \\theta}{dt} \\right) = \\frac{d^2 \\theta}{dt^2} = \\ddot{\\theta} \\\\\n",
    "\\end{cases} \n",
    "$$\n",
    "\n",
    "#### Generalización 2da Ley de Newton\n",
    "$$\n",
    "\\begin{cases}\n",
    "  F = ma \\rightarrow F = m \\ddot{x} & (1) \\\\ \n",
    "  \\\\\n",
    "  T = I \\alpha \\rightarrow T = I \\ddot{\\theta} & (2) \\\\\n",
    "\\end{cases} \n",
    "$$\n",
    "\n",
    "Siendo $F$ la fuerza, $m$ la masa, $a$ la aceleración, $T$ el torque, $I$ el momento de inercia (en nuestros casos de estudio, $I = m L^2$, siendo $L$ la longitud al punto de pivote del giro) y $\\theta$ el ángulo de giro."
   ]
  },
  {
   "cell_type": "markdown",
   "metadata": {},
   "source": [
    "## 2.2. Ejemplo 1: Péndulo Simple\n",
    "\n",
    "<img src='./img/pendulum1.png' width='300' height='300'/>\n",
    "\n",
    "Partimos de la relación:\n",
    "\n",
    "$$\n",
    "T = I \\ddot{\\theta}\n",
    "$$\n",
    "\n",
    "El único componente de la masa que causa un torque en el cuerpo es:\n",
    "\n",
    "$$\n",
    "m g \\sin \\theta\n",
    "$$\n",
    "\n",
    "Luego:\n",
    "\n",
    "$$\n",
    "\\boxed{ \\ddot{\\theta} + \\frac{g}{L} \\sin \\theta = 0 }\n",
    "$$\n",
    "\n",
    "<div class='alert alert-block alert-info'> \n",
    "\n",
    "<i class='fa fa-info-circle' aria-hidden='true'></i>\n",
    "Puede obtener más información del ejercicio dando clic [aquí](https://www.youtube.com/watch?v=8VJ1CJ55Np0) y [aquí](https://www.youtube.com/watch?v=xBBXlQ7CmFc).\n",
    "</div>"
   ]
  },
  {
   "cell_type": "markdown",
   "metadata": {},
   "source": [
    "Modelemos esta ODE de segundo grado para:\n",
    "\n",
    "**Constantes**\n",
    "- $g = 9.81$\n",
    "- $L = 5.0$\n",
    "\n",
    "**Parámetros ODE**\n",
    "- $\\theta(t=0) \\rightarrow \\theta_0 = 30$\n",
    "- $d\\omega(t=0) \\rightarrow d\\omega_0 = 0$\n",
    "- $t_{inicial} = 0$\n",
    "- $t_{final} = 200$"
   ]
  },
  {
   "cell_type": "markdown",
   "metadata": {},
   "source": [
    "### 2.2.1. Derivada con `sympy.diff` y `sympy.solve`\n",
    "\n",
    "<div class='alert alert-block alert-info'> \n",
    "\n",
    "<i class='fa fa-info-circle' aria-hidden='true'></i>\n",
    "Puede obtener más información en la documentación oficial de la librería `sympy.diff` dando clic [aquí](https://docs.sympy.org/latest/tutorials/intro-tutorial/calculus.html).\n",
    "</div>\n",
    "\n",
    "<div class='alert alert-block alert-info'>   \n",
    "    \n",
    "<i class='fa fa-info-circle' aria-hidden='true'></i>\n",
    "Puede obtener más información en la documentación oficial de la librería `sympy.solve` dando clic [aquí](https://docs.sympy.org/latest/modules/solvers/solvers.html).\n",
    "</div>"
   ]
  },
  {
   "cell_type": "code",
   "execution_count": 23,
   "metadata": {},
   "outputs": [],
   "source": [
    "g, L, t = sympy.symbols('g, L, t')"
   ]
  },
  {
   "cell_type": "code",
   "execution_count": 24,
   "metadata": {},
   "outputs": [
    {
     "data": {
      "text/latex": [
       "$\\displaystyle \\theta{\\left(t \\right)}$"
      ],
      "text/plain": [
       "theta(t)"
      ]
     },
     "execution_count": 24,
     "metadata": {},
     "output_type": "execute_result"
    }
   ],
   "source": [
    "theta = dynamicsymbols('theta')\n",
    "theta"
   ]
  },
  {
   "cell_type": "code",
   "execution_count": 25,
   "metadata": {},
   "outputs": [
    {
     "data": {
      "text/latex": [
       "$\\displaystyle \\frac{d}{d t} \\theta{\\left(t \\right)}$"
      ],
      "text/plain": [
       "Derivative(theta(t), t)"
      ]
     },
     "execution_count": 25,
     "metadata": {},
     "output_type": "execute_result"
    }
   ],
   "source": [
    "df_theta = sympy.diff(theta, t)\n",
    "df_theta"
   ]
  },
  {
   "cell_type": "code",
   "execution_count": 26,
   "metadata": {},
   "outputs": [
    {
     "data": {
      "text/latex": [
       "$\\displaystyle \\frac{d^{2}}{d t^{2}} \\theta{\\left(t \\right)}$"
      ],
      "text/plain": [
       "Derivative(theta(t), (t, 2))"
      ]
     },
     "execution_count": 26,
     "metadata": {},
     "output_type": "execute_result"
    }
   ],
   "source": [
    "dff_theta = sympy.diff(df_theta, t)\n",
    "dff_theta"
   ]
  },
  {
   "cell_type": "code",
   "execution_count": 27,
   "metadata": {},
   "outputs": [
    {
     "data": {
      "text/latex": [
       "$\\displaystyle \\frac{d^{2}}{d t^{2}} \\theta{\\left(t \\right)} + \\frac{g \\sin{\\left(\\theta{\\left(t \\right)} \\right)}}{L}$"
      ],
      "text/plain": [
       "Derivative(theta(t), (t, 2)) + g*sin(theta(t))/L"
      ]
     },
     "execution_count": 27,
     "metadata": {},
     "output_type": "execute_result"
    }
   ],
   "source": [
    "eq = dff_theta + (g/L)*sympy.sin(theta)\n",
    "eq"
   ]
  },
  {
   "cell_type": "code",
   "execution_count": 28,
   "metadata": {},
   "outputs": [
    {
     "data": {
      "text/latex": [
       "$\\displaystyle - \\frac{g \\sin{\\left(\\theta{\\left(t \\right)} \\right)}}{L}$"
      ],
      "text/plain": [
       "-g*sin(theta(t))/L"
      ]
     },
     "execution_count": 28,
     "metadata": {},
     "output_type": "execute_result"
    }
   ],
   "source": [
    "sol = sympy.solve(eq, dff_theta)\n",
    "sol[0]"
   ]
  },
  {
   "cell_type": "markdown",
   "metadata": {},
   "source": [
    "### 2.2.2. Solución Numérica con `scipy.integrate.odeint`"
   ]
  },
  {
   "cell_type": "code",
   "execution_count": 29,
   "metadata": {},
   "outputs": [
    {
     "data": {
      "text/plain": [
       "<function __main__.pendulo_simple(variables, t, g, L)>"
      ]
     },
     "execution_count": 29,
     "metadata": {},
     "output_type": "execute_result"
    }
   ],
   "source": [
    "# PASO 1. Definir la función\n",
    "def pendulo_simple(variables, t, g, L):\n",
    "    # Variables\n",
    "    theta = variables[0]\n",
    "    dtheta_dt = variables[1]\n",
    "    \n",
    "    # Ecuaciones\n",
    "    d2theta_dt2 = -(g/L) * np.sin(np.deg2rad(theta))\n",
    "    \n",
    "    return [dtheta_dt, d2theta_dt2]\n",
    "\n",
    "pendulo_simple"
   ]
  },
  {
   "cell_type": "code",
   "execution_count": 30,
   "metadata": {},
   "outputs": [
    {
     "data": {
      "text/plain": [
       "[30, 0]"
      ]
     },
     "execution_count": 30,
     "metadata": {},
     "output_type": "execute_result"
    }
   ],
   "source": [
    "# PASO 2. Condiciones iniciales\n",
    "condiciones_iniciales = [30, 0] # [x0, dx_dt0]\n",
    "condiciones_iniciales"
   ]
  },
  {
   "cell_type": "code",
   "execution_count": 31,
   "metadata": {},
   "outputs": [
    {
     "data": {
      "text/plain": [
       "array([  0.        ,   0.2002002 ,   0.4004004 ,   0.6006006 ,\n",
       "         0.8008008 ,   1.001001  ,   1.2012012 ,   1.4014014 ,\n",
       "         1.6016016 ,   1.8018018 ,   2.002002  ,   2.2022022 ,\n",
       "         2.4024024 ,   2.6026026 ,   2.8028028 ,   3.003003  ,\n",
       "         3.2032032 ,   3.4034034 ,   3.6036036 ,   3.8038038 ,\n",
       "         4.004004  ,   4.2042042 ,   4.4044044 ,   4.6046046 ,\n",
       "         4.8048048 ,   5.00500501,   5.20520521,   5.40540541,\n",
       "         5.60560561,   5.80580581,   6.00600601,   6.20620621,\n",
       "         6.40640641,   6.60660661,   6.80680681,   7.00700701,\n",
       "         7.20720721,   7.40740741,   7.60760761,   7.80780781,\n",
       "         8.00800801,   8.20820821,   8.40840841,   8.60860861,\n",
       "         8.80880881,   9.00900901,   9.20920921,   9.40940941,\n",
       "         9.60960961,   9.80980981,  10.01001001,  10.21021021,\n",
       "        10.41041041,  10.61061061,  10.81081081,  11.01101101,\n",
       "        11.21121121,  11.41141141,  11.61161161,  11.81181181,\n",
       "        12.01201201,  12.21221221,  12.41241241,  12.61261261,\n",
       "        12.81281281,  13.01301301,  13.21321321,  13.41341341,\n",
       "        13.61361361,  13.81381381,  14.01401401,  14.21421421,\n",
       "        14.41441441,  14.61461461,  14.81481481,  15.01501502,\n",
       "        15.21521522,  15.41541542,  15.61561562,  15.81581582,\n",
       "        16.01601602,  16.21621622,  16.41641642,  16.61661662,\n",
       "        16.81681682,  17.01701702,  17.21721722,  17.41741742,\n",
       "        17.61761762,  17.81781782,  18.01801802,  18.21821822,\n",
       "        18.41841842,  18.61861862,  18.81881882,  19.01901902,\n",
       "        19.21921922,  19.41941942,  19.61961962,  19.81981982,\n",
       "        20.02002002,  20.22022022,  20.42042042,  20.62062062,\n",
       "        20.82082082,  21.02102102,  21.22122122,  21.42142142,\n",
       "        21.62162162,  21.82182182,  22.02202202,  22.22222222,\n",
       "        22.42242242,  22.62262262,  22.82282282,  23.02302302,\n",
       "        23.22322322,  23.42342342,  23.62362362,  23.82382382,\n",
       "        24.02402402,  24.22422422,  24.42442442,  24.62462462,\n",
       "        24.82482482,  25.02502503,  25.22522523,  25.42542543,\n",
       "        25.62562563,  25.82582583,  26.02602603,  26.22622623,\n",
       "        26.42642643,  26.62662663,  26.82682683,  27.02702703,\n",
       "        27.22722723,  27.42742743,  27.62762763,  27.82782783,\n",
       "        28.02802803,  28.22822823,  28.42842843,  28.62862863,\n",
       "        28.82882883,  29.02902903,  29.22922923,  29.42942943,\n",
       "        29.62962963,  29.82982983,  30.03003003,  30.23023023,\n",
       "        30.43043043,  30.63063063,  30.83083083,  31.03103103,\n",
       "        31.23123123,  31.43143143,  31.63163163,  31.83183183,\n",
       "        32.03203203,  32.23223223,  32.43243243,  32.63263263,\n",
       "        32.83283283,  33.03303303,  33.23323323,  33.43343343,\n",
       "        33.63363363,  33.83383383,  34.03403403,  34.23423423,\n",
       "        34.43443443,  34.63463463,  34.83483483,  35.03503504,\n",
       "        35.23523524,  35.43543544,  35.63563564,  35.83583584,\n",
       "        36.03603604,  36.23623624,  36.43643644,  36.63663664,\n",
       "        36.83683684,  37.03703704,  37.23723724,  37.43743744,\n",
       "        37.63763764,  37.83783784,  38.03803804,  38.23823824,\n",
       "        38.43843844,  38.63863864,  38.83883884,  39.03903904,\n",
       "        39.23923924,  39.43943944,  39.63963964,  39.83983984,\n",
       "        40.04004004,  40.24024024,  40.44044044,  40.64064064,\n",
       "        40.84084084,  41.04104104,  41.24124124,  41.44144144,\n",
       "        41.64164164,  41.84184184,  42.04204204,  42.24224224,\n",
       "        42.44244244,  42.64264264,  42.84284284,  43.04304304,\n",
       "        43.24324324,  43.44344344,  43.64364364,  43.84384384,\n",
       "        44.04404404,  44.24424424,  44.44444444,  44.64464464,\n",
       "        44.84484484,  45.04504505,  45.24524525,  45.44544545,\n",
       "        45.64564565,  45.84584585,  46.04604605,  46.24624625,\n",
       "        46.44644645,  46.64664665,  46.84684685,  47.04704705,\n",
       "        47.24724725,  47.44744745,  47.64764765,  47.84784785,\n",
       "        48.04804805,  48.24824825,  48.44844845,  48.64864865,\n",
       "        48.84884885,  49.04904905,  49.24924925,  49.44944945,\n",
       "        49.64964965,  49.84984985,  50.05005005,  50.25025025,\n",
       "        50.45045045,  50.65065065,  50.85085085,  51.05105105,\n",
       "        51.25125125,  51.45145145,  51.65165165,  51.85185185,\n",
       "        52.05205205,  52.25225225,  52.45245245,  52.65265265,\n",
       "        52.85285285,  53.05305305,  53.25325325,  53.45345345,\n",
       "        53.65365365,  53.85385385,  54.05405405,  54.25425425,\n",
       "        54.45445445,  54.65465465,  54.85485485,  55.05505506,\n",
       "        55.25525526,  55.45545546,  55.65565566,  55.85585586,\n",
       "        56.05605606,  56.25625626,  56.45645646,  56.65665666,\n",
       "        56.85685686,  57.05705706,  57.25725726,  57.45745746,\n",
       "        57.65765766,  57.85785786,  58.05805806,  58.25825826,\n",
       "        58.45845846,  58.65865866,  58.85885886,  59.05905906,\n",
       "        59.25925926,  59.45945946,  59.65965966,  59.85985986,\n",
       "        60.06006006,  60.26026026,  60.46046046,  60.66066066,\n",
       "        60.86086086,  61.06106106,  61.26126126,  61.46146146,\n",
       "        61.66166166,  61.86186186,  62.06206206,  62.26226226,\n",
       "        62.46246246,  62.66266266,  62.86286286,  63.06306306,\n",
       "        63.26326326,  63.46346346,  63.66366366,  63.86386386,\n",
       "        64.06406406,  64.26426426,  64.46446446,  64.66466466,\n",
       "        64.86486486,  65.06506507,  65.26526527,  65.46546547,\n",
       "        65.66566567,  65.86586587,  66.06606607,  66.26626627,\n",
       "        66.46646647,  66.66666667,  66.86686687,  67.06706707,\n",
       "        67.26726727,  67.46746747,  67.66766767,  67.86786787,\n",
       "        68.06806807,  68.26826827,  68.46846847,  68.66866867,\n",
       "        68.86886887,  69.06906907,  69.26926927,  69.46946947,\n",
       "        69.66966967,  69.86986987,  70.07007007,  70.27027027,\n",
       "        70.47047047,  70.67067067,  70.87087087,  71.07107107,\n",
       "        71.27127127,  71.47147147,  71.67167167,  71.87187187,\n",
       "        72.07207207,  72.27227227,  72.47247247,  72.67267267,\n",
       "        72.87287287,  73.07307307,  73.27327327,  73.47347347,\n",
       "        73.67367367,  73.87387387,  74.07407407,  74.27427427,\n",
       "        74.47447447,  74.67467467,  74.87487487,  75.07507508,\n",
       "        75.27527528,  75.47547548,  75.67567568,  75.87587588,\n",
       "        76.07607608,  76.27627628,  76.47647648,  76.67667668,\n",
       "        76.87687688,  77.07707708,  77.27727728,  77.47747748,\n",
       "        77.67767768,  77.87787788,  78.07807808,  78.27827828,\n",
       "        78.47847848,  78.67867868,  78.87887888,  79.07907908,\n",
       "        79.27927928,  79.47947948,  79.67967968,  79.87987988,\n",
       "        80.08008008,  80.28028028,  80.48048048,  80.68068068,\n",
       "        80.88088088,  81.08108108,  81.28128128,  81.48148148,\n",
       "        81.68168168,  81.88188188,  82.08208208,  82.28228228,\n",
       "        82.48248248,  82.68268268,  82.88288288,  83.08308308,\n",
       "        83.28328328,  83.48348348,  83.68368368,  83.88388388,\n",
       "        84.08408408,  84.28428428,  84.48448448,  84.68468468,\n",
       "        84.88488488,  85.08508509,  85.28528529,  85.48548549,\n",
       "        85.68568569,  85.88588589,  86.08608609,  86.28628629,\n",
       "        86.48648649,  86.68668669,  86.88688689,  87.08708709,\n",
       "        87.28728729,  87.48748749,  87.68768769,  87.88788789,\n",
       "        88.08808809,  88.28828829,  88.48848849,  88.68868869,\n",
       "        88.88888889,  89.08908909,  89.28928929,  89.48948949,\n",
       "        89.68968969,  89.88988989,  90.09009009,  90.29029029,\n",
       "        90.49049049,  90.69069069,  90.89089089,  91.09109109,\n",
       "        91.29129129,  91.49149149,  91.69169169,  91.89189189,\n",
       "        92.09209209,  92.29229229,  92.49249249,  92.69269269,\n",
       "        92.89289289,  93.09309309,  93.29329329,  93.49349349,\n",
       "        93.69369369,  93.89389389,  94.09409409,  94.29429429,\n",
       "        94.49449449,  94.69469469,  94.89489489,  95.0950951 ,\n",
       "        95.2952953 ,  95.4954955 ,  95.6956957 ,  95.8958959 ,\n",
       "        96.0960961 ,  96.2962963 ,  96.4964965 ,  96.6966967 ,\n",
       "        96.8968969 ,  97.0970971 ,  97.2972973 ,  97.4974975 ,\n",
       "        97.6976977 ,  97.8978979 ,  98.0980981 ,  98.2982983 ,\n",
       "        98.4984985 ,  98.6986987 ,  98.8988989 ,  99.0990991 ,\n",
       "        99.2992993 ,  99.4994995 ,  99.6996997 ,  99.8998999 ,\n",
       "       100.1001001 , 100.3003003 , 100.5005005 , 100.7007007 ,\n",
       "       100.9009009 , 101.1011011 , 101.3013013 , 101.5015015 ,\n",
       "       101.7017017 , 101.9019019 , 102.1021021 , 102.3023023 ,\n",
       "       102.5025025 , 102.7027027 , 102.9029029 , 103.1031031 ,\n",
       "       103.3033033 , 103.5035035 , 103.7037037 , 103.9039039 ,\n",
       "       104.1041041 , 104.3043043 , 104.5045045 , 104.7047047 ,\n",
       "       104.9049049 , 105.10510511, 105.30530531, 105.50550551,\n",
       "       105.70570571, 105.90590591, 106.10610611, 106.30630631,\n",
       "       106.50650651, 106.70670671, 106.90690691, 107.10710711,\n",
       "       107.30730731, 107.50750751, 107.70770771, 107.90790791,\n",
       "       108.10810811, 108.30830831, 108.50850851, 108.70870871,\n",
       "       108.90890891, 109.10910911, 109.30930931, 109.50950951,\n",
       "       109.70970971, 109.90990991, 110.11011011, 110.31031031,\n",
       "       110.51051051, 110.71071071, 110.91091091, 111.11111111,\n",
       "       111.31131131, 111.51151151, 111.71171171, 111.91191191,\n",
       "       112.11211211, 112.31231231, 112.51251251, 112.71271271,\n",
       "       112.91291291, 113.11311311, 113.31331331, 113.51351351,\n",
       "       113.71371371, 113.91391391, 114.11411411, 114.31431431,\n",
       "       114.51451451, 114.71471471, 114.91491491, 115.11511512,\n",
       "       115.31531532, 115.51551552, 115.71571572, 115.91591592,\n",
       "       116.11611612, 116.31631632, 116.51651652, 116.71671672,\n",
       "       116.91691692, 117.11711712, 117.31731732, 117.51751752,\n",
       "       117.71771772, 117.91791792, 118.11811812, 118.31831832,\n",
       "       118.51851852, 118.71871872, 118.91891892, 119.11911912,\n",
       "       119.31931932, 119.51951952, 119.71971972, 119.91991992,\n",
       "       120.12012012, 120.32032032, 120.52052052, 120.72072072,\n",
       "       120.92092092, 121.12112112, 121.32132132, 121.52152152,\n",
       "       121.72172172, 121.92192192, 122.12212212, 122.32232232,\n",
       "       122.52252252, 122.72272272, 122.92292292, 123.12312312,\n",
       "       123.32332332, 123.52352352, 123.72372372, 123.92392392,\n",
       "       124.12412412, 124.32432432, 124.52452452, 124.72472472,\n",
       "       124.92492492, 125.12512513, 125.32532533, 125.52552553,\n",
       "       125.72572573, 125.92592593, 126.12612613, 126.32632633,\n",
       "       126.52652653, 126.72672673, 126.92692693, 127.12712713,\n",
       "       127.32732733, 127.52752753, 127.72772773, 127.92792793,\n",
       "       128.12812813, 128.32832833, 128.52852853, 128.72872873,\n",
       "       128.92892893, 129.12912913, 129.32932933, 129.52952953,\n",
       "       129.72972973, 129.92992993, 130.13013013, 130.33033033,\n",
       "       130.53053053, 130.73073073, 130.93093093, 131.13113113,\n",
       "       131.33133133, 131.53153153, 131.73173173, 131.93193193,\n",
       "       132.13213213, 132.33233233, 132.53253253, 132.73273273,\n",
       "       132.93293293, 133.13313313, 133.33333333, 133.53353353,\n",
       "       133.73373373, 133.93393393, 134.13413413, 134.33433433,\n",
       "       134.53453453, 134.73473473, 134.93493493, 135.13513514,\n",
       "       135.33533534, 135.53553554, 135.73573574, 135.93593594,\n",
       "       136.13613614, 136.33633634, 136.53653654, 136.73673674,\n",
       "       136.93693694, 137.13713714, 137.33733734, 137.53753754,\n",
       "       137.73773774, 137.93793794, 138.13813814, 138.33833834,\n",
       "       138.53853854, 138.73873874, 138.93893894, 139.13913914,\n",
       "       139.33933934, 139.53953954, 139.73973974, 139.93993994,\n",
       "       140.14014014, 140.34034034, 140.54054054, 140.74074074,\n",
       "       140.94094094, 141.14114114, 141.34134134, 141.54154154,\n",
       "       141.74174174, 141.94194194, 142.14214214, 142.34234234,\n",
       "       142.54254254, 142.74274274, 142.94294294, 143.14314314,\n",
       "       143.34334334, 143.54354354, 143.74374374, 143.94394394,\n",
       "       144.14414414, 144.34434434, 144.54454454, 144.74474474,\n",
       "       144.94494494, 145.14514515, 145.34534535, 145.54554555,\n",
       "       145.74574575, 145.94594595, 146.14614615, 146.34634635,\n",
       "       146.54654655, 146.74674675, 146.94694695, 147.14714715,\n",
       "       147.34734735, 147.54754755, 147.74774775, 147.94794795,\n",
       "       148.14814815, 148.34834835, 148.54854855, 148.74874875,\n",
       "       148.94894895, 149.14914915, 149.34934935, 149.54954955,\n",
       "       149.74974975, 149.94994995, 150.15015015, 150.35035035,\n",
       "       150.55055055, 150.75075075, 150.95095095, 151.15115115,\n",
       "       151.35135135, 151.55155155, 151.75175175, 151.95195195,\n",
       "       152.15215215, 152.35235235, 152.55255255, 152.75275275,\n",
       "       152.95295295, 153.15315315, 153.35335335, 153.55355355,\n",
       "       153.75375375, 153.95395395, 154.15415415, 154.35435435,\n",
       "       154.55455455, 154.75475475, 154.95495495, 155.15515516,\n",
       "       155.35535536, 155.55555556, 155.75575576, 155.95595596,\n",
       "       156.15615616, 156.35635636, 156.55655656, 156.75675676,\n",
       "       156.95695696, 157.15715716, 157.35735736, 157.55755756,\n",
       "       157.75775776, 157.95795796, 158.15815816, 158.35835836,\n",
       "       158.55855856, 158.75875876, 158.95895896, 159.15915916,\n",
       "       159.35935936, 159.55955956, 159.75975976, 159.95995996,\n",
       "       160.16016016, 160.36036036, 160.56056056, 160.76076076,\n",
       "       160.96096096, 161.16116116, 161.36136136, 161.56156156,\n",
       "       161.76176176, 161.96196196, 162.16216216, 162.36236236,\n",
       "       162.56256256, 162.76276276, 162.96296296, 163.16316316,\n",
       "       163.36336336, 163.56356356, 163.76376376, 163.96396396,\n",
       "       164.16416416, 164.36436436, 164.56456456, 164.76476476,\n",
       "       164.96496496, 165.16516517, 165.36536537, 165.56556557,\n",
       "       165.76576577, 165.96596597, 166.16616617, 166.36636637,\n",
       "       166.56656657, 166.76676677, 166.96696697, 167.16716717,\n",
       "       167.36736737, 167.56756757, 167.76776777, 167.96796797,\n",
       "       168.16816817, 168.36836837, 168.56856857, 168.76876877,\n",
       "       168.96896897, 169.16916917, 169.36936937, 169.56956957,\n",
       "       169.76976977, 169.96996997, 170.17017017, 170.37037037,\n",
       "       170.57057057, 170.77077077, 170.97097097, 171.17117117,\n",
       "       171.37137137, 171.57157157, 171.77177177, 171.97197197,\n",
       "       172.17217217, 172.37237237, 172.57257257, 172.77277277,\n",
       "       172.97297297, 173.17317317, 173.37337337, 173.57357357,\n",
       "       173.77377377, 173.97397397, 174.17417417, 174.37437437,\n",
       "       174.57457457, 174.77477477, 174.97497497, 175.17517518,\n",
       "       175.37537538, 175.57557558, 175.77577578, 175.97597598,\n",
       "       176.17617618, 176.37637638, 176.57657658, 176.77677678,\n",
       "       176.97697698, 177.17717718, 177.37737738, 177.57757758,\n",
       "       177.77777778, 177.97797798, 178.17817818, 178.37837838,\n",
       "       178.57857858, 178.77877878, 178.97897898, 179.17917918,\n",
       "       179.37937938, 179.57957958, 179.77977978, 179.97997998,\n",
       "       180.18018018, 180.38038038, 180.58058058, 180.78078078,\n",
       "       180.98098098, 181.18118118, 181.38138138, 181.58158158,\n",
       "       181.78178178, 181.98198198, 182.18218218, 182.38238238,\n",
       "       182.58258258, 182.78278278, 182.98298298, 183.18318318,\n",
       "       183.38338338, 183.58358358, 183.78378378, 183.98398398,\n",
       "       184.18418418, 184.38438438, 184.58458458, 184.78478478,\n",
       "       184.98498498, 185.18518519, 185.38538539, 185.58558559,\n",
       "       185.78578579, 185.98598599, 186.18618619, 186.38638639,\n",
       "       186.58658659, 186.78678679, 186.98698699, 187.18718719,\n",
       "       187.38738739, 187.58758759, 187.78778779, 187.98798799,\n",
       "       188.18818819, 188.38838839, 188.58858859, 188.78878879,\n",
       "       188.98898899, 189.18918919, 189.38938939, 189.58958959,\n",
       "       189.78978979, 189.98998999, 190.19019019, 190.39039039,\n",
       "       190.59059059, 190.79079079, 190.99099099, 191.19119119,\n",
       "       191.39139139, 191.59159159, 191.79179179, 191.99199199,\n",
       "       192.19219219, 192.39239239, 192.59259259, 192.79279279,\n",
       "       192.99299299, 193.19319319, 193.39339339, 193.59359359,\n",
       "       193.79379379, 193.99399399, 194.19419419, 194.39439439,\n",
       "       194.59459459, 194.79479479, 194.99499499, 195.1951952 ,\n",
       "       195.3953954 , 195.5955956 , 195.7957958 , 195.995996  ,\n",
       "       196.1961962 , 196.3963964 , 196.5965966 , 196.7967968 ,\n",
       "       196.996997  , 197.1971972 , 197.3973974 , 197.5975976 ,\n",
       "       197.7977978 , 197.997998  , 198.1981982 , 198.3983984 ,\n",
       "       198.5985986 , 198.7987988 , 198.998999  , 199.1991992 ,\n",
       "       199.3993994 , 199.5995996 , 199.7997998 , 200.        ])"
      ]
     },
     "execution_count": 31,
     "metadata": {},
     "output_type": "execute_result"
    }
   ],
   "source": [
    "# PASO 3. Puntos de tiempo\n",
    "start = 0\n",
    "stop = 200\n",
    "num = 1000\n",
    "\n",
    "tiempo = np.linspace(start, stop, num)\n",
    "tiempo"
   ]
  },
  {
   "cell_type": "code",
   "execution_count": 32,
   "metadata": {},
   "outputs": [
    {
     "data": {
      "text/plain": [
       "array([[30.        ,  0.        ],\n",
       "       [29.98034265, -0.19635748],\n",
       "       [29.92139397, -0.39248153],\n",
       "       ...,\n",
       "       [ 5.26781803,  5.40108835],\n",
       "       [ 6.34526135,  5.36134563],\n",
       "       [ 7.41401497,  5.31429067]])"
      ]
     },
     "execution_count": 32,
     "metadata": {},
     "output_type": "execute_result"
    }
   ],
   "source": [
    "# PASO 4. Solcionar ODE\n",
    "## Constantes\n",
    "g = 9.81\n",
    "L = 5.0\n",
    "\n",
    "## Solución numérica\n",
    "sol = integrate.odeint(func=pendulo_simple, \n",
    "                       y0=condiciones_iniciales, \n",
    "                       t=tiempo,\n",
    "                       args=(g, L))\n",
    "\n",
    "sol"
   ]
  },
  {
   "cell_type": "code",
   "execution_count": 33,
   "metadata": {},
   "outputs": [
    {
     "data": {
      "image/png": "[encoded data removed]",
      "text/plain": [
       "<Figure size 640x400 with 1 Axes>"
      ]
     },
     "metadata": {
      "needs_background": "light"
     },
     "output_type": "display_data"
    }
   ],
   "source": [
    "# Gráfica\n",
    "hor = 8\n",
    "ver = 5\n",
    "fig1 = plt.figure(figsize=(hor, ver), dpi=80)\n",
    "\n",
    "plt.plot(tiempo, sol[:,0], linestyle='-', linewidth=3, color='dodgerblue', label='Solución Numérica')\n",
    "\n",
    "formato_grafica(titulo='Comportamiento ODE', \n",
    "                ejex='Tiempo ($t$)', \n",
    "                ejey='$theta(t)$',\n",
    "                leyenda=False)"
   ]
  },
  {
   "cell_type": "markdown",
   "metadata": {},
   "source": [
    "Partimos de la relación:\n",
    "\n",
    "$$\n",
    "T = I \\ddot{\\theta}\n",
    "$$\n",
    "\n",
    "El único componente de la masa que causa un torque en el cuerpo es:\n",
    "\n",
    "$$\n",
    "m g \\sin \\theta\n",
    "$$\n",
    "\n",
    "Luego:\n",
    "\n",
    "$$\n",
    "\\boxed{ \\ddot{\\theta} + \\frac{g}{L} \\sin \\theta = 0 }\n",
    "$$\n"
   ]
  },
  {
   "cell_type": "markdown",
   "metadata": {},
   "source": [
    "## 2.3. Ejemplo 2: Péndulo Simple + Fricción + Fuerza Externa\n",
    "\n",
    "<img src='./img/pendulum2.png' width='800' height='800'/>\n",
    "\n",
    "Este caso es una extensión al Ejemplo 1, pues:\n",
    "\n",
    "$$\n",
    "F = m a\n",
    "$$\n",
    "\n",
    "Luego:\n",
    "\n",
    "$$\n",
    "F_0 \\cos(\\omega t) - mg \\sin(\\theta) - c \\frac{ds}{dt} = ma \n",
    "$$\n",
    "\n",
    "Entonces:\n",
    "\n",
    "$$\n",
    "F_0 \\cos(\\omega t) = m L \\ddot{\\theta} + c L \\dot{\\theta} + mg \\sin(\\theta)\n",
    "$$\n",
    "\n",
    "Que se puede reescribir como:\n",
    "\n",
    "$$\n",
    "\\boxed{ \\ddot{\\theta} + \\alpha \\dot{\\theta} + \\sin(\\theta) = \\gamma \\cos(\\beta t) }\n",
    "$$\n",
    "\n",
    "Donde:\n",
    "\n",
    "$$\n",
    "\\begin{cases}\n",
    "  \\alpha = \\frac{c}{m \\omega_0} \\\\ \n",
    "  \\\\\n",
    "  \\beta = \\frac{\\omega}{\\omega_0} \\\\\n",
    "  \\\\\n",
    "  \\gamma = \\frac{F_0}{m L \\omega_0^2}\n",
    "\\end{cases} \n",
    "$$\n",
    "\n",
    "<div class='alert alert-block alert-info'> \n",
    "\n",
    "<i class='fa fa-info-circle' aria-hidden='true'></i>\n",
    "Puede obtener más información del ejercicio dando clic [aquí](https://www.youtube.com/watch?v=SZWn7x4g-Vo).\n",
    "</div>"
   ]
  },
  {
   "cell_type": "markdown",
   "metadata": {},
   "source": [
    "Modelemos esta ODE de segundo grado para:\n",
    "\n",
    "**Constantes**\n",
    "- $c = 0.5$\n",
    "- $m = 2$\n",
    "- $\\omega_0 = 50$\n",
    "- $\\beta = 0.98$\n",
    "- $F_0 = 150$\n",
    "- $L = 8$\n",
    "\n",
    "**Parámetros ODE**\n",
    "- $x(t=0) \\rightarrow x_0 = 30$\n",
    "- $dx(t=0) \\rightarrow dx_0 = 0$\n",
    "- $t_{inicial} = 0$\n",
    "- $t_{final} = 1000$"
   ]
  },
  {
   "cell_type": "markdown",
   "metadata": {},
   "source": [
    "### 2.3.1. Derivada con `sympy.diff` y `sympy.solve`\n",
    "\n"
   ]
  },
  {
   "cell_type": "code",
   "execution_count": 34,
   "metadata": {},
   "outputs": [],
   "source": [
    "alpha, beta, gamma, t = sympy.symbols('alpha, beta, gamma, t')"
   ]
  },
  {
   "cell_type": "code",
   "execution_count": 35,
   "metadata": {},
   "outputs": [
    {
     "data": {
      "text/latex": [
       "$\\displaystyle \\theta{\\left(t \\right)}$"
      ],
      "text/plain": [
       "theta(t)"
      ]
     },
     "execution_count": 35,
     "metadata": {},
     "output_type": "execute_result"
    }
   ],
   "source": [
    "theta = dynamicsymbols('theta')\n",
    "theta"
   ]
  },
  {
   "cell_type": "code",
   "execution_count": 36,
   "metadata": {},
   "outputs": [
    {
     "data": {
      "text/latex": [
       "$\\displaystyle \\frac{d}{d t} \\theta{\\left(t \\right)}$"
      ],
      "text/plain": [
       "Derivative(theta(t), t)"
      ]
     },
     "execution_count": 36,
     "metadata": {},
     "output_type": "execute_result"
    }
   ],
   "source": [
    "df_theta = sympy.diff(theta, t)\n",
    "df_theta"
   ]
  },
  {
   "cell_type": "code",
   "execution_count": 37,
   "metadata": {},
   "outputs": [
    {
     "data": {
      "text/latex": [
       "$\\displaystyle \\frac{d^{2}}{d t^{2}} \\theta{\\left(t \\right)}$"
      ],
      "text/plain": [
       "Derivative(theta(t), (t, 2))"
      ]
     },
     "execution_count": 37,
     "metadata": {},
     "output_type": "execute_result"
    }
   ],
   "source": [
    "dff_theta = sympy.diff(df_theta, t)\n",
    "dff_theta"
   ]
  },
  {
   "cell_type": "code",
   "execution_count": 38,
   "metadata": {},
   "outputs": [
    {
     "data": {
      "text/latex": [
       "$\\displaystyle \\alpha \\frac{d}{d t} \\theta{\\left(t \\right)} + \\sin{\\left(\\theta{\\left(t \\right)} \\right)} + \\frac{d^{2}}{d t^{2}} \\theta{\\left(t \\right)} = \\gamma \\cos{\\left(\\beta t \\right)}$"
      ],
      "text/plain": [
       "Eq(alpha*Derivative(theta(t), t) + sin(theta(t)) + Derivative(theta(t), (t, 2)), gamma*cos(beta*t))"
      ]
     },
     "execution_count": 38,
     "metadata": {},
     "output_type": "execute_result"
    }
   ],
   "source": [
    "eq = sympy.Eq(dff_theta + alpha*df_theta + sympy.sin(theta), gamma*sympy.cos(beta*t))\n",
    "eq"
   ]
  },
  {
   "cell_type": "code",
   "execution_count": 39,
   "metadata": {},
   "outputs": [
    {
     "data": {
      "text/latex": [
       "$\\displaystyle - \\alpha \\frac{d}{d t} \\theta{\\left(t \\right)} + \\gamma \\cos{\\left(\\beta t \\right)} - \\sin{\\left(\\theta{\\left(t \\right)} \\right)}$"
      ],
      "text/plain": [
       "-alpha*Derivative(theta(t), t) + gamma*cos(beta*t) - sin(theta(t))"
      ]
     },
     "execution_count": 39,
     "metadata": {},
     "output_type": "execute_result"
    }
   ],
   "source": [
    "sol = sympy.solve(eq, dff_theta)\n",
    "sol[0]"
   ]
  },
  {
   "cell_type": "markdown",
   "metadata": {},
   "source": [
    "### 2.3.2. Solución Numérica con `scipy.integrate.odeint`"
   ]
  },
  {
   "cell_type": "code",
   "execution_count": 40,
   "metadata": {},
   "outputs": [
    {
     "data": {
      "text/plain": [
       "<function __main__.pendulo_friccion(variables, t, alpha, beta, gamma)>"
      ]
     },
     "execution_count": 40,
     "metadata": {},
     "output_type": "execute_result"
    }
   ],
   "source": [
    "# PASO 1. Definir la función\n",
    "def pendulo_friccion(variables, t, alpha, beta, gamma):\n",
    "    # Variables\n",
    "    theta = variables[0]\n",
    "    dtheta = variables[1]\n",
    "    \n",
    "    # Ecuaciones\n",
    "    d2theta = -alpha*dtheta - np.sin(np.deg2rad(theta)) + gamma*np.cos(np.deg2rad(beta*t))\n",
    "    \n",
    "    return [dtheta, d2theta]\n",
    "\n",
    "pendulo_friccion"
   ]
  },
  {
   "cell_type": "code",
   "execution_count": 41,
   "metadata": {},
   "outputs": [
    {
     "data": {
      "text/plain": [
       "[30, 0]"
      ]
     },
     "execution_count": 41,
     "metadata": {},
     "output_type": "execute_result"
    }
   ],
   "source": [
    "# PASO 2. Condiciones iniciales\n",
    "condiciones_iniciales = [30, 0] # [x0, dx_dt0]\n",
    "condiciones_iniciales"
   ]
  },
  {
   "cell_type": "code",
   "execution_count": 42,
   "metadata": {},
   "outputs": [
    {
     "data": {
      "text/plain": [
       "array([   0.        ,    1.001001  ,    2.002002  ,    3.003003  ,\n",
       "          4.004004  ,    5.00500501,    6.00600601,    7.00700701,\n",
       "          8.00800801,    9.00900901,   10.01001001,   11.01101101,\n",
       "         12.01201201,   13.01301301,   14.01401401,   15.01501502,\n",
       "         16.01601602,   17.01701702,   18.01801802,   19.01901902,\n",
       "         20.02002002,   21.02102102,   22.02202202,   23.02302302,\n",
       "         24.02402402,   25.02502503,   26.02602603,   27.02702703,\n",
       "         28.02802803,   29.02902903,   30.03003003,   31.03103103,\n",
       "         32.03203203,   33.03303303,   34.03403403,   35.03503504,\n",
       "         36.03603604,   37.03703704,   38.03803804,   39.03903904,\n",
       "         40.04004004,   41.04104104,   42.04204204,   43.04304304,\n",
       "         44.04404404,   45.04504505,   46.04604605,   47.04704705,\n",
       "         48.04804805,   49.04904905,   50.05005005,   51.05105105,\n",
       "         52.05205205,   53.05305305,   54.05405405,   55.05505506,\n",
       "         56.05605606,   57.05705706,   58.05805806,   59.05905906,\n",
       "         60.06006006,   61.06106106,   62.06206206,   63.06306306,\n",
       "         64.06406406,   65.06506507,   66.06606607,   67.06706707,\n",
       "         68.06806807,   69.06906907,   70.07007007,   71.07107107,\n",
       "         72.07207207,   73.07307307,   74.07407407,   75.07507508,\n",
       "         76.07607608,   77.07707708,   78.07807808,   79.07907908,\n",
       "         80.08008008,   81.08108108,   82.08208208,   83.08308308,\n",
       "         84.08408408,   85.08508509,   86.08608609,   87.08708709,\n",
       "         88.08808809,   89.08908909,   90.09009009,   91.09109109,\n",
       "         92.09209209,   93.09309309,   94.09409409,   95.0950951 ,\n",
       "         96.0960961 ,   97.0970971 ,   98.0980981 ,   99.0990991 ,\n",
       "        100.1001001 ,  101.1011011 ,  102.1021021 ,  103.1031031 ,\n",
       "        104.1041041 ,  105.10510511,  106.10610611,  107.10710711,\n",
       "        108.10810811,  109.10910911,  110.11011011,  111.11111111,\n",
       "        112.11211211,  113.11311311,  114.11411411,  115.11511512,\n",
       "        116.11611612,  117.11711712,  118.11811812,  119.11911912,\n",
       "        120.12012012,  121.12112112,  122.12212212,  123.12312312,\n",
       "        124.12412412,  125.12512513,  126.12612613,  127.12712713,\n",
       "        128.12812813,  129.12912913,  130.13013013,  131.13113113,\n",
       "        132.13213213,  133.13313313,  134.13413413,  135.13513514,\n",
       "        136.13613614,  137.13713714,  138.13813814,  139.13913914,\n",
       "        140.14014014,  141.14114114,  142.14214214,  143.14314314,\n",
       "        144.14414414,  145.14514515,  146.14614615,  147.14714715,\n",
       "        148.14814815,  149.14914915,  150.15015015,  151.15115115,\n",
       "        152.15215215,  153.15315315,  154.15415415,  155.15515516,\n",
       "        156.15615616,  157.15715716,  158.15815816,  159.15915916,\n",
       "        160.16016016,  161.16116116,  162.16216216,  163.16316316,\n",
       "        164.16416416,  165.16516517,  166.16616617,  167.16716717,\n",
       "        168.16816817,  169.16916917,  170.17017017,  171.17117117,\n",
       "        172.17217217,  173.17317317,  174.17417417,  175.17517518,\n",
       "        176.17617618,  177.17717718,  178.17817818,  179.17917918,\n",
       "        180.18018018,  181.18118118,  182.18218218,  183.18318318,\n",
       "        184.18418418,  185.18518519,  186.18618619,  187.18718719,\n",
       "        188.18818819,  189.18918919,  190.19019019,  191.19119119,\n",
       "        192.19219219,  193.19319319,  194.19419419,  195.1951952 ,\n",
       "        196.1961962 ,  197.1971972 ,  198.1981982 ,  199.1991992 ,\n",
       "        200.2002002 ,  201.2012012 ,  202.2022022 ,  203.2032032 ,\n",
       "        204.2042042 ,  205.20520521,  206.20620621,  207.20720721,\n",
       "        208.20820821,  209.20920921,  210.21021021,  211.21121121,\n",
       "        212.21221221,  213.21321321,  214.21421421,  215.21521522,\n",
       "        216.21621622,  217.21721722,  218.21821822,  219.21921922,\n",
       "        220.22022022,  221.22122122,  222.22222222,  223.22322322,\n",
       "        224.22422422,  225.22522523,  226.22622623,  227.22722723,\n",
       "        228.22822823,  229.22922923,  230.23023023,  231.23123123,\n",
       "        232.23223223,  233.23323323,  234.23423423,  235.23523524,\n",
       "        236.23623624,  237.23723724,  238.23823824,  239.23923924,\n",
       "        240.24024024,  241.24124124,  242.24224224,  243.24324324,\n",
       "        244.24424424,  245.24524525,  246.24624625,  247.24724725,\n",
       "        248.24824825,  249.24924925,  250.25025025,  251.25125125,\n",
       "        252.25225225,  253.25325325,  254.25425425,  255.25525526,\n",
       "        256.25625626,  257.25725726,  258.25825826,  259.25925926,\n",
       "        260.26026026,  261.26126126,  262.26226226,  263.26326326,\n",
       "        264.26426426,  265.26526527,  266.26626627,  267.26726727,\n",
       "        268.26826827,  269.26926927,  270.27027027,  271.27127127,\n",
       "        272.27227227,  273.27327327,  274.27427427,  275.27527528,\n",
       "        276.27627628,  277.27727728,  278.27827828,  279.27927928,\n",
       "        280.28028028,  281.28128128,  282.28228228,  283.28328328,\n",
       "        284.28428428,  285.28528529,  286.28628629,  287.28728729,\n",
       "        288.28828829,  289.28928929,  290.29029029,  291.29129129,\n",
       "        292.29229229,  293.29329329,  294.29429429,  295.2952953 ,\n",
       "        296.2962963 ,  297.2972973 ,  298.2982983 ,  299.2992993 ,\n",
       "        300.3003003 ,  301.3013013 ,  302.3023023 ,  303.3033033 ,\n",
       "        304.3043043 ,  305.30530531,  306.30630631,  307.30730731,\n",
       "        308.30830831,  309.30930931,  310.31031031,  311.31131131,\n",
       "        312.31231231,  313.31331331,  314.31431431,  315.31531532,\n",
       "        316.31631632,  317.31731732,  318.31831832,  319.31931932,\n",
       "        320.32032032,  321.32132132,  322.32232232,  323.32332332,\n",
       "        324.32432432,  325.32532533,  326.32632633,  327.32732733,\n",
       "        328.32832833,  329.32932933,  330.33033033,  331.33133133,\n",
       "        332.33233233,  333.33333333,  334.33433433,  335.33533534,\n",
       "        336.33633634,  337.33733734,  338.33833834,  339.33933934,\n",
       "        340.34034034,  341.34134134,  342.34234234,  343.34334334,\n",
       "        344.34434434,  345.34534535,  346.34634635,  347.34734735,\n",
       "        348.34834835,  349.34934935,  350.35035035,  351.35135135,\n",
       "        352.35235235,  353.35335335,  354.35435435,  355.35535536,\n",
       "        356.35635636,  357.35735736,  358.35835836,  359.35935936,\n",
       "        360.36036036,  361.36136136,  362.36236236,  363.36336336,\n",
       "        364.36436436,  365.36536537,  366.36636637,  367.36736737,\n",
       "        368.36836837,  369.36936937,  370.37037037,  371.37137137,\n",
       "        372.37237237,  373.37337337,  374.37437437,  375.37537538,\n",
       "        376.37637638,  377.37737738,  378.37837838,  379.37937938,\n",
       "        380.38038038,  381.38138138,  382.38238238,  383.38338338,\n",
       "        384.38438438,  385.38538539,  386.38638639,  387.38738739,\n",
       "        388.38838839,  389.38938939,  390.39039039,  391.39139139,\n",
       "        392.39239239,  393.39339339,  394.39439439,  395.3953954 ,\n",
       "        396.3963964 ,  397.3973974 ,  398.3983984 ,  399.3993994 ,\n",
       "        400.4004004 ,  401.4014014 ,  402.4024024 ,  403.4034034 ,\n",
       "        404.4044044 ,  405.40540541,  406.40640641,  407.40740741,\n",
       "        408.40840841,  409.40940941,  410.41041041,  411.41141141,\n",
       "        412.41241241,  413.41341341,  414.41441441,  415.41541542,\n",
       "        416.41641642,  417.41741742,  418.41841842,  419.41941942,\n",
       "        420.42042042,  421.42142142,  422.42242242,  423.42342342,\n",
       "        424.42442442,  425.42542543,  426.42642643,  427.42742743,\n",
       "        428.42842843,  429.42942943,  430.43043043,  431.43143143,\n",
       "        432.43243243,  433.43343343,  434.43443443,  435.43543544,\n",
       "        436.43643644,  437.43743744,  438.43843844,  439.43943944,\n",
       "        440.44044044,  441.44144144,  442.44244244,  443.44344344,\n",
       "        444.44444444,  445.44544545,  446.44644645,  447.44744745,\n",
       "        448.44844845,  449.44944945,  450.45045045,  451.45145145,\n",
       "        452.45245245,  453.45345345,  454.45445445,  455.45545546,\n",
       "        456.45645646,  457.45745746,  458.45845846,  459.45945946,\n",
       "        460.46046046,  461.46146146,  462.46246246,  463.46346346,\n",
       "        464.46446446,  465.46546547,  466.46646647,  467.46746747,\n",
       "        468.46846847,  469.46946947,  470.47047047,  471.47147147,\n",
       "        472.47247247,  473.47347347,  474.47447447,  475.47547548,\n",
       "        476.47647648,  477.47747748,  478.47847848,  479.47947948,\n",
       "        480.48048048,  481.48148148,  482.48248248,  483.48348348,\n",
       "        484.48448448,  485.48548549,  486.48648649,  487.48748749,\n",
       "        488.48848849,  489.48948949,  490.49049049,  491.49149149,\n",
       "        492.49249249,  493.49349349,  494.49449449,  495.4954955 ,\n",
       "        496.4964965 ,  497.4974975 ,  498.4984985 ,  499.4994995 ,\n",
       "        500.5005005 ,  501.5015015 ,  502.5025025 ,  503.5035035 ,\n",
       "        504.5045045 ,  505.50550551,  506.50650651,  507.50750751,\n",
       "        508.50850851,  509.50950951,  510.51051051,  511.51151151,\n",
       "        512.51251251,  513.51351351,  514.51451451,  515.51551552,\n",
       "        516.51651652,  517.51751752,  518.51851852,  519.51951952,\n",
       "        520.52052052,  521.52152152,  522.52252252,  523.52352352,\n",
       "        524.52452452,  525.52552553,  526.52652653,  527.52752753,\n",
       "        528.52852853,  529.52952953,  530.53053053,  531.53153153,\n",
       "        532.53253253,  533.53353353,  534.53453453,  535.53553554,\n",
       "        536.53653654,  537.53753754,  538.53853854,  539.53953954,\n",
       "        540.54054054,  541.54154154,  542.54254254,  543.54354354,\n",
       "        544.54454454,  545.54554555,  546.54654655,  547.54754755,\n",
       "        548.54854855,  549.54954955,  550.55055055,  551.55155155,\n",
       "        552.55255255,  553.55355355,  554.55455455,  555.55555556,\n",
       "        556.55655656,  557.55755756,  558.55855856,  559.55955956,\n",
       "        560.56056056,  561.56156156,  562.56256256,  563.56356356,\n",
       "        564.56456456,  565.56556557,  566.56656657,  567.56756757,\n",
       "        568.56856857,  569.56956957,  570.57057057,  571.57157157,\n",
       "        572.57257257,  573.57357357,  574.57457457,  575.57557558,\n",
       "        576.57657658,  577.57757758,  578.57857858,  579.57957958,\n",
       "        580.58058058,  581.58158158,  582.58258258,  583.58358358,\n",
       "        584.58458458,  585.58558559,  586.58658659,  587.58758759,\n",
       "        588.58858859,  589.58958959,  590.59059059,  591.59159159,\n",
       "        592.59259259,  593.59359359,  594.59459459,  595.5955956 ,\n",
       "        596.5965966 ,  597.5975976 ,  598.5985986 ,  599.5995996 ,\n",
       "        600.6006006 ,  601.6016016 ,  602.6026026 ,  603.6036036 ,\n",
       "        604.6046046 ,  605.60560561,  606.60660661,  607.60760761,\n",
       "        608.60860861,  609.60960961,  610.61061061,  611.61161161,\n",
       "        612.61261261,  613.61361361,  614.61461461,  615.61561562,\n",
       "        616.61661662,  617.61761762,  618.61861862,  619.61961962,\n",
       "        620.62062062,  621.62162162,  622.62262262,  623.62362362,\n",
       "        624.62462462,  625.62562563,  626.62662663,  627.62762763,\n",
       "        628.62862863,  629.62962963,  630.63063063,  631.63163163,\n",
       "        632.63263263,  633.63363363,  634.63463463,  635.63563564,\n",
       "        636.63663664,  637.63763764,  638.63863864,  639.63963964,\n",
       "        640.64064064,  641.64164164,  642.64264264,  643.64364364,\n",
       "        644.64464464,  645.64564565,  646.64664665,  647.64764765,\n",
       "        648.64864865,  649.64964965,  650.65065065,  651.65165165,\n",
       "        652.65265265,  653.65365365,  654.65465465,  655.65565566,\n",
       "        656.65665666,  657.65765766,  658.65865866,  659.65965966,\n",
       "        660.66066066,  661.66166166,  662.66266266,  663.66366366,\n",
       "        664.66466466,  665.66566567,  666.66666667,  667.66766767,\n",
       "        668.66866867,  669.66966967,  670.67067067,  671.67167167,\n",
       "        672.67267267,  673.67367367,  674.67467467,  675.67567568,\n",
       "        676.67667668,  677.67767768,  678.67867868,  679.67967968,\n",
       "        680.68068068,  681.68168168,  682.68268268,  683.68368368,\n",
       "        684.68468468,  685.68568569,  686.68668669,  687.68768769,\n",
       "        688.68868869,  689.68968969,  690.69069069,  691.69169169,\n",
       "        692.69269269,  693.69369369,  694.69469469,  695.6956957 ,\n",
       "        696.6966967 ,  697.6976977 ,  698.6986987 ,  699.6996997 ,\n",
       "        700.7007007 ,  701.7017017 ,  702.7027027 ,  703.7037037 ,\n",
       "        704.7047047 ,  705.70570571,  706.70670671,  707.70770771,\n",
       "        708.70870871,  709.70970971,  710.71071071,  711.71171171,\n",
       "        712.71271271,  713.71371371,  714.71471471,  715.71571572,\n",
       "        716.71671672,  717.71771772,  718.71871872,  719.71971972,\n",
       "        720.72072072,  721.72172172,  722.72272272,  723.72372372,\n",
       "        724.72472472,  725.72572573,  726.72672673,  727.72772773,\n",
       "        728.72872873,  729.72972973,  730.73073073,  731.73173173,\n",
       "        732.73273273,  733.73373373,  734.73473473,  735.73573574,\n",
       "        736.73673674,  737.73773774,  738.73873874,  739.73973974,\n",
       "        740.74074074,  741.74174174,  742.74274274,  743.74374374,\n",
       "        744.74474474,  745.74574575,  746.74674675,  747.74774775,\n",
       "        748.74874875,  749.74974975,  750.75075075,  751.75175175,\n",
       "        752.75275275,  753.75375375,  754.75475475,  755.75575576,\n",
       "        756.75675676,  757.75775776,  758.75875876,  759.75975976,\n",
       "        760.76076076,  761.76176176,  762.76276276,  763.76376376,\n",
       "        764.76476476,  765.76576577,  766.76676677,  767.76776777,\n",
       "        768.76876877,  769.76976977,  770.77077077,  771.77177177,\n",
       "        772.77277277,  773.77377377,  774.77477477,  775.77577578,\n",
       "        776.77677678,  777.77777778,  778.77877878,  779.77977978,\n",
       "        780.78078078,  781.78178178,  782.78278278,  783.78378378,\n",
       "        784.78478478,  785.78578579,  786.78678679,  787.78778779,\n",
       "        788.78878879,  789.78978979,  790.79079079,  791.79179179,\n",
       "        792.79279279,  793.79379379,  794.79479479,  795.7957958 ,\n",
       "        796.7967968 ,  797.7977978 ,  798.7987988 ,  799.7997998 ,\n",
       "        800.8008008 ,  801.8018018 ,  802.8028028 ,  803.8038038 ,\n",
       "        804.8048048 ,  805.80580581,  806.80680681,  807.80780781,\n",
       "        808.80880881,  809.80980981,  810.81081081,  811.81181181,\n",
       "        812.81281281,  813.81381381,  814.81481481,  815.81581582,\n",
       "        816.81681682,  817.81781782,  818.81881882,  819.81981982,\n",
       "        820.82082082,  821.82182182,  822.82282282,  823.82382382,\n",
       "        824.82482482,  825.82582583,  826.82682683,  827.82782783,\n",
       "        828.82882883,  829.82982983,  830.83083083,  831.83183183,\n",
       "        832.83283283,  833.83383383,  834.83483483,  835.83583584,\n",
       "        836.83683684,  837.83783784,  838.83883884,  839.83983984,\n",
       "        840.84084084,  841.84184184,  842.84284284,  843.84384384,\n",
       "        844.84484484,  845.84584585,  846.84684685,  847.84784785,\n",
       "        848.84884885,  849.84984985,  850.85085085,  851.85185185,\n",
       "        852.85285285,  853.85385385,  854.85485485,  855.85585586,\n",
       "        856.85685686,  857.85785786,  858.85885886,  859.85985986,\n",
       "        860.86086086,  861.86186186,  862.86286286,  863.86386386,\n",
       "        864.86486486,  865.86586587,  866.86686687,  867.86786787,\n",
       "        868.86886887,  869.86986987,  870.87087087,  871.87187187,\n",
       "        872.87287287,  873.87387387,  874.87487487,  875.87587588,\n",
       "        876.87687688,  877.87787788,  878.87887888,  879.87987988,\n",
       "        880.88088088,  881.88188188,  882.88288288,  883.88388388,\n",
       "        884.88488488,  885.88588589,  886.88688689,  887.88788789,\n",
       "        888.88888889,  889.88988989,  890.89089089,  891.89189189,\n",
       "        892.89289289,  893.89389389,  894.89489489,  895.8958959 ,\n",
       "        896.8968969 ,  897.8978979 ,  898.8988989 ,  899.8998999 ,\n",
       "        900.9009009 ,  901.9019019 ,  902.9029029 ,  903.9039039 ,\n",
       "        904.9049049 ,  905.90590591,  906.90690691,  907.90790791,\n",
       "        908.90890891,  909.90990991,  910.91091091,  911.91191191,\n",
       "        912.91291291,  913.91391391,  914.91491491,  915.91591592,\n",
       "        916.91691692,  917.91791792,  918.91891892,  919.91991992,\n",
       "        920.92092092,  921.92192192,  922.92292292,  923.92392392,\n",
       "        924.92492492,  925.92592593,  926.92692693,  927.92792793,\n",
       "        928.92892893,  929.92992993,  930.93093093,  931.93193193,\n",
       "        932.93293293,  933.93393393,  934.93493493,  935.93593594,\n",
       "        936.93693694,  937.93793794,  938.93893894,  939.93993994,\n",
       "        940.94094094,  941.94194194,  942.94294294,  943.94394394,\n",
       "        944.94494494,  945.94594595,  946.94694695,  947.94794795,\n",
       "        948.94894895,  949.94994995,  950.95095095,  951.95195195,\n",
       "        952.95295295,  953.95395395,  954.95495495,  955.95595596,\n",
       "        956.95695696,  957.95795796,  958.95895896,  959.95995996,\n",
       "        960.96096096,  961.96196196,  962.96296296,  963.96396396,\n",
       "        964.96496496,  965.96596597,  966.96696697,  967.96796797,\n",
       "        968.96896897,  969.96996997,  970.97097097,  971.97197197,\n",
       "        972.97297297,  973.97397397,  974.97497497,  975.97597598,\n",
       "        976.97697698,  977.97797798,  978.97897898,  979.97997998,\n",
       "        980.98098098,  981.98198198,  982.98298298,  983.98398398,\n",
       "        984.98498498,  985.98598599,  986.98698699,  987.98798799,\n",
       "        988.98898899,  989.98998999,  990.99099099,  991.99199199,\n",
       "        992.99299299,  993.99399399,  994.99499499,  995.995996  ,\n",
       "        996.996997  ,  997.997998  ,  998.998999  , 1000.        ])"
      ]
     },
     "execution_count": 42,
     "metadata": {},
     "output_type": "execute_result"
    }
   ],
   "source": [
    "# PASO 3. Puntos de tiempo\n",
    "start = 0\n",
    "stop = 1000\n",
    "num = 1000\n",
    "\n",
    "tiempo = np.linspace(start, stop, num)\n",
    "tiempo"
   ]
  },
  {
   "cell_type": "code",
   "execution_count": 43,
   "metadata": {},
   "outputs": [
    {
     "data": {
      "text/plain": [
       "array([[30.        ,  0.        ],\n",
       "       [29.75210539, -0.49425513],\n",
       "       [29.01382161, -0.97855868],\n",
       "       ...,\n",
       "       [ 1.9890484 ,  0.17611783],\n",
       "       [ 2.14667782,  0.13840891],\n",
       "       [ 2.26542283,  0.09854181]])"
      ]
     },
     "execution_count": 43,
     "metadata": {},
     "output_type": "execute_result"
    }
   ],
   "source": [
    "# PASO 4. Solcionar ODE\n",
    "## Constantes\n",
    "c = 0.5\n",
    "m = 2.0\n",
    "omega = 50.0\n",
    "beta = 0.98\n",
    "F = 150\n",
    "L = 8.0\n",
    "\n",
    "alpha = c / (m*omega)\n",
    "gamma = F / (m*L*(omega**2))\n",
    "\n",
    "## Solución numérica\n",
    "sol = integrate.odeint(func=pendulo_friccion, \n",
    "                       y0=condiciones_iniciales, \n",
    "                       t=tiempo,\n",
    "                       args=(alpha, beta, gamma))\n",
    "\n",
    "sol"
   ]
  },
  {
   "cell_type": "code",
   "execution_count": 44,
   "metadata": {},
   "outputs": [
    {
     "data": {
      "image/png": "[encoded data removed]",
      "text/plain": [
       "<Figure size 800x240 with 1 Axes>"
      ]
     },
     "metadata": {
      "needs_background": "light"
     },
     "output_type": "display_data"
    },
    {
     "data": {
      "image/png": "[encoded data removed]",
      "text/plain": [
       "<Figure size 800x240 with 1 Axes>"
      ]
     },
     "metadata": {
      "needs_background": "light"
     },
     "output_type": "display_data"
    }
   ],
   "source": [
    "# Gráfica\n",
    "hor = 10\n",
    "ver = 3\n",
    "\n",
    "# Ángulo\n",
    "fig = plt.figure(figsize=(hor, ver), dpi=80)\n",
    "\n",
    "plt.plot(tiempo, sol[:,0], linestyle='-', linewidth=2, color='dodgerblue', label='Solución Numérica')\n",
    "\n",
    "formato_grafica(titulo='', \n",
    "                ejex='Tiempo ($t$)', \n",
    "                ejey='θ (rad)',\n",
    "                leyenda=False)\n",
    "\n",
    "# Velocidad Angular\n",
    "fig = plt.figure(figsize=(hor, ver), dpi=80)\n",
    "\n",
    "plt.plot(tiempo, sol[:,1], linestyle='-', linewidth=2, color='orange', label='Solución Numérica')\n",
    "\n",
    "formato_grafica(titulo='', \n",
    "                ejex='Tiempo ($t$)', \n",
    "                ejey='ω (rad/s)',\n",
    "                leyenda=False)"
   ]
  },
  {
   "cell_type": "markdown",
   "metadata": {},
   "source": [
    "## 2.4. Ejemplo 3: Masa-Resorte\n",
    "\n",
    "<img src='./img/spring1.png' width='800' height='800'/>\n",
    "\n",
    "El escenario de una masa-resorte parte de:\n",
    "\n",
    "$$\n",
    "F = m a = m \\ddot{x}\n",
    "$$\n",
    "\n",
    "En donde se tienen los siguientes elementos presentes:\n",
    "\n",
    "$$\n",
    "\\begin{cases}\n",
    "  \\text{Ley de Hooke} \\rightarrow F_s = -k x \\\\ \n",
    "  \\\\\n",
    "  \\text{Fricción} \\rightarrow \\beta = F_f = -c \\frac{dx}{dt} = -c \\dot{x} \\\\\n",
    "  \\\\\n",
    "  \\text{Fuerza Externa} \\rightarrow F_e = F_0 \\cos(\\omega t)\n",
    "\\end{cases} \n",
    "$$\n",
    "\n",
    "Luego:\n",
    "\n",
    "$$\n",
    "F_0 \\cos(\\omega t) - c \\dot{x} - k x = m \\ddot{x}\n",
    "$$\n",
    "\n",
    "Entonces:\n",
    "\n",
    "$$\n",
    "m \\ddot{x} + c \\dot{x} + k x = F_0 \\cos(\\omega t)\n",
    "$$\n",
    "\n",
    "Que se puede reescribir como:\n",
    "\n",
    "$$\n",
    "\\boxed{ \\ddot{x} + \\alpha \\dot{x} + \\gamma x = \\cos(\\beta t) }\n",
    "$$\n",
    "\n",
    "Donde:\n",
    "\n",
    "$$\n",
    "\\begin{cases}\n",
    "  \\alpha = \\frac{c}{m \\omega_0} \\\\ \n",
    "  \\\\\n",
    "  \\gamma = \\frac{m \\omega_0^2}{F_0} \\\\\n",
    "\\end{cases} \n",
    "$$\n",
    "\n",
    "<div class='alert alert-block alert-info'> \n",
    "\n",
    "<i class='fa fa-info-circle' aria-hidden='true'></i>\n",
    "Puede obtener más información del ejercicio dando clic [aquí](https://www.youtube.com/watch?v=gwkBOH7EClo).\n",
    "</div>"
   ]
  },
  {
   "cell_type": "markdown",
   "metadata": {},
   "source": [
    "### 2.4.1. Derivada con `sympy.diff` y `sympy.solve`\n",
    "\n",
    "<div class='alert alert-block alert-info'> \n",
    "\n",
    "<i class='fa fa-info-circle' aria-hidden='true'></i>\n",
    "Puede obtener más información en la documentación oficial de la librería `sympy.diff` dando clic [aquí](https://docs.sympy.org/latest/tutorials/intro-tutorial/calculus.html).\n",
    "</div>\n",
    "\n",
    "<div class='alert alert-block alert-info'>   \n",
    "    \n",
    "<i class='fa fa-info-circle' aria-hidden='true'></i>\n",
    "Puede obtener más información en la documentación oficial de la librería `sympy.solve` dando clic [aquí](https://docs.sympy.org/latest/modules/solvers/solvers.html).\n",
    "</div>"
   ]
  },
  {
   "cell_type": "code",
   "execution_count": 45,
   "metadata": {},
   "outputs": [],
   "source": [
    "alpha, beta, gamma, t = sympy.symbols('alpha, beta, gamma, t')"
   ]
  },
  {
   "cell_type": "code",
   "execution_count": 46,
   "metadata": {},
   "outputs": [
    {
     "data": {
      "text/latex": [
       "$\\displaystyle x{\\left(t \\right)}$"
      ],
      "text/plain": [
       "x(t)"
      ]
     },
     "execution_count": 46,
     "metadata": {},
     "output_type": "execute_result"
    }
   ],
   "source": [
    "x = dynamicsymbols('x')\n",
    "x"
   ]
  },
  {
   "cell_type": "code",
   "execution_count": 47,
   "metadata": {},
   "outputs": [
    {
     "data": {
      "text/latex": [
       "$\\displaystyle \\frac{d}{d t} x{\\left(t \\right)}$"
      ],
      "text/plain": [
       "Derivative(x(t), t)"
      ]
     },
     "execution_count": 47,
     "metadata": {},
     "output_type": "execute_result"
    }
   ],
   "source": [
    "df_x = sympy.diff(x, t)\n",
    "df_x"
   ]
  },
  {
   "cell_type": "code",
   "execution_count": 48,
   "metadata": {},
   "outputs": [
    {
     "data": {
      "text/latex": [
       "$\\displaystyle \\frac{d^{2}}{d t^{2}} x{\\left(t \\right)}$"
      ],
      "text/plain": [
       "Derivative(x(t), (t, 2))"
      ]
     },
     "execution_count": 48,
     "metadata": {},
     "output_type": "execute_result"
    }
   ],
   "source": [
    "dff_x = sympy.diff(df_x, t)\n",
    "dff_x"
   ]
  },
  {
   "cell_type": "code",
   "execution_count": 49,
   "metadata": {},
   "outputs": [
    {
     "data": {
      "text/latex": [
       "$\\displaystyle \\alpha \\frac{d}{d t} x{\\left(t \\right)} + \\gamma x{\\left(t \\right)} + \\frac{d^{2}}{d t^{2}} x{\\left(t \\right)} = \\cos{\\left(\\beta t \\right)}$"
      ],
      "text/plain": [
       "Eq(alpha*Derivative(x(t), t) + gamma*x(t) + Derivative(x(t), (t, 2)), cos(beta*t))"
      ]
     },
     "execution_count": 49,
     "metadata": {},
     "output_type": "execute_result"
    }
   ],
   "source": [
    "eq = sympy.Eq(dff_x + alpha*df_x + gamma*x, sympy.cos(beta*t))\n",
    "eq"
   ]
  },
  {
   "cell_type": "code",
   "execution_count": 50,
   "metadata": {},
   "outputs": [
    {
     "data": {
      "text/latex": [
       "$\\displaystyle - \\alpha \\frac{d}{d t} x{\\left(t \\right)} - \\gamma x{\\left(t \\right)} + \\cos{\\left(\\beta t \\right)}$"
      ],
      "text/plain": [
       "-alpha*Derivative(x(t), t) - gamma*x(t) + cos(beta*t)"
      ]
     },
     "execution_count": 50,
     "metadata": {},
     "output_type": "execute_result"
    }
   ],
   "source": [
    "sol = sympy.solve(eq, dff_x)\n",
    "sol[0]"
   ]
  },
  {
   "cell_type": "code",
   "execution_count": 51,
   "metadata": {},
   "outputs": [
    {
     "data": {
      "text/latex": [
       "$\\displaystyle x{\\left(t \\right)} = C_{1} e^{\\frac{t \\left(- \\alpha + \\sqrt{\\alpha^{2} - 4 \\gamma}\\right)}{2}} + C_{2} e^{- \\frac{t \\left(\\alpha + \\sqrt{\\alpha^{2} - 4 \\gamma}\\right)}{2}} + \\frac{\\alpha \\beta \\sin{\\left(\\beta t \\right)}}{\\alpha^{2} \\beta^{2} + \\beta^{4} - 2 \\beta^{2} \\gamma + \\gamma^{2}} - \\frac{\\beta^{2} \\cos{\\left(\\beta t \\right)}}{\\alpha^{2} \\beta^{2} + \\beta^{4} - 2 \\beta^{2} \\gamma + \\gamma^{2}} + \\frac{\\gamma \\cos{\\left(\\beta t \\right)}}{\\alpha^{2} \\beta^{2} + \\beta^{4} - 2 \\beta^{2} \\gamma + \\gamma^{2}}$"
      ],
      "text/plain": [
       "Eq(x(t), C1*exp(t*(-alpha + sqrt(alpha**2 - 4*gamma))/2) + C2*exp(-t*(alpha + sqrt(alpha**2 - 4*gamma))/2) + alpha*beta*sin(beta*t)/(alpha**2*beta**2 + beta**4 - 2*beta**2*gamma + gamma**2) - beta**2*cos(beta*t)/(alpha**2*beta**2 + beta**4 - 2*beta**2*gamma + gamma**2) + gamma*cos(beta*t)/(alpha**2*beta**2 + beta**4 - 2*beta**2*gamma + gamma**2))"
      ]
     },
     "execution_count": 51,
     "metadata": {},
     "output_type": "execute_result"
    }
   ],
   "source": [
    "sol = sympy.dsolve(eq)\n",
    "sol"
   ]
  },
  {
   "cell_type": "markdown",
   "metadata": {},
   "source": [
    "### 2.4.2. Solución Numérica con `scipy.integrate.odeint`\n",
    "\n",
    "<div class=\"alert alert-block alert-warning\">   \n",
    "\n",
    "**SU TURNO**\n",
    "\n",
    "Modelemos esta ODE de segundo grado para:\n",
    "\n",
    "**Constantes**\n",
    "- $c = 100$\n",
    "- $m = 4.5$\n",
    "- $\\omega_0 = 25$\n",
    "- $\\beta = 0.55$\n",
    "- $F_0 = 350$\n",
    "\n",
    "**Parámetros ODE**\n",
    "- $x(t=0) \\rightarrow x_0 = 10$\n",
    "- $dx(t=0) \\rightarrow dx_0 = 0$\n",
    "- $t_{inicial} = 0$\n",
    "- $t_{final} = 10$\n",
    "\n",
    "</div>"
   ]
  },
  {
   "cell_type": "code",
   "execution_count": 52,
   "metadata": {},
   "outputs": [
    {
     "data": {
      "text/plain": [
       "<function __main__.pendulo_resorte(variables, t, alpha, beta, gamma)>"
      ]
     },
     "execution_count": 52,
     "metadata": {},
     "output_type": "execute_result"
    }
   ],
   "source": [
    "# PASO 1. Definir la función\n",
    "def pendulo_resorte(variables, t, alpha, beta, gamma):\n",
    "    # Variables\n",
    "    x = variables[0]\n",
    "    dx = variables[1]\n",
    "\n",
    "    # Ecuaciones\n",
    "    d2x = -alpha*dx - gamma*x + np.cos(np.deg2rad(beta*t))\n",
    "\n",
    "    return [dx, d2x]\n",
    "\n",
    "pendulo_resorte"
   ]
  },
  {
   "cell_type": "code",
   "execution_count": 53,
   "metadata": {},
   "outputs": [
    {
     "data": {
      "text/plain": [
       "[10, 0]"
      ]
     },
     "execution_count": 53,
     "metadata": {},
     "output_type": "execute_result"
    }
   ],
   "source": [
    "# PASO 2. Condiciones iniciales\n",
    "condiciones_iniciales = [10, 0] # [x0, dx0]\n",
    "condiciones_iniciales"
   ]
  },
  {
   "cell_type": "code",
   "execution_count": 54,
   "metadata": {},
   "outputs": [
    {
     "data": {
      "text/plain": [
       "array([ 0.        ,  0.20408163,  0.40816327,  0.6122449 ,  0.81632653,\n",
       "        1.02040816,  1.2244898 ,  1.42857143,  1.63265306,  1.83673469,\n",
       "        2.04081633,  2.24489796,  2.44897959,  2.65306122,  2.85714286,\n",
       "        3.06122449,  3.26530612,  3.46938776,  3.67346939,  3.87755102,\n",
       "        4.08163265,  4.28571429,  4.48979592,  4.69387755,  4.89795918,\n",
       "        5.10204082,  5.30612245,  5.51020408,  5.71428571,  5.91836735,\n",
       "        6.12244898,  6.32653061,  6.53061224,  6.73469388,  6.93877551,\n",
       "        7.14285714,  7.34693878,  7.55102041,  7.75510204,  7.95918367,\n",
       "        8.16326531,  8.36734694,  8.57142857,  8.7755102 ,  8.97959184,\n",
       "        9.18367347,  9.3877551 ,  9.59183673,  9.79591837, 10.        ])"
      ]
     },
     "execution_count": 54,
     "metadata": {},
     "output_type": "execute_result"
    }
   ],
   "source": [
    "# PASO 3. Puntos de tiempo\n",
    "start = 0\n",
    "stop = 10\n",
    "num = 50\n",
    "\n",
    "tiempo = np.linspace(start, stop, num)\n",
    "tiempo"
   ]
  },
  {
   "cell_type": "code",
   "execution_count": 55,
   "metadata": {
    "scrolled": true
   },
   "outputs": [
    {
     "data": {
      "text/plain": [
       "array([[ 1.00000000e+01,  0.00000000e+00],\n",
       "       [ 8.48539186e+00, -1.39992885e+01],\n",
       "       [ 4.73348233e+00, -2.15092561e+01],\n",
       "       [ 2.32177374e-01, -2.13712117e+01],\n",
       "       [-3.55441310e+00, -1.48950738e+01],\n",
       "       [-5.61780983e+00, -5.05993249e+00],\n",
       "       [-5.62974069e+00,  4.64957826e+00],\n",
       "       [-3.92700022e+00,  1.13643295e+01],\n",
       "       [-1.30086816e+00,  1.35825605e+01],\n",
       "       [ 1.31381019e+00,  1.13900163e+01],\n",
       "       [ 3.14069235e+00,  6.17105409e+00],\n",
       "       [ 3.76671573e+00, -1.88449647e-02],\n",
       "       [ 3.20477358e+00, -5.17621816e+00],\n",
       "       [ 1.81920993e+00, -7.93730808e+00],\n",
       "       [ 1.59068215e-01, -7.87784685e+00],\n",
       "       [-1.23597007e+00, -5.48347205e+00],\n",
       "       [-1.99466476e+00, -1.85422368e+00],\n",
       "       [-1.99676915e+00,  1.72480665e+00],\n",
       "       [-1.36718002e+00,  4.19667522e+00],\n",
       "       [-3.98092849e-01,  5.00932798e+00],\n",
       "       [ 5.65723592e-01,  4.19615289e+00],\n",
       "       [ 1.23826748e+00,  2.26891560e+00],\n",
       "       [ 1.46768080e+00, -1.39288350e-02],\n",
       "       [ 1.25919398e+00, -1.91391143e+00],\n",
       "       [ 7.47507570e-01, -2.92903387e+00],\n",
       "       [ 1.35220056e-01, -2.90395363e+00],\n",
       "       [-3.78738719e-01, -2.01870942e+00],\n",
       "       [-6.57709071e-01, -6.79492948e-01],\n",
       "       [-6.57646466e-01,  6.39770824e-01],\n",
       "       [-4.24865930e-01,  1.54972144e+00],\n",
       "       [-6.72657390e-02,  1.84742391e+00],\n",
       "       [ 2.88004627e-01,  1.54584240e+00],\n",
       "       [ 5.35583546e-01,  8.34163002e-01],\n",
       "       [ 6.19642675e-01, -7.75175086e-03],\n",
       "       [ 5.42286238e-01, -7.07705816e-01],\n",
       "       [ 3.53313465e-01, -1.08091503e+00],\n",
       "       [ 1.27483443e-01, -1.07050491e+00],\n",
       "       [-6.18773491e-02, -7.43218373e-01],\n",
       "       [-1.64462507e-01, -2.49041519e-01],\n",
       "       [-1.64139921e-01,  2.37248882e-01],\n",
       "       [-7.80838058e-02,  5.72219437e-01],\n",
       "       [ 5.38627331e-02,  6.81272171e-01],\n",
       "       [ 1.84807569e-01,  5.69428066e-01],\n",
       "       [ 2.75936140e-01,  3.06623579e-01],\n",
       "       [ 3.06724248e-01, -3.87517009e-03],\n",
       "       [ 2.78012519e-01, -2.61738362e-01],\n",
       "       [ 2.08211708e-01, -3.98947863e-01],\n",
       "       [ 1.24907906e-01, -3.94681723e-01],\n",
       "       [ 5.51295181e-02, -2.73681710e-01],\n",
       "       [ 1.73949484e-02, -9.13298737e-02]])"
      ]
     },
     "execution_count": 55,
     "metadata": {},
     "output_type": "execute_result"
    }
   ],
   "source": [
    "# PASO 4. Solcionar ODE\n",
    "## Constantes\n",
    "c = 100\n",
    "m = 4.5\n",
    "omega = 25\n",
    "beta = 0.55\n",
    "F = 350\n",
    "\n",
    "alpha = c / (m*omega)\n",
    "gamma = (m*(omega**2)) / F\n",
    "\n",
    "## Solución numérica\n",
    "sol = integrate.odeint(func=pendulo_resorte,\n",
    "                       y0=condiciones_iniciales,\n",
    "                       t=tiempo,\n",
    "                       args=(alpha, beta, gamma))\n",
    "\n",
    "sol"
   ]
  },
  {
   "cell_type": "code",
   "execution_count": 56,
   "metadata": {},
   "outputs": [
    {
     "data": {
      "image/png": "[encoded data removed]",
      "text/plain": [
       "<Figure size 800x240 with 1 Axes>"
      ]
     },
     "metadata": {
      "needs_background": "light"
     },
     "output_type": "display_data"
    },
    {
     "data": {
      "image/png": "[encoded data removed]",
      "text/plain": [
       "<Figure size 800x240 with 1 Axes>"
      ]
     },
     "metadata": {
      "needs_background": "light"
     },
     "output_type": "display_data"
    }
   ],
   "source": [
    "# Gráfica\n",
    "hor = 10\n",
    "ver = 3\n",
    "\n",
    "# Ángulo\n",
    "fig = plt.figure(figsize=(hor, ver), dpi=80)\n",
    "\n",
    "plt.plot(tiempo, sol[:,0], linestyle='-', linewidth=2, color='dodgerblue', label='Solución Numérica')\n",
    "\n",
    "formato_grafica(titulo='Posición',\n",
    "                ejex='Tiempo ($t$)',\n",
    "                ejey='X (m)',\n",
    "                leyenda=False)\n",
    "\n",
    "# Velocidad Angular\n",
    "fig = plt.figure(figsize=(hor, ver), dpi=80)\n",
    "\n",
    "plt.plot(tiempo, sol[:,1], linestyle='-', linewidth=2, color='orange', label='Solución Numérica')\n",
    "\n",
    "formato_grafica(titulo='Velocidad',\n",
    "                ejex='Tiempo ($t$)',\n",
    "                ejey='V (m/s)',\n",
    "                leyenda=False)"
   ]
  },
  {
   "cell_type": "markdown",
   "metadata": {},
   "source": [
    "## 2.5. Ejemplo 4: Doble Masa - Doble Resorte\n",
    "\n",
    "<img src='./img/spring2.png' width='600' height='600'/>\n",
    "\n",
    "Al igual que en el Ejemplo 5, el escenario de una masa-resorte parte de:\n",
    "\n",
    "$$\n",
    "F = m a = m \\ddot{x}\n",
    "$$\n",
    "\n",
    "En donde se tiene presente la Ley de Hooke:\n",
    "\n",
    "$$\n",
    "F_s = -k x\n",
    "$$\n",
    "\n",
    "En donde:\n",
    "\n",
    "$$\n",
    "\\sum F_s = m \\ddot{x}\n",
    "$$\n",
    "\n",
    "Entonces:\n",
    "\n",
    "$$\n",
    "\\boxed{\n",
    "\\begin{cases}\n",
    "  m_1 \\ddot{x_1} + (k_1 + k_2) x_1 - k_2 x_2 = 0 & (1) \\\\ \n",
    "  \\\\\n",
    "  m_2 \\ddot{x_2} + k_2 x_2 - k_2 x_1 = 0 & (2) \\\\\n",
    "\\end{cases}\n",
    "}\n",
    "$$\n",
    "\n",
    "<div class='alert alert-block alert-info'> \n",
    "\n",
    "<i class='fa fa-info-circle' aria-hidden='true'></i>\n",
    "Puede obtener más información del ejercicio dando clic [aquí](https://www.youtube.com/watch?v=dqtZwZmMh4w).\n",
    "</div>"
   ]
  },
  {
   "cell_type": "markdown",
   "metadata": {},
   "source": [
    "Modelemos esta ODE de segundo grado para:\n",
    "\n",
    "**Constantes**\n",
    "- $k_1 = 200$\n",
    "- $k_2 = 80$\n",
    "- $m_1 = 10$\n",
    "- $m_2 = 20$\n",
    "\n",
    "**Parámetros ODE**\n",
    "- $x(t=0) \\rightarrow x_0 = [0.025, 0.2]$\n",
    "- $dx(t=0) \\rightarrow dx_0 = [0, 0]$\n",
    "- $t_{inicial} = 0$\n",
    "- $t_{final} = 10$"
   ]
  },
  {
   "cell_type": "markdown",
   "metadata": {},
   "source": [
    "### 2.5.1. Derivada con `sympy.diff` y `sympy.solve`\n",
    "\n",
    "<div class='alert alert-block alert-info'> \n",
    "\n",
    "<i class='fa fa-info-circle' aria-hidden='true'></i>\n",
    "Puede obtener más información en la documentación oficial de la librería `sympy.diff` dando clic [aquí](https://docs.sympy.org/latest/tutorials/intro-tutorial/calculus.html).\n",
    "</div>\n",
    "\n",
    "<div class='alert alert-block alert-info'>   \n",
    "    \n",
    "<i class='fa fa-info-circle' aria-hidden='true'></i>\n",
    "Puede obtener más información en la documentación oficial de la librería `sympy.solve` dando clic [aquí](https://docs.sympy.org/latest/modules/solvers/solvers.html).\n",
    "</div>"
   ]
  },
  {
   "cell_type": "code",
   "execution_count": 57,
   "metadata": {},
   "outputs": [],
   "source": [
    "k1, k2, m1, m2, t = sympy.symbols('k_1, k_2, m_1, m_2, t')"
   ]
  },
  {
   "cell_type": "code",
   "execution_count": 58,
   "metadata": {},
   "outputs": [],
   "source": [
    "x1, x2 = sympy.symbols('x_1, x_2', cls=sympy.Function)\n",
    "\n",
    "x1 = x1(t)\n",
    "x2 = x2(t)"
   ]
  },
  {
   "cell_type": "code",
   "execution_count": 59,
   "metadata": {},
   "outputs": [],
   "source": [
    "# X1\n",
    "df_x1 = sympy.diff(x1, t)\n",
    "dff_x1 = sympy.diff(df_x1, t)\n",
    "\n",
    "# X2\n",
    "df_x2 = sympy.diff(x2, t)\n",
    "dff_x2 = sympy.diff(df_x2, t)"
   ]
  },
  {
   "cell_type": "code",
   "execution_count": 60,
   "metadata": {},
   "outputs": [],
   "source": [
    "# X1\n",
    "eq1 = sympy.Eq(m1*dff_x1 + (k1+k2)*x1 - k2*x2, 0)\n",
    "\n",
    "# X2\n",
    "eq2 = sympy.Eq(m2*dff_x2 + k2*x2 - k2*x1, 0)"
   ]
  },
  {
   "cell_type": "code",
   "execution_count": 61,
   "metadata": {},
   "outputs": [
    {
     "data": {
      "text/latex": [
       "$\\displaystyle \\frac{- k_{1} x_{1}{\\left(t \\right)} - k_{2} x_{1}{\\left(t \\right)} + k_{2} x_{2}{\\left(t \\right)}}{m_{1}}$"
      ],
      "text/plain": [
       "(-k_1*x_1(t) - k_2*x_1(t) + k_2*x_2(t))/m_1"
      ]
     },
     "execution_count": 61,
     "metadata": {},
     "output_type": "execute_result"
    }
   ],
   "source": [
    "# X1\n",
    "sol1 = sympy.solve(eq1, dff_x1)\n",
    "sol1[0]"
   ]
  },
  {
   "cell_type": "code",
   "execution_count": 62,
   "metadata": {},
   "outputs": [
    {
     "data": {
      "text/latex": [
       "$\\displaystyle \\frac{k_{2} \\left(x_{1}{\\left(t \\right)} - x_{2}{\\left(t \\right)}\\right)}{m_{2}}$"
      ],
      "text/plain": [
       "k_2*(x_1(t) - x_2(t))/m_2"
      ]
     },
     "execution_count": 62,
     "metadata": {},
     "output_type": "execute_result"
    }
   ],
   "source": [
    "# X2\n",
    "sol2 = sympy.solve(eq2, dff_x2)\n",
    "sol2[0]"
   ]
  },
  {
   "cell_type": "code",
   "execution_count": 63,
   "metadata": {},
   "outputs": [
    {
     "data": {
      "text/latex": [
       "$\\displaystyle x_{1}{\\left(t \\right)} = C_{1} e^{- t \\sqrt{\\frac{- k_{1} - k_{2}}{m_{1}}}} + C_{2} e^{t \\sqrt{\\frac{- k_{1} - k_{2}}{m_{1}}}} + \\frac{k_{2} e^{t \\sqrt{\\frac{- k_{1} - k_{2}}{m_{1}}}} \\int x_{2}{\\left(t \\right)} e^{- t \\sqrt{\\frac{- k_{1} - k_{2}}{m_{1}}}}\\, dt}{2 m_{1} \\sqrt{\\frac{- k_{1} - k_{2}}{m_{1}}}} - \\frac{k_{2} e^{- t \\sqrt{\\frac{- k_{1} - k_{2}}{m_{1}}}} \\int x_{2}{\\left(t \\right)} e^{t \\sqrt{\\frac{- k_{1} - k_{2}}{m_{1}}}}\\, dt}{2 m_{1} \\sqrt{\\frac{- k_{1} - k_{2}}{m_{1}}}}$"
      ],
      "text/plain": [
       "Eq(x_1(t), C1*exp(-t*sqrt((-k_1 - k_2)/m_1)) + C2*exp(t*sqrt((-k_1 - k_2)/m_1)) + k_2*exp(t*sqrt((-k_1 - k_2)/m_1))*Integral(x_2(t)*exp(-t*sqrt((-k_1 - k_2)/m_1)), t)/(2*m_1*sqrt((-k_1 - k_2)/m_1)) - k_2*exp(-t*sqrt((-k_1 - k_2)/m_1))*Integral(x_2(t)*exp(t*sqrt((-k_1 - k_2)/m_1)), t)/(2*m_1*sqrt((-k_1 - k_2)/m_1)))"
      ]
     },
     "execution_count": 63,
     "metadata": {},
     "output_type": "execute_result"
    }
   ],
   "source": [
    "sol1 = sympy.dsolve(eq1)\n",
    "sol1"
   ]
  },
  {
   "cell_type": "code",
   "execution_count": 64,
   "metadata": {},
   "outputs": [
    {
     "data": {
      "text/latex": [
       "$\\displaystyle x_{2}{\\left(t \\right)} = \\left(C_{1} - \\frac{k_{2} \\int x_{1}{\\left(t \\right)} e^{t \\sqrt{- \\frac{k_{2}}{m_{2}}}}\\, dt}{2 m_{2} \\sqrt{- \\frac{k_{2}}{m_{2}}}}\\right) e^{- t \\sqrt{- \\frac{k_{2}}{m_{2}}}} + \\left(C_{2} + \\frac{k_{2} \\int x_{1}{\\left(t \\right)} e^{- t \\sqrt{- \\frac{k_{2}}{m_{2}}}}\\, dt}{2 m_{2} \\sqrt{- \\frac{k_{2}}{m_{2}}}}\\right) e^{t \\sqrt{- \\frac{k_{2}}{m_{2}}}}$"
      ],
      "text/plain": [
       "Eq(x_2(t), (C1 - k_2*Integral(x_1(t)*exp(t*sqrt(-k_2/m_2)), t)/(2*m_2*sqrt(-k_2/m_2)))*exp(-t*sqrt(-k_2/m_2)) + (C2 + k_2*Integral(x_1(t)*exp(-t*sqrt(-k_2/m_2)), t)/(2*m_2*sqrt(-k_2/m_2)))*exp(t*sqrt(-k_2/m_2)))"
      ]
     },
     "execution_count": 64,
     "metadata": {},
     "output_type": "execute_result"
    }
   ],
   "source": [
    "sol2 = sympy.dsolve(eq2)\n",
    "sol2"
   ]
  },
  {
   "cell_type": "markdown",
   "metadata": {},
   "source": [
    "### 2.5.2. Solución Numérica con `scipy.integrate.odeint`"
   ]
  },
  {
   "cell_type": "code",
   "execution_count": 65,
   "metadata": {},
   "outputs": [
    {
     "data": {
      "text/plain": [
       "<function __main__.masa_resorte(variables, t, m1, m2, k1, k2)>"
      ]
     },
     "execution_count": 65,
     "metadata": {},
     "output_type": "execute_result"
    }
   ],
   "source": [
    "# PASO 1. Definir la función\n",
    "def masa_resorte(variables, t, m1, m2, k1, k2):\n",
    "    # Variables\n",
    "    x1 = variables[0]\n",
    "    x2 = variables[1]\n",
    "    dx1 = variables[2]\n",
    "    dx2 = variables[3]\n",
    "    \n",
    "    # Ecuaciones\n",
    "    d2x1 = (-(k1+k2)*x1 + k2*x2) / m1\n",
    "    d2x2 = (-k2*x2 + k2*x1) / m2\n",
    "    \n",
    "    return [dx1, dx2, d2x1, d2x2]\n",
    "\n",
    "masa_resorte"
   ]
  },
  {
   "cell_type": "code",
   "execution_count": 66,
   "metadata": {},
   "outputs": [
    {
     "data": {
      "text/plain": [
       "[0.025, 0.2, 0, 0]"
      ]
     },
     "execution_count": 66,
     "metadata": {},
     "output_type": "execute_result"
    }
   ],
   "source": [
    "# PASO 2. Condiciones iniciales\n",
    "condiciones_iniciales = [0.025, 0.2, 0, 0] # [x0, dx_dt0]\n",
    "condiciones_iniciales"
   ]
  },
  {
   "cell_type": "code",
   "execution_count": 67,
   "metadata": {},
   "outputs": [
    {
     "data": {
      "text/plain": [
       "array([ 0.        ,  0.01001001,  0.02002002,  0.03003003,  0.04004004,\n",
       "        0.05005005,  0.06006006,  0.07007007,  0.08008008,  0.09009009,\n",
       "        0.1001001 ,  0.11011011,  0.12012012,  0.13013013,  0.14014014,\n",
       "        0.15015015,  0.16016016,  0.17017017,  0.18018018,  0.19019019,\n",
       "        0.2002002 ,  0.21021021,  0.22022022,  0.23023023,  0.24024024,\n",
       "        0.25025025,  0.26026026,  0.27027027,  0.28028028,  0.29029029,\n",
       "        0.3003003 ,  0.31031031,  0.32032032,  0.33033033,  0.34034034,\n",
       "        0.35035035,  0.36036036,  0.37037037,  0.38038038,  0.39039039,\n",
       "        0.4004004 ,  0.41041041,  0.42042042,  0.43043043,  0.44044044,\n",
       "        0.45045045,  0.46046046,  0.47047047,  0.48048048,  0.49049049,\n",
       "        0.5005005 ,  0.51051051,  0.52052052,  0.53053053,  0.54054054,\n",
       "        0.55055055,  0.56056056,  0.57057057,  0.58058058,  0.59059059,\n",
       "        0.6006006 ,  0.61061061,  0.62062062,  0.63063063,  0.64064064,\n",
       "        0.65065065,  0.66066066,  0.67067067,  0.68068068,  0.69069069,\n",
       "        0.7007007 ,  0.71071071,  0.72072072,  0.73073073,  0.74074074,\n",
       "        0.75075075,  0.76076076,  0.77077077,  0.78078078,  0.79079079,\n",
       "        0.8008008 ,  0.81081081,  0.82082082,  0.83083083,  0.84084084,\n",
       "        0.85085085,  0.86086086,  0.87087087,  0.88088088,  0.89089089,\n",
       "        0.9009009 ,  0.91091091,  0.92092092,  0.93093093,  0.94094094,\n",
       "        0.95095095,  0.96096096,  0.97097097,  0.98098098,  0.99099099,\n",
       "        1.001001  ,  1.01101101,  1.02102102,  1.03103103,  1.04104104,\n",
       "        1.05105105,  1.06106106,  1.07107107,  1.08108108,  1.09109109,\n",
       "        1.1011011 ,  1.11111111,  1.12112112,  1.13113113,  1.14114114,\n",
       "        1.15115115,  1.16116116,  1.17117117,  1.18118118,  1.19119119,\n",
       "        1.2012012 ,  1.21121121,  1.22122122,  1.23123123,  1.24124124,\n",
       "        1.25125125,  1.26126126,  1.27127127,  1.28128128,  1.29129129,\n",
       "        1.3013013 ,  1.31131131,  1.32132132,  1.33133133,  1.34134134,\n",
       "        1.35135135,  1.36136136,  1.37137137,  1.38138138,  1.39139139,\n",
       "        1.4014014 ,  1.41141141,  1.42142142,  1.43143143,  1.44144144,\n",
       "        1.45145145,  1.46146146,  1.47147147,  1.48148148,  1.49149149,\n",
       "        1.5015015 ,  1.51151151,  1.52152152,  1.53153153,  1.54154154,\n",
       "        1.55155155,  1.56156156,  1.57157157,  1.58158158,  1.59159159,\n",
       "        1.6016016 ,  1.61161161,  1.62162162,  1.63163163,  1.64164164,\n",
       "        1.65165165,  1.66166166,  1.67167167,  1.68168168,  1.69169169,\n",
       "        1.7017017 ,  1.71171171,  1.72172172,  1.73173173,  1.74174174,\n",
       "        1.75175175,  1.76176176,  1.77177177,  1.78178178,  1.79179179,\n",
       "        1.8018018 ,  1.81181181,  1.82182182,  1.83183183,  1.84184184,\n",
       "        1.85185185,  1.86186186,  1.87187187,  1.88188188,  1.89189189,\n",
       "        1.9019019 ,  1.91191191,  1.92192192,  1.93193193,  1.94194194,\n",
       "        1.95195195,  1.96196196,  1.97197197,  1.98198198,  1.99199199,\n",
       "        2.002002  ,  2.01201201,  2.02202202,  2.03203203,  2.04204204,\n",
       "        2.05205205,  2.06206206,  2.07207207,  2.08208208,  2.09209209,\n",
       "        2.1021021 ,  2.11211211,  2.12212212,  2.13213213,  2.14214214,\n",
       "        2.15215215,  2.16216216,  2.17217217,  2.18218218,  2.19219219,\n",
       "        2.2022022 ,  2.21221221,  2.22222222,  2.23223223,  2.24224224,\n",
       "        2.25225225,  2.26226226,  2.27227227,  2.28228228,  2.29229229,\n",
       "        2.3023023 ,  2.31231231,  2.32232232,  2.33233233,  2.34234234,\n",
       "        2.35235235,  2.36236236,  2.37237237,  2.38238238,  2.39239239,\n",
       "        2.4024024 ,  2.41241241,  2.42242242,  2.43243243,  2.44244244,\n",
       "        2.45245245,  2.46246246,  2.47247247,  2.48248248,  2.49249249,\n",
       "        2.5025025 ,  2.51251251,  2.52252252,  2.53253253,  2.54254254,\n",
       "        2.55255255,  2.56256256,  2.57257257,  2.58258258,  2.59259259,\n",
       "        2.6026026 ,  2.61261261,  2.62262262,  2.63263263,  2.64264264,\n",
       "        2.65265265,  2.66266266,  2.67267267,  2.68268268,  2.69269269,\n",
       "        2.7027027 ,  2.71271271,  2.72272272,  2.73273273,  2.74274274,\n",
       "        2.75275275,  2.76276276,  2.77277277,  2.78278278,  2.79279279,\n",
       "        2.8028028 ,  2.81281281,  2.82282282,  2.83283283,  2.84284284,\n",
       "        2.85285285,  2.86286286,  2.87287287,  2.88288288,  2.89289289,\n",
       "        2.9029029 ,  2.91291291,  2.92292292,  2.93293293,  2.94294294,\n",
       "        2.95295295,  2.96296296,  2.97297297,  2.98298298,  2.99299299,\n",
       "        3.003003  ,  3.01301301,  3.02302302,  3.03303303,  3.04304304,\n",
       "        3.05305305,  3.06306306,  3.07307307,  3.08308308,  3.09309309,\n",
       "        3.1031031 ,  3.11311311,  3.12312312,  3.13313313,  3.14314314,\n",
       "        3.15315315,  3.16316316,  3.17317317,  3.18318318,  3.19319319,\n",
       "        3.2032032 ,  3.21321321,  3.22322322,  3.23323323,  3.24324324,\n",
       "        3.25325325,  3.26326326,  3.27327327,  3.28328328,  3.29329329,\n",
       "        3.3033033 ,  3.31331331,  3.32332332,  3.33333333,  3.34334334,\n",
       "        3.35335335,  3.36336336,  3.37337337,  3.38338338,  3.39339339,\n",
       "        3.4034034 ,  3.41341341,  3.42342342,  3.43343343,  3.44344344,\n",
       "        3.45345345,  3.46346346,  3.47347347,  3.48348348,  3.49349349,\n",
       "        3.5035035 ,  3.51351351,  3.52352352,  3.53353353,  3.54354354,\n",
       "        3.55355355,  3.56356356,  3.57357357,  3.58358358,  3.59359359,\n",
       "        3.6036036 ,  3.61361361,  3.62362362,  3.63363363,  3.64364364,\n",
       "        3.65365365,  3.66366366,  3.67367367,  3.68368368,  3.69369369,\n",
       "        3.7037037 ,  3.71371371,  3.72372372,  3.73373373,  3.74374374,\n",
       "        3.75375375,  3.76376376,  3.77377377,  3.78378378,  3.79379379,\n",
       "        3.8038038 ,  3.81381381,  3.82382382,  3.83383383,  3.84384384,\n",
       "        3.85385385,  3.86386386,  3.87387387,  3.88388388,  3.89389389,\n",
       "        3.9039039 ,  3.91391391,  3.92392392,  3.93393393,  3.94394394,\n",
       "        3.95395395,  3.96396396,  3.97397397,  3.98398398,  3.99399399,\n",
       "        4.004004  ,  4.01401401,  4.02402402,  4.03403403,  4.04404404,\n",
       "        4.05405405,  4.06406406,  4.07407407,  4.08408408,  4.09409409,\n",
       "        4.1041041 ,  4.11411411,  4.12412412,  4.13413413,  4.14414414,\n",
       "        4.15415415,  4.16416416,  4.17417417,  4.18418418,  4.19419419,\n",
       "        4.2042042 ,  4.21421421,  4.22422422,  4.23423423,  4.24424424,\n",
       "        4.25425425,  4.26426426,  4.27427427,  4.28428428,  4.29429429,\n",
       "        4.3043043 ,  4.31431431,  4.32432432,  4.33433433,  4.34434434,\n",
       "        4.35435435,  4.36436436,  4.37437437,  4.38438438,  4.39439439,\n",
       "        4.4044044 ,  4.41441441,  4.42442442,  4.43443443,  4.44444444,\n",
       "        4.45445445,  4.46446446,  4.47447447,  4.48448448,  4.49449449,\n",
       "        4.5045045 ,  4.51451451,  4.52452452,  4.53453453,  4.54454454,\n",
       "        4.55455455,  4.56456456,  4.57457457,  4.58458458,  4.59459459,\n",
       "        4.6046046 ,  4.61461461,  4.62462462,  4.63463463,  4.64464464,\n",
       "        4.65465465,  4.66466466,  4.67467467,  4.68468468,  4.69469469,\n",
       "        4.7047047 ,  4.71471471,  4.72472472,  4.73473473,  4.74474474,\n",
       "        4.75475475,  4.76476476,  4.77477477,  4.78478478,  4.79479479,\n",
       "        4.8048048 ,  4.81481481,  4.82482482,  4.83483483,  4.84484484,\n",
       "        4.85485485,  4.86486486,  4.87487487,  4.88488488,  4.89489489,\n",
       "        4.9049049 ,  4.91491491,  4.92492492,  4.93493493,  4.94494494,\n",
       "        4.95495495,  4.96496496,  4.97497497,  4.98498498,  4.99499499,\n",
       "        5.00500501,  5.01501502,  5.02502503,  5.03503504,  5.04504505,\n",
       "        5.05505506,  5.06506507,  5.07507508,  5.08508509,  5.0950951 ,\n",
       "        5.10510511,  5.11511512,  5.12512513,  5.13513514,  5.14514515,\n",
       "        5.15515516,  5.16516517,  5.17517518,  5.18518519,  5.1951952 ,\n",
       "        5.20520521,  5.21521522,  5.22522523,  5.23523524,  5.24524525,\n",
       "        5.25525526,  5.26526527,  5.27527528,  5.28528529,  5.2952953 ,\n",
       "        5.30530531,  5.31531532,  5.32532533,  5.33533534,  5.34534535,\n",
       "        5.35535536,  5.36536537,  5.37537538,  5.38538539,  5.3953954 ,\n",
       "        5.40540541,  5.41541542,  5.42542543,  5.43543544,  5.44544545,\n",
       "        5.45545546,  5.46546547,  5.47547548,  5.48548549,  5.4954955 ,\n",
       "        5.50550551,  5.51551552,  5.52552553,  5.53553554,  5.54554555,\n",
       "        5.55555556,  5.56556557,  5.57557558,  5.58558559,  5.5955956 ,\n",
       "        5.60560561,  5.61561562,  5.62562563,  5.63563564,  5.64564565,\n",
       "        5.65565566,  5.66566567,  5.67567568,  5.68568569,  5.6956957 ,\n",
       "        5.70570571,  5.71571572,  5.72572573,  5.73573574,  5.74574575,\n",
       "        5.75575576,  5.76576577,  5.77577578,  5.78578579,  5.7957958 ,\n",
       "        5.80580581,  5.81581582,  5.82582583,  5.83583584,  5.84584585,\n",
       "        5.85585586,  5.86586587,  5.87587588,  5.88588589,  5.8958959 ,\n",
       "        5.90590591,  5.91591592,  5.92592593,  5.93593594,  5.94594595,\n",
       "        5.95595596,  5.96596597,  5.97597598,  5.98598599,  5.995996  ,\n",
       "        6.00600601,  6.01601602,  6.02602603,  6.03603604,  6.04604605,\n",
       "        6.05605606,  6.06606607,  6.07607608,  6.08608609,  6.0960961 ,\n",
       "        6.10610611,  6.11611612,  6.12612613,  6.13613614,  6.14614615,\n",
       "        6.15615616,  6.16616617,  6.17617618,  6.18618619,  6.1961962 ,\n",
       "        6.20620621,  6.21621622,  6.22622623,  6.23623624,  6.24624625,\n",
       "        6.25625626,  6.26626627,  6.27627628,  6.28628629,  6.2962963 ,\n",
       "        6.30630631,  6.31631632,  6.32632633,  6.33633634,  6.34634635,\n",
       "        6.35635636,  6.36636637,  6.37637638,  6.38638639,  6.3963964 ,\n",
       "        6.40640641,  6.41641642,  6.42642643,  6.43643644,  6.44644645,\n",
       "        6.45645646,  6.46646647,  6.47647648,  6.48648649,  6.4964965 ,\n",
       "        6.50650651,  6.51651652,  6.52652653,  6.53653654,  6.54654655,\n",
       "        6.55655656,  6.56656657,  6.57657658,  6.58658659,  6.5965966 ,\n",
       "        6.60660661,  6.61661662,  6.62662663,  6.63663664,  6.64664665,\n",
       "        6.65665666,  6.66666667,  6.67667668,  6.68668669,  6.6966967 ,\n",
       "        6.70670671,  6.71671672,  6.72672673,  6.73673674,  6.74674675,\n",
       "        6.75675676,  6.76676677,  6.77677678,  6.78678679,  6.7967968 ,\n",
       "        6.80680681,  6.81681682,  6.82682683,  6.83683684,  6.84684685,\n",
       "        6.85685686,  6.86686687,  6.87687688,  6.88688689,  6.8968969 ,\n",
       "        6.90690691,  6.91691692,  6.92692693,  6.93693694,  6.94694695,\n",
       "        6.95695696,  6.96696697,  6.97697698,  6.98698699,  6.996997  ,\n",
       "        7.00700701,  7.01701702,  7.02702703,  7.03703704,  7.04704705,\n",
       "        7.05705706,  7.06706707,  7.07707708,  7.08708709,  7.0970971 ,\n",
       "        7.10710711,  7.11711712,  7.12712713,  7.13713714,  7.14714715,\n",
       "        7.15715716,  7.16716717,  7.17717718,  7.18718719,  7.1971972 ,\n",
       "        7.20720721,  7.21721722,  7.22722723,  7.23723724,  7.24724725,\n",
       "        7.25725726,  7.26726727,  7.27727728,  7.28728729,  7.2972973 ,\n",
       "        7.30730731,  7.31731732,  7.32732733,  7.33733734,  7.34734735,\n",
       "        7.35735736,  7.36736737,  7.37737738,  7.38738739,  7.3973974 ,\n",
       "        7.40740741,  7.41741742,  7.42742743,  7.43743744,  7.44744745,\n",
       "        7.45745746,  7.46746747,  7.47747748,  7.48748749,  7.4974975 ,\n",
       "        7.50750751,  7.51751752,  7.52752753,  7.53753754,  7.54754755,\n",
       "        7.55755756,  7.56756757,  7.57757758,  7.58758759,  7.5975976 ,\n",
       "        7.60760761,  7.61761762,  7.62762763,  7.63763764,  7.64764765,\n",
       "        7.65765766,  7.66766767,  7.67767768,  7.68768769,  7.6976977 ,\n",
       "        7.70770771,  7.71771772,  7.72772773,  7.73773774,  7.74774775,\n",
       "        7.75775776,  7.76776777,  7.77777778,  7.78778779,  7.7977978 ,\n",
       "        7.80780781,  7.81781782,  7.82782783,  7.83783784,  7.84784785,\n",
       "        7.85785786,  7.86786787,  7.87787788,  7.88788789,  7.8978979 ,\n",
       "        7.90790791,  7.91791792,  7.92792793,  7.93793794,  7.94794795,\n",
       "        7.95795796,  7.96796797,  7.97797798,  7.98798799,  7.997998  ,\n",
       "        8.00800801,  8.01801802,  8.02802803,  8.03803804,  8.04804805,\n",
       "        8.05805806,  8.06806807,  8.07807808,  8.08808809,  8.0980981 ,\n",
       "        8.10810811,  8.11811812,  8.12812813,  8.13813814,  8.14814815,\n",
       "        8.15815816,  8.16816817,  8.17817818,  8.18818819,  8.1981982 ,\n",
       "        8.20820821,  8.21821822,  8.22822823,  8.23823824,  8.24824825,\n",
       "        8.25825826,  8.26826827,  8.27827828,  8.28828829,  8.2982983 ,\n",
       "        8.30830831,  8.31831832,  8.32832833,  8.33833834,  8.34834835,\n",
       "        8.35835836,  8.36836837,  8.37837838,  8.38838839,  8.3983984 ,\n",
       "        8.40840841,  8.41841842,  8.42842843,  8.43843844,  8.44844845,\n",
       "        8.45845846,  8.46846847,  8.47847848,  8.48848849,  8.4984985 ,\n",
       "        8.50850851,  8.51851852,  8.52852853,  8.53853854,  8.54854855,\n",
       "        8.55855856,  8.56856857,  8.57857858,  8.58858859,  8.5985986 ,\n",
       "        8.60860861,  8.61861862,  8.62862863,  8.63863864,  8.64864865,\n",
       "        8.65865866,  8.66866867,  8.67867868,  8.68868869,  8.6986987 ,\n",
       "        8.70870871,  8.71871872,  8.72872873,  8.73873874,  8.74874875,\n",
       "        8.75875876,  8.76876877,  8.77877878,  8.78878879,  8.7987988 ,\n",
       "        8.80880881,  8.81881882,  8.82882883,  8.83883884,  8.84884885,\n",
       "        8.85885886,  8.86886887,  8.87887888,  8.88888889,  8.8988989 ,\n",
       "        8.90890891,  8.91891892,  8.92892893,  8.93893894,  8.94894895,\n",
       "        8.95895896,  8.96896897,  8.97897898,  8.98898899,  8.998999  ,\n",
       "        9.00900901,  9.01901902,  9.02902903,  9.03903904,  9.04904905,\n",
       "        9.05905906,  9.06906907,  9.07907908,  9.08908909,  9.0990991 ,\n",
       "        9.10910911,  9.11911912,  9.12912913,  9.13913914,  9.14914915,\n",
       "        9.15915916,  9.16916917,  9.17917918,  9.18918919,  9.1991992 ,\n",
       "        9.20920921,  9.21921922,  9.22922923,  9.23923924,  9.24924925,\n",
       "        9.25925926,  9.26926927,  9.27927928,  9.28928929,  9.2992993 ,\n",
       "        9.30930931,  9.31931932,  9.32932933,  9.33933934,  9.34934935,\n",
       "        9.35935936,  9.36936937,  9.37937938,  9.38938939,  9.3993994 ,\n",
       "        9.40940941,  9.41941942,  9.42942943,  9.43943944,  9.44944945,\n",
       "        9.45945946,  9.46946947,  9.47947948,  9.48948949,  9.4994995 ,\n",
       "        9.50950951,  9.51951952,  9.52952953,  9.53953954,  9.54954955,\n",
       "        9.55955956,  9.56956957,  9.57957958,  9.58958959,  9.5995996 ,\n",
       "        9.60960961,  9.61961962,  9.62962963,  9.63963964,  9.64964965,\n",
       "        9.65965966,  9.66966967,  9.67967968,  9.68968969,  9.6996997 ,\n",
       "        9.70970971,  9.71971972,  9.72972973,  9.73973974,  9.74974975,\n",
       "        9.75975976,  9.76976977,  9.77977978,  9.78978979,  9.7997998 ,\n",
       "        9.80980981,  9.81981982,  9.82982983,  9.83983984,  9.84984985,\n",
       "        9.85985986,  9.86986987,  9.87987988,  9.88988989,  9.8998999 ,\n",
       "        9.90990991,  9.91991992,  9.92992993,  9.93993994,  9.94994995,\n",
       "        9.95995996,  9.96996997,  9.97997998,  9.98998999, 10.        ])"
      ]
     },
     "execution_count": 67,
     "metadata": {},
     "output_type": "execute_result"
    }
   ],
   "source": [
    "# PASO 3. Puntos de tiempo\n",
    "start = 0\n",
    "stop = 10\n",
    "num = 1000\n",
    "\n",
    "tiempo = np.linspace(start, stop, num)\n",
    "tiempo"
   ]
  },
  {
   "cell_type": "code",
   "execution_count": 68,
   "metadata": {
    "scrolled": true
   },
   "outputs": [
    {
     "data": {
      "text/plain": [
       "array([[ 0.025     ,  0.2       ,  0.        ,  0.        ],\n",
       "       [ 0.02504508,  0.19996493,  0.00900385, -0.00700593],\n",
       "       [ 0.02518015,  0.19985976,  0.01797684, -0.01400546],\n",
       "       ...,\n",
       "       [-0.01272131, -0.14121601, -0.03633312,  0.24582081],\n",
       "       [-0.01312325, -0.13872979, -0.04392242,  0.25090835],\n",
       "       [-0.01359955, -0.13619322, -0.05118744,  0.25587773]])"
      ]
     },
     "execution_count": 68,
     "metadata": {},
     "output_type": "execute_result"
    }
   ],
   "source": [
    "# PASO 4. Solcionar ODE\n",
    "## Constantes\n",
    "m1 = 10.0\n",
    "m2 = 20.0\n",
    "k1 = 200.0\n",
    "k2 = 80.0\n",
    "\n",
    "## Solución numérica\n",
    "sol = integrate.odeint(func=masa_resorte, \n",
    "                       y0=condiciones_iniciales, \n",
    "                       t=tiempo,\n",
    "                       args=(m1, m2, k1, k2))\n",
    "\n",
    "sol"
   ]
  },
  {
   "cell_type": "code",
   "execution_count": 69,
   "metadata": {},
   "outputs": [
    {
     "data": {
      "image/png": "[encoded data removed]",
      "text/plain": [
       "<Figure size 800x240 with 1 Axes>"
      ]
     },
     "metadata": {
      "needs_background": "light"
     },
     "output_type": "display_data"
    },
    {
     "data": {
      "image/png": "[encoded data removed]",
      "text/plain": [
       "<Figure size 800x240 with 1 Axes>"
      ]
     },
     "metadata": {
      "needs_background": "light"
     },
     "output_type": "display_data"
    }
   ],
   "source": [
    "# Gráfica\n",
    "hor = 10\n",
    "ver = 3\n",
    "\n",
    "# Ángulo\n",
    "fig = plt.figure(figsize=(hor, ver), dpi=80)\n",
    "\n",
    "plt.plot(tiempo, sol[:,0], linestyle='-', linewidth=2, color='dodgerblue', label='Solución Numérica')\n",
    "\n",
    "formato_grafica(titulo='', \n",
    "                ejex='Tiempo ($t$)', \n",
    "                ejey='$X_1$',\n",
    "                leyenda=False)\n",
    "\n",
    "# Velocidad Angular\n",
    "fig = plt.figure(figsize=(hor, ver), dpi=80)\n",
    "\n",
    "plt.plot(tiempo, sol[:,1], linestyle='-', linewidth=2, color='orange', label='Solución Numérica')\n",
    "\n",
    "formato_grafica(titulo='', \n",
    "                ejex='Tiempo ($t$)', \n",
    "                ejey='$X_2$',\n",
    "                leyenda=False)"
   ]
  }
 ],
 "metadata": {
  "kernelspec": {
   "display_name": "hc",
   "language": "python",
   "name": "hc"
  },
  "language_info": {
   "codemirror_mode": {
    "name": "ipython",
    "version": 3
   },
   "file_extension": ".py",
   "mimetype": "text/x-python",
   "name": "python",
   "nbconvert_exporter": "python",
   "pygments_lexer": "ipython3",
   "version": "3.11.0"
  },
  "toc": {
   "base_numbering": 1,
   "nav_menu": {},
   "number_sections": false,
   "sideBar": true,
   "skip_h1_title": true,
   "title_cell": "Table of Contents",
   "title_sidebar": "Contents",
   "toc_cell": false,
   "toc_position": {},
   "toc_section_display": true,
   "toc_window_display": false
  }
 },
 "nbformat": 4,
 "nbformat_minor": 2
}

{
 "cells": [
  {
   "cell_type": "markdown",
   "metadata": {},
   "source": [
    "# IMEC2001 Herramientas Computacionales\n",
    "## Semana 7: Ecuaciones Diferenciales Ordinarias (ODE)\n",
    "### Clase 13:  Incertidumbre y Propagación de Error\n",
    "\n",
    "Universidad de los Andes — Noviembre 20, 2023.\n",
    "\n",
    "---\n",
    "\n",
    "## TABLA DE CONTENIDO\n",
    "\n",
    "### Sección 1: Incertidumbre y Propagación de Error [→](#section1)\n",
    "- 1.1. Cargar Librerías\n",
    "- 1.2. Distribución Normal: Valor de $Z$\n",
    "- 1.3. Distribución t-Student: Valor de $t$\n",
    "- 1.4. Propagación de Error con Librería `uncertainties`\n",
    "    - 1.4.1. Ejemplo 1: Potencia Eléctrica\n",
    "    - 1.4.2. Ejemplo 2: Péndulo Simple\n",
    "        - 1.4.2.1. Propagación de Error: Manual\n",
    "        - 1.4.2.2. Propagación de Error: `uncertainties`\n",
    "- 1.5. Barras de Error con `plt.errorbar`\n",
    "___"
   ]
  },
  {
   "cell_type": "markdown",
   "metadata": {},
   "source": [
    "<a id=\"section1\"></a>\n",
    "# Sección 1: Incertidumbre y Propagación de Error"
   ]
  },
  {
   "cell_type": "markdown",
   "metadata": {},
   "source": [
    "## 1.1. Cargar Librerías\n",
    "\n",
    "Primero, asegurémonos de haber instalado las librerías:\n",
    "\n",
    "> ```python\n",
    "  !pip install uncertainties\n",
    "  ```"
   ]
  },
  {
   "cell_type": "code",
   "execution_count": null,
   "metadata": {},
   "outputs": [],
   "source": [
    "# Datos y Gráficas\n",
    "%matplotlib inline\n",
    "import matplotlib.pyplot as plt\n",
    "import pandas as pd\n",
    "import numpy as np\n",
    "import sympy\n",
    "\n",
    "# Incertidumbre\n",
    "from scipy import stats\n",
    "from uncertainties import ufloat"
   ]
  },
  {
   "cell_type": "markdown",
   "metadata": {},
   "source": [
    "## 1.2. Distribución Normal: Valor de $Z$\n",
    "\n",
    "<div class='alert alert-block alert-info'> \n",
    "\n",
    "<i class='fa fa-info-circle' aria-hidden='true'></i>\n",
    "Puede obtener más información en la documentación oficial de la librería `scipy.stats.norm` dando clic [aquí](https://docs.scipy.org/doc/scipy/reference/generated/scipy.stats.norm.html).\n",
    "</div>"
   ]
  },
  {
   "cell_type": "code",
   "execution_count": null,
   "metadata": {},
   "outputs": [],
   "source": [
    "# PASO 1. Intervalo de confianza\n",
    "IC = 0.95\n",
    "IC"
   ]
  },
  {
   "cell_type": "code",
   "execution_count": null,
   "metadata": {},
   "outputs": [],
   "source": [
    "# PASO 2. Valor de alpha\n",
    "alpha = 1 - IC\n",
    "alpha"
   ]
  },
  {
   "cell_type": "code",
   "execution_count": null,
   "metadata": {},
   "outputs": [],
   "source": [
    "# PASO 3. Valor de alpha/2\n",
    "alpha_medios = alpha/2\n",
    "alpha_medios"
   ]
  },
  {
   "cell_type": "code",
   "execution_count": null,
   "metadata": {},
   "outputs": [],
   "source": [
    "# PASO 4. Distr. Normal (Z)\n",
    "valor = IC + alpha_medios\n",
    "\n",
    "Z = stats.norm.ppf(valor)\n",
    "Z"
   ]
  },
  {
   "cell_type": "markdown",
   "metadata": {},
   "source": [
    "## 1.3. Distribución t-Student: Valor de $t$\n",
    "\n",
    "<div class='alert alert-block alert-info'> \n",
    "\n",
    "<i class='fa fa-info-circle' aria-hidden='true'></i>\n",
    "Puede obtener más información en la documentación oficial de la librería `scipy.stats.t` dando clic [aquí](https://docs.scipy.org/doc/scipy/reference/generated/scipy.stats.t.html).\n",
    "</div>"
   ]
  },
  {
   "cell_type": "code",
   "execution_count": null,
   "metadata": {},
   "outputs": [],
   "source": [
    "# PASO 1. Intervalo de confianza\n",
    "IC = 0.95\n",
    "IC"
   ]
  },
  {
   "cell_type": "code",
   "execution_count": null,
   "metadata": {},
   "outputs": [],
   "source": [
    "# PASO 2. Valor de alpha\n",
    "alpha = 1 - IC\n",
    "alpha"
   ]
  },
  {
   "cell_type": "code",
   "execution_count": null,
   "metadata": {},
   "outputs": [],
   "source": [
    "# PASO 3. Valor de alpha/2\n",
    "alpha_medios = alpha/2\n",
    "alpha_medios"
   ]
  },
  {
   "cell_type": "code",
   "execution_count": null,
   "metadata": {},
   "outputs": [],
   "source": [
    "# PASO 4. Número de datos (asumamos que tomamos n=4 datos)\n",
    "n = 4\n",
    "n"
   ]
  },
  {
   "cell_type": "code",
   "execution_count": null,
   "metadata": {},
   "outputs": [],
   "source": [
    "# PASO 5. Grados de libertad (DOF)\n",
    "v = n - 1\n",
    "v"
   ]
  },
  {
   "cell_type": "code",
   "execution_count": null,
   "metadata": {},
   "outputs": [],
   "source": [
    "# PASO 4. Distr. t-Student (t)\n",
    "valor = IC + alpha_medios\n",
    "\n",
    "t = stats.t.ppf(valor, v)\n",
    "t"
   ]
  },
  {
   "cell_type": "markdown",
   "metadata": {},
   "source": [
    "## 1.4. Propagación de Error con Librería `uncertainties`\n",
    "\n",
    "<div class='alert alert-block alert-info'> \n",
    "\n",
    "<i class='fa fa-info-circle' aria-hidden='true'></i>\n",
    "Puede obtener más información en la documentación oficial de la librería `uncertainties` dando clic [aquí](https://uncertainties-python-package.readthedocs.io/en/latest/user_guide.html).\n",
    "</div>"
   ]
  },
  {
   "cell_type": "markdown",
   "metadata": {},
   "source": [
    "### 1.4.1. Ejemplo 1: Potencia Eléctrica"
   ]
  },
  {
   "cell_type": "code",
   "execution_count": null,
   "metadata": {},
   "outputs": [],
   "source": [
    "from uncertainties import ufloat"
   ]
  },
  {
   "cell_type": "code",
   "execution_count": null,
   "metadata": {},
   "outputs": [],
   "source": [
    "V = ufloat(5, 0.1) # Medida ± Incertidumbre\n",
    "V"
   ]
  },
  {
   "cell_type": "code",
   "execution_count": null,
   "metadata": {},
   "outputs": [],
   "source": [
    "I = ufloat(10e-03, 0.01e-03) # Medida ± Incertidumbre\n",
    "I"
   ]
  },
  {
   "cell_type": "code",
   "execution_count": null,
   "metadata": {},
   "outputs": [],
   "source": [
    "P = V * I\n",
    "P"
   ]
  },
  {
   "cell_type": "markdown",
   "metadata": {},
   "source": [
    "### 1.4.2. Ejemplo 2: Péndulo Simple\n",
    "\n",
    "Un péndulo simple se describe a partir de la siguiente ecuación:\n",
    "\n",
    "$$\n",
    "T = 2\\pi \\sqrt{\\frac{L}{g}}\n",
    "$$\n",
    "\n",
    "Al despejar para la gravedad $g$, obtenemos:\n",
    "\n",
    "$$\n",
    "g = \\frac{4 \\pi^2 L}{T^2}\n",
    "$$\n",
    "\n",
    "Ahora, el error propagado para esta ecuación es:\n",
    "\n",
    "$$\n",
    "e = \\sqrt{ \\left( \\frac{\\partial g}{\\partial L} \\right)^2 \\cdot U_L^2 + \\left( \\frac{\\partial g}{\\partial T} \\right)^2 \\cdot U_T^2}\n",
    "$$\n",
    "\n",
    "Luego:\n",
    "\n",
    "$$\n",
    "e = \\sqrt{ \\left( \\frac{4 \\pi^2}{T^2} \\right)^2 \\cdot U_L^2 + \\left( \\frac{-8 \\pi^2 L}{T^3} \\right)^2 \\cdot U_T^2}\n",
    "$$"
   ]
  },
  {
   "cell_type": "markdown",
   "metadata": {},
   "source": [
    "#### 1.4.2.1. Propagación de Error: Manual"
   ]
  },
  {
   "cell_type": "code",
   "execution_count": null,
   "metadata": {},
   "outputs": [],
   "source": [
    "## TÉRMINO 1\n",
    "### (∂g / ∂L)**2\n",
    "dg_dL = (4*np.pi**2 / (1.942)**2)\n",
    "\n",
    "### U_L**2\n",
    "U_L = 1e-3\n",
    "\n",
    "### (∂g / ∂L)**2 · U_L**2\n",
    "termino1 = (dg_dL**2) * (U_L**2)\n",
    "termino1"
   ]
  },
  {
   "cell_type": "code",
   "execution_count": null,
   "metadata": {},
   "outputs": [],
   "source": [
    "## TÉRMINO 2\n",
    "### (∂g / ∂T)**2\n",
    "dg_dT = (-8*np.pi**2*(0.936) / (1.942)**3)\n",
    "\n",
    "### U_L**2\n",
    "U_T = 4e-3\n",
    "\n",
    "### (∂g / ∂T)**2 · U_T**2\n",
    "termino2 = (dg_dT**2) * (U_T**2)\n",
    "termino2"
   ]
  },
  {
   "cell_type": "code",
   "execution_count": null,
   "metadata": {},
   "outputs": [],
   "source": [
    "# Propagación de Error\n",
    "U_g = np.sqrt([termino1 + termino2])\n",
    "U_g"
   ]
  },
  {
   "cell_type": "markdown",
   "metadata": {},
   "source": [
    "#### 1.4.2.2. Propagación de Error: `uncertainties`"
   ]
  },
  {
   "cell_type": "code",
   "execution_count": null,
   "metadata": {},
   "outputs": [],
   "source": [
    "## PASO 1. Definimos la variable longitud (L) con su error\n",
    "L = ufloat(0.936, 1e-3)\n",
    "L"
   ]
  },
  {
   "cell_type": "code",
   "execution_count": null,
   "metadata": {},
   "outputs": [],
   "source": [
    "## PASO 2. Definimos la variable periodo (T) con su error\n",
    "T = ufloat(1.942, 4e-3)\n",
    "T"
   ]
  },
  {
   "cell_type": "code",
   "execution_count": null,
   "metadata": {},
   "outputs": [],
   "source": [
    "## PASO 3. Ecuación de gravedad (g)\n",
    "g = 4*np.pi**2*L / T**2\n",
    "g"
   ]
  },
  {
   "cell_type": "markdown",
   "metadata": {},
   "source": [
    "## 1.5. Derivadas Parciales con `sympy.diff`\n",
    "\n",
    "Tomando el ejercicio del péndulo simple:\n",
    "\n",
    "> Un péndulo simple se describe a partir de la siguiente ecuación:\n",
    "> $$\n",
    "  T = 2\\pi \\sqrt{\\frac{L}{g}}\n",
    "> $$\n",
    "> Al despejar para la gravedad $g$, obtenemos:\n",
    "> $$\n",
    "  g = \\frac{4 \\pi^2 L}{T^2}\n",
    "> $$\n",
    "> Ahora, el error propagado para esta ecuación es:\n",
    "> $$\n",
    "  e = \\sqrt{ \\left( \\frac{\\partial g}{\\partial L} \\right)^2 \\cdot U_L^2 + \\left( \\frac{\\partial g}{\\partial T} \\right)^2 \\cdot U_T^2}\n",
    "> $$\n",
    "> Luego:\n",
    "> $$\n",
    "  e = \\sqrt{ \\left( \\frac{4 \\pi^2}{T^2} \\right)^2 \\cdot U_L^2 + \\left( \\frac{-8 \\pi^2 L}{T^3} \\right)^2 \\cdot U_T^2}\n",
    "> $$\n",
    "\n",
    "Estas derivadas parciales las podemos hacer con la librería `sympy.diff`.\n",
    "\n",
    "<div class='alert alert-block alert-info'> \n",
    "\n",
    "<i class='fa fa-info-circle' aria-hidden='true'></i>\n",
    "Puede obtener más información en la documentación oficial de la librería `sympy.diff` dando clic [aquí](https://docs.sympy.org/latest/tutorials/intro-tutorial/calculus.html).\n",
    "</div>"
   ]
  },
  {
   "cell_type": "code",
   "execution_count": null,
   "metadata": {},
   "outputs": [],
   "source": [
    "g, L, T = sympy.symbols('g, L, T', real=True)"
   ]
  },
  {
   "cell_type": "code",
   "execution_count": null,
   "metadata": {},
   "outputs": [],
   "source": [
    "g = (4 * sympy.pi * L) / T**2\n",
    "g"
   ]
  },
  {
   "cell_type": "code",
   "execution_count": null,
   "metadata": {},
   "outputs": [],
   "source": [
    "# ∂g / ∂T\n",
    "dg_dL = sympy.diff(g, L) # sympy.diff(<función>, <variable a derivar parcialmente>)\n",
    "dg_dL"
   ]
  },
  {
   "cell_type": "code",
   "execution_count": null,
   "metadata": {},
   "outputs": [],
   "source": [
    "# ∂g / ∂L\n",
    "dg_dT = sympy.diff(g, T) # sympy.diff(<función>, <variable a derivar parcialmente>)\n",
    "dg_dT"
   ]
  },
  {
   "cell_type": "markdown",
   "metadata": {},
   "source": [
    "## 1.5. Barras de Error con `plt.errorbar`\n",
    "\n",
    "<div class='alert alert-block alert-info'> \n",
    "\n",
    "<i class='fa fa-info-circle' aria-hidden='true'></i>\n",
    "Puede obtener más información en la documentación oficial de la librería `matplotlib.pyplot.plt.errorbar` dando clic [aquí](https://matplotlib.org/stable/api/_as_gen/matplotlib.pyplot.errorbar.html).\n",
    "</div>"
   ]
  },
  {
   "cell_type": "code",
   "execution_count": null,
   "metadata": {},
   "outputs": [],
   "source": [
    "file_name = './data/engines.xlsx' # ./ es pwd()\n",
    "sheet = 'Data'\n",
    "\n",
    "df = pd.read_excel(io=file_name, sheet_name=sheet)\n",
    "df.head()"
   ]
  },
  {
   "cell_type": "code",
   "execution_count": null,
   "metadata": {},
   "outputs": [],
   "source": [
    "# Incertidumbre Eje Y\n",
    "Uy = abs(np.random.normal(loc=0.0, scale=1.0, size=len(df)))\n",
    "Uy"
   ]
  },
  {
   "cell_type": "code",
   "execution_count": null,
   "metadata": {},
   "outputs": [],
   "source": [
    "# Incertidumbre Eje X\n",
    "Ux = abs(np.random.normal(loc=0.0, scale=0.3, size=len(df)))\n",
    "Ux"
   ]
  },
  {
   "cell_type": "code",
   "execution_count": null,
   "metadata": {},
   "outputs": [],
   "source": [
    "def formato_grafica(titulo, ejex, ejey, leyenda=False, xlim=[None, None], ylim=[None, None]):\n",
    "    plt.rcParams['axes.axisbelow'] = True\n",
    "\n",
    "    plt.title(titulo, fontsize=15)\n",
    "    plt.ylabel(ejey, fontsize=13)\n",
    "    plt.xlabel(ejex, fontsize=13)\n",
    "\n",
    "    plt.tick_params(direction='out', length=5, width=0.75, grid_alpha=0.3)\n",
    "    plt.xticks(rotation=0)\n",
    "    plt.minorticks_on()\n",
    "    plt.ylim(ylim[0], ylim[1])\n",
    "    plt.xlim(xlim[0], xlim[1])\n",
    "    plt.grid(True)\n",
    "    plt.grid(visible=True, which='major', color='grey', linestyle='-')\n",
    "    plt.grid(visible=True, which='minor', color='lightgrey', linestyle='-', alpha=0.2)\n",
    "    \n",
    "    if leyenda == True:\n",
    "        plt.legend(loc=True)\n",
    "    \n",
    "    plt.tight_layout;"
   ]
  },
  {
   "cell_type": "code",
   "execution_count": null,
   "metadata": {},
   "outputs": [],
   "source": [
    "hor = 8\n",
    "ver = 5\n",
    "fig1 = plt.figure(figsize=(hor, ver))\n",
    "\n",
    "x = np.log10(df['Mass (Kg)'].values)\n",
    "y = np.log10(df['Maximum Brake Horsepower (BHP)'].values)\n",
    "\n",
    "plt.plot(x, y, linestyle='', marker='o', markerfacecolor='white', markeredgecolor='dodgerblue', ms=10)\n",
    "\n",
    "formato_grafica(titulo='Relación log MBHP y log Masa', \n",
    "                ejex='MBHP', \n",
    "                ejey='Masa (Kg)',\n",
    "                leyenda=False)"
   ]
  },
  {
   "cell_type": "code",
   "execution_count": null,
   "metadata": {},
   "outputs": [],
   "source": [
    "hor = 12\n",
    "ver = 8\n",
    "fig2 = plt.figure(figsize=(hor, ver))\n",
    "\n",
    "x = np.log10(df['Mass (Kg)'].values)\n",
    "y = np.log10(df['Maximum Brake Horsepower (BHP)'].values)\n",
    "\n",
    "plt.plot(x, y, linestyle='', marker='o', markerfacecolor='white', markeredgecolor='dodgerblue', ms=10)\n",
    "\n",
    "plt.errorbar(x=x, # Valor de X\n",
    "             y=y, # Valor de Y\n",
    "             yerr=Uy, # Incertidumbre en Y\n",
    "             xerr=Ux, # Incertidumbre en X\n",
    "             ecolor='#191717', # Color barras de error\n",
    "             elinewidth=0.75, # Ancho barras de error\n",
    "             capsize=3, # Longitud límites barras de error\n",
    "             capthick=0.75) # Ancho límites barras de error\n",
    "\n",
    "formato_grafica(titulo='Relación log MBHP y log Masa',\n",
    "                ejex='MBHP',\n",
    "                ejey='Masa (Kg)',\n",
    "                leyenda=False)"
   ]
  }
 ],
 "metadata": {
  "kernelspec": {
   "display_name": "hc",
   "language": "python",
   "name": "hc"
  },
  "language_info": {
   "codemirror_mode": {
    "name": "ipython",
    "version": 3
   },
   "file_extension": ".py",
   "mimetype": "text/x-python",
   "name": "python",
   "nbconvert_exporter": "python",
   "pygments_lexer": "ipython3",
   "version": "3.11.0"
  },
  "toc": {
   "base_numbering": 1,
   "nav_menu": {},
   "number_sections": false,
   "sideBar": true,
   "skip_h1_title": true,
   "title_cell": "Table of Contents",
   "title_sidebar": "Contents",
   "toc_cell": false,
   "toc_position": {},
   "toc_section_display": true,
   "toc_window_display": false
  }
 },
 "nbformat": 4,
 "nbformat_minor": 2
}

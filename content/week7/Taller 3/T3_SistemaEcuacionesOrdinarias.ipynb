{
 "cells": [
  {
   "cell_type": "markdown",
   "id": "ea6e2bc4",
   "metadata": {},
   "source": [
    "Estudiante 1:\n",
    "\n",
    "Estudiante 2:\n",
    "\n",
    "----"
   ]
  },
  {
   "cell_type": "markdown",
   "id": "f09b1d95",
   "metadata": {},
   "source": [
    "# IMEC2001 Herramientas Computacionales \n",
    "## Taller Semana 8: Ecuaciones diferenciales ordinarias - ODE\n",
    "### Fecha Entrega: <font color=\"#FF5733\"> 23:59h de Mayo 28, 2023</font>\n",
    "\n",
    "Universidad de los Andes — Mayo 28, 2023.\n",
    "___\n",
    "\n",
    "### <u>Tener en Cuenta</u>\n",
    "\n",
    "- En la casilla anterior a esta coloque el nombre de los integrantes del grupo.\n",
    "- La entrega del taller es por Bloque Neon y se envía el archivo en formato de Jupyter Notebook (extensión `.ipynb`).\n",
    "- El nombre del archivo debe ser: `T3_Apellido Integrante 1_ Apellido Integrante 2` (si trabajó el parejas). `T3_Apellido` (si trabajó individual). Por ejemplo: `T3_SalazarPeña_VargasTorres` o `T3_VargasTorres`\n",
    "- Comente el código con el proceso que realizó para llegar a la solución.\n",
    "- A lo largo del taller se dejarán algunas casillas comentadas donde puede desarrollar el código, sin embargo, no es obligatorio que lo utilice en ese orden.\n",
    "\n",
    "----\n",
    "# Tabla de Contenido \n",
    "## Ecuaciones diferenciales ordinarias \n",
    "### Sistemas de Segundo orden  [→](#section1)\n",
    "### Térmico:\n",
    "- Actividad 1: Diferencias Finitas [→](#exercise1)\n",
    "\n",
    "### Dinámico:\n",
    "- Actividad 2: Comportamiento Pelota que rebota [→](#exercise2)\n",
    "- Actividad 3: Oscilador de Van der Pol [→](#exercise3)\n"
   ]
  },
  {
   "cell_type": "markdown",
   "id": "1a27602c",
   "metadata": {},
   "source": [
    "<a id=\"section1\"></a>\n",
    "## Sistemas de segundo orden \n",
    "----\n",
    "Otro de los problemas comunes de ODE son los de transferencia de calor, estos están descritos por una ecuación de segundo orden (El gradó más grande de las derivadas que tiene la ecuación es 2).\n",
    "\n",
    "$$\\frac{d^2T}{dx^2} + h'(T_a-T)=0$$\n",
    "\n",
    "Para encontrar una solución al sistema se utiliza el método de diferencias finitas. En este se sustituyen las derivadas de la ecuación $(y', \\dot{y}, \\frac{dy}{dt})$ con aproximaciones mediante las diferencias finitas dividas, teniendo así un sistema de ecuaciones algebraicas. La segunda derivada en diferencias finitas dividas centradas es de la siguiente forma:\n",
    "\n",
    "$$\\frac{d^2T}{dx^2}=\\frac{T_{i+1}-2T_i+T_{i-1}}{\\Delta x^2}$$\n",
    "\n",
    "Esta ecuación se aplica a cada nodo o punto que se esté estudiando para conocer su temperatura. Si se asume un $\\Delta x = 1$ (Espacio entre los nodos) y que no hay una afectación de factores externos (convección, radiación o conducción) la ecuación queda de la siguiente forma:\n",
    "\n",
    "$$T_{i+1}-2T_i+T_{i-1} = 0$$\n"
   ]
  },
  {
   "cell_type": "markdown",
   "id": "dbe5ac5e",
   "metadata": {},
   "source": [
    "<a id=\"exercise1\"></a>\n",
    "## <font color=\"#276C9B\"> Actividad 1  </font>\n",
    "\n",
    "<img src='../img/Temperaturas_P1.jpg'>\n",
    "\n",
    "Para el sistema mostrado que se quieren conocer las temperaturas en cada nodo ($T_1, T_2, T_3, T_4$). $T_{\\infty_1}$ y $T_{\\infty_2}$ no se toman como nodos ya que son condiciones de borde. Utilizando la aproximación de diferencias finitas resuelva para los siguientes dos casos:\n",
    "\n",
    "Caso 1: $T_{\\infty_1} = 30$ y $T_{\\infty_2} = 40$ \n",
    "\n",
    "Caso 2: $T_{\\infty_1} = 60$ y $T_{\\infty_2} = 500$\n",
    "\n",
    "Para cada uno:\n",
    "\n",
    "1. Escriba las ecuaciones de cada uno de los nodos. \n",
    "- **BONO 1:** Puede escribir el sistema de ecuaciones una sola vez, pero debe específicar cuáles ecuaciones cambian y por qué.\n",
    "- **BONO 2:** Escriba una expresión general para el sistema mostrado.\n",
    "    \n",
    "2. Teniendo las ecuaciones planteadas en el literal anterior resuelva el sistema.\n",
    "- **Nota:** Como puede ver en las ecuaciones planteadas se tienen n incongnitas con n ecuaciones, estos sistemas se pueden resolver con las librerías y métodos vistos las semanas anteriores.\n",
    "- Puede utilizar la función `np.diag()` para plantear las ecuaciones\n",
    "3. En una sola gráfica muestre las temperaturas en cada punto para cada caso, debe gráficar también las condiciones de borde. Por lo que tiene una gráfica con 6 puntos, el primero y el último son los del enunciado (C1: 30, 40 | C2: 60, 500) y los otros 4 son las soluciones del sistema. \n"
   ]
  },
  {
   "cell_type": "markdown",
   "id": "fa66a78f",
   "metadata": {},
   "source": [
    "Plantilla para modificar:\n",
    "\n",
    "\n",
    "$$\n",
    "\\begin{bmatrix}  %Vector de Coeficientes\n",
    "\t0 & 0 & 0 & 0 \\\\\n",
    "\t0 & 0 & 0 & 0 \\\\\n",
    "    0 & 0 & 0 & 0 \\\\\n",
    "    0 & 0 & 0 & 0 \n",
    "\\end{bmatrix} \n",
    "\\begin{Bmatrix} %Vector de incognitas\n",
    "\tA \\\\\n",
    "\tB \\\\\n",
    "    C \\\\\n",
    "    D\n",
    "\\end{Bmatrix} = \n",
    "\\begin{Bmatrix} %Vector de términos independentes\n",
    "\t0\\\\\n",
    "    0 \\\\\n",
    "    0 \\\\\n",
    "    0\n",
    "\\end{Bmatrix} \n",
    "$$"
   ]
  },
  {
   "cell_type": "code",
   "execution_count": 1,
   "id": "a9404746",
   "metadata": {},
   "outputs": [],
   "source": [
    "# Importar liberías \n"
   ]
  },
  {
   "cell_type": "code",
   "execution_count": 2,
   "id": "18ac52bf",
   "metadata": {},
   "outputs": [],
   "source": [
    "# Función para calcular la solución del sistema\n"
   ]
  },
  {
   "cell_type": "code",
   "execution_count": 3,
   "id": "c022796d",
   "metadata": {},
   "outputs": [],
   "source": [
    "# Matriz de coeficientes\n"
   ]
  },
  {
   "cell_type": "code",
   "execution_count": 4,
   "id": "ba55e459",
   "metadata": {
    "scrolled": true
   },
   "outputs": [],
   "source": [
    "# Nodos \n",
    "\n",
    "# Gráfica\n"
   ]
  },
  {
   "cell_type": "markdown",
   "id": "2bb507b7",
   "metadata": {},
   "source": [
    "### ¿Qué comportaminto observa? "
   ]
  },
  {
   "cell_type": "markdown",
   "id": "3ebba908",
   "metadata": {},
   "source": []
  },
  {
   "cell_type": "markdown",
   "id": "6fdcd192",
   "metadata": {},
   "source": [
    "## Dinámico\n",
    "-----\n",
    "Como se ha visto en clase las ecuaciones diferenciales ordinarias trabajan con el cambio de **una** variable con respecto a la otra. Un ejemplo de lo anterior es la ecuación que describe el comportamiento de forma simplificada una pelota que rebota contra el piso. Se denota por $x(t)$ a la posición vertical de la pelota y con $v(t)$ la velocidad (positiva hacía arriba). Se tienen los siguientes escenarios: \n",
    "\n",
    "1. Cuando $x(t) > 0$ la pelota está en el aire y satisface la siguiente ecuación:\n",
    "\n",
    "$$m\\dot{v} = -b_a v - mg$$\n",
    "\n",
    "- $m$ es la masa de la pelota\n",
    "- $b_a$ es el coeficiente de rozamiento del aire\n",
    "- $g$ es el valor de la gravedad\n",
    "\n",
    "\n",
    "2. Cuando $x(t) < 0$ la pelota está en contacto con el piso, esta se modela como un sistema masa - resorte:\n",
    "\n",
    "$$m\\dot{v} = -kx - bv -mg$$\n",
    "\n",
    "- $b$ es la constante de amortiguamiento del suelo\n",
    "- $k$ es la constante de elasticidad del suelo\n",
    "\n",
    "El modelo se puede plantear como un sistema lineal a trozos, calculando así tramos de la solución. Considere los siguientes parámetros:\n",
    "\n",
    "- $b_a = 0.1$\n",
    "- $m = 1$\n",
    "- $b = 30$\n",
    "- $g = 9.8 $\n",
    "- $k =$ Los primeros 6 dígitos de su código dividido 2\n",
    "\n",
    "Como condiciones iniciales se tienen que:\n",
    "\n",
    "- $x(0) = 10$\n",
    "- $v(0) = 0$\n",
    "\n",
    "Ahora la pregunta es ¿Cómo se toman estos datos? y ¿Cómo veo el comportamiento de las variables de interés?\n",
    "\n",
    "**Pasos:**\n",
    "1. Definir los parámetros del caso \n",
    "2. Plantear el sistema de ecuaciones de primer orden para cada caso \n",
    "\n",
    "- **Caso  1:**\n",
    "$$\\ddot{x} = \\frac{1}{m}(-b_a \\dot{x} - mg)  $$ \n",
    "\n",
    "- **Caso  2:**\n",
    "$$\\ddot{x} = \\frac{1}{m}(-kx - b\\dot{x} -mg) $$ \n",
    "3. Especificar las condiciones iniciales.\n",
    "4. Especificar el tiempo. \n",
    "4. Calcular y gráficar un tramo de la solución desde la condición inicial hasta el tiempo $t_1$ en el que se cumple que $x(t_1)=0$.\n",
    "5. Utilizando como condición inicial los valores finales del tramo obtenido en el punto anterior: $x(t_1) = 0$, $v(t_1)$ se calcula un nuevo tramo de la solución hasta un instante $t_2$ en que se verifique nuevamente $x(t_2)=0$.\n",
    "6. Repetir el procedimiento anterior varias vecces y gráficar la solución. \n"
   ]
  },
  {
   "cell_type": "code",
   "execution_count": 5,
   "id": "0f76d850",
   "metadata": {},
   "outputs": [],
   "source": [
    "# Importar librerias \n",
    "import numpy as np\n",
    "import matplotlib.pyplot as plt\n",
    "from scipy import integrate\n",
    "from ipywidgets import interact\n",
    "\n",
    "# Función formato gráfica\n",
    "def formato_grafica(ax, titulo, ejex, ejey, leyenda=False, xlim=[None, None], ylim=[None, None]):\n",
    "    plt.rcParams['axes.axisbelow'] = True\n",
    "\n",
    "    ax.set_title(titulo, fontsize=15)\n",
    "    ax.set_ylabel(ejey, fontsize=13)\n",
    "    ax.set_xlabel(ejex, fontsize=13)\n",
    "\n",
    "    plt.tick_params(direction='out', length=5, width=0.75, grid_alpha=0.3)\n",
    "    plt.xticks(rotation=0)\n",
    "    plt.minorticks_on()\n",
    "    plt.ylim(ylim[0], ylim[1])\n",
    "    plt.xlim(xlim[0], xlim[1])\n",
    "    ax.grid(True)\n",
    "    ax.grid(visible=True, which='major', color='grey', linestyle='-')\n",
    "    ax.grid(visible=True, which='minor', color='lightgrey', linestyle='-', alpha=0.2)\n",
    "    \n",
    "    if leyenda == True:\n",
    "        plt.legend(loc='best')\n",
    "    \n",
    "    plt.tight_layout()\n"
   ]
  },
  {
   "cell_type": "code",
   "execution_count": 6,
   "id": "f665e790",
   "metadata": {},
   "outputs": [],
   "source": [
    "# Paso 1: Definición de parámetros \n",
    "\n",
    "m = 1             # Masa\n",
    "b_a = 0.1         # Coeficiente de rozamiento del aire\n",
    "b = 30            # Constante de amortiguamiento del suelo\n",
    "g = 9.8           # Gravedad\n",
    "k = (2011231)/2   # Constante de elasticidad del suelo"
   ]
  },
  {
   "cell_type": "code",
   "execution_count": 7,
   "id": "058c23b3",
   "metadata": {},
   "outputs": [],
   "source": [
    "# Paso 2: Definir ecuación\n",
    "\n",
    "def ecuacion_2(variables, t, m, b_a, b, g, k):\n",
    "    x = variables[0]\n",
    "    dx_dt = variables[1]\n",
    "    \n",
    "    if (x > 0):\n",
    "        d2x_dt2 = (1/m)*(-b_a*dx_dt - m*g)\n",
    "    else:\n",
    "        d2x_dt2 = (1/m)*(-k*x - b*dx_dt - m*g)\n",
    "        \n",
    "    return [dx_dt, d2x_dt2]"
   ]
  },
  {
   "cell_type": "code",
   "execution_count": 8,
   "id": "0e98e702",
   "metadata": {},
   "outputs": [],
   "source": [
    "# Paso 3: Condiciones iniciales\n",
    "# x(0) = 10\n",
    "# v(0) = 0\n",
    "con_init_1 = [10, 0]  "
   ]
  },
  {
   "cell_type": "code",
   "execution_count": 9,
   "id": "1bb310e3",
   "metadata": {},
   "outputs": [],
   "source": [
    "# Paso 4: Paso de tiempo que se va a estudiar \n",
    "time_1 = np.linspace(0, 10, 97)  "
   ]
  },
  {
   "cell_type": "code",
   "execution_count": 10,
   "id": "e0059419",
   "metadata": {},
   "outputs": [
    {
     "data": {
      "text/plain": [
       "array([[ 1.00000000e+01,  0.00000000e+00],\n",
       "       [ 9.94701587e+00, -1.01553492e+00],\n",
       "       [ 9.78879577e+00, -2.02054624e+00],\n",
       "       [ 9.52643035e+00, -3.01514304e+00],\n",
       "       [ 9.16099884e+00, -3.99943322e+00],\n",
       "       [ 8.69356926e+00, -4.97352359e+00],\n",
       "       [ 8.12519858e+00, -5.93751986e+00],\n",
       "       [ 7.45693281e+00, -6.89152661e+00],\n",
       "       [ 6.68980713e+00, -7.83564738e+00],\n",
       "       [ 5.82484598e+00, -8.76998460e+00],\n",
       "       [ 4.86306319e+00, -9.69463965e+00],\n",
       "       [ 3.80546207e+00, -1.06097129e+01],\n",
       "       [ 2.65303556e+00, -1.15153036e+01],\n",
       "       [ 1.40676630e+00, -1.24115100e+01],\n",
       "       [ 6.76267575e-02, -1.32984293e+01],\n",
       "       [ 1.17053399e+00,  1.16709333e+01],\n",
       "       [ 2.32696195e+00,  1.05344571e+01],\n",
       "       [ 3.36562147e+00,  9.40975785e+00],\n",
       "       [ 4.28773289e+00,  8.29671338e+00],\n",
       "       [ 5.09450393e+00,  7.19520294e+00],\n",
       "       [ 5.78712984e+00,  6.10510702e+00],\n",
       "       [ 6.36679347e+00,  5.02630732e+00],\n",
       "       [ 6.83466537e+00,  3.95868680e+00],\n",
       "       [ 7.19190401e+00,  2.90212960e+00],\n",
       "       [ 7.43965585e+00,  1.85652108e+00],\n",
       "       [ 7.57905546e+00,  8.21747789e-01],\n",
       "       [ 7.61122563e+00, -2.02302562e-01],\n",
       "       [ 7.53727755e+00, -1.21574109e+00],\n",
       "       [ 7.35831088e+00, -2.21867775e+00],\n",
       "       [ 7.07541389e+00, -3.21122139e+00],\n",
       "       [ 6.68966356e+00, -4.19347969e+00],\n",
       "       [ 6.20212571e+00, -5.16555924e+00],\n",
       "       [ 5.61385512e+00, -6.12756551e+00],\n",
       "       [ 4.92589567e+00, -7.07960290e+00],\n",
       "       [ 4.13928039e+00, -8.02177470e+00],\n",
       "       [ 3.25503161e+00, -8.95418316e+00],\n",
       "       [ 2.27416107e+00, -9.87692944e+00],\n",
       "       [ 1.19767001e+00, -1.07901137e+01],\n",
       "       [ 2.65493053e-02, -1.16938349e+01],\n",
       "       [ 1.05061650e+00,  1.01021299e+01],\n",
       "       [ 2.04447564e+00,  8.98191061e+00],\n",
       "       [ 2.92225095e+00,  7.87329975e+00],\n",
       "       [ 3.68514535e+00,  6.77617698e+00],\n",
       "       [ 4.33434928e+00,  5.69042325e+00],\n",
       "       [ 4.87104085e+00,  4.61592076e+00],\n",
       "       [ 5.29638602e+00,  3.55255291e+00],\n",
       "       [ 5.61153863e+00,  2.50020431e+00],\n",
       "       [ 5.81764055e+00,  1.45876079e+00],\n",
       "       [ 5.91582184e+00,  4.28109326e-01],\n",
       "       [ 5.90720083e+00, -5.91861906e-01],\n",
       "       [ 5.79288427e+00, -1.60126358e+00],\n",
       "       [ 5.57396744e+00, -2.60020523e+00],\n",
       "       [ 5.25153427e+00, -3.58879525e+00],\n",
       "       [ 4.82665746e+00, -4.56714090e+00],\n",
       "       [ 4.30039860e+00, -5.53534835e+00],\n",
       "       [ 3.67380826e+00, -6.49352265e+00],\n",
       "       [ 2.94792614e+00, -7.44176777e+00],\n",
       "       [ 2.12378116e+00, -8.38018661e+00],\n",
       "       [ 1.20239158e+00, -9.30888098e+00],\n",
       "       [ 1.84765111e-01, -1.02279517e+01],\n",
       "       [ 7.86224912e-01,  9.01475236e+00],\n",
       "       [ 1.66740347e+00,  7.90580118e+00],\n",
       "       [ 2.43366585e+00,  6.80834160e+00],\n",
       "       [ 3.08620288e+00,  5.72225457e+00],\n",
       "       [ 3.62619302e+00,  4.64742222e+00],\n",
       "       [ 4.05480256e+00,  3.58372793e+00],\n",
       "       [ 4.37318571e+00,  2.53105629e+00],\n",
       "       [ 4.58248470e+00,  1.48929305e+00],\n",
       "       [ 4.68382992e+00,  4.58325197e-01],\n",
       "       [ 4.67834006e+00, -5.61959150e-01],\n",
       "       [ 4.56712221e+00, -1.57167070e+00],\n",
       "       [ 4.35127197e+00, -2.57091901e+00],\n",
       "       [ 4.03187362e+00, -3.55981251e+00],\n",
       "       [ 3.61000018e+00, -4.53845849e+00],\n",
       "       [ 3.08671356e+00, -5.50696317e+00],\n",
       "       [ 2.46306466e+00, -6.46543161e+00],\n",
       "       [ 1.74009350e+00, -7.41396783e+00],\n",
       "       [ 9.18829323e-01, -8.35267474e+00],\n",
       "       [ 2.90688825e-04, -9.28165421e+00],\n",
       "       [ 8.40059603e-01,  7.78141924e+00],\n",
       "       [ 1.59343277e+00,  6.68524859e+00],\n",
       "       [ 2.23321415e+00,  5.60043712e+00],\n",
       "       [ 2.76058086e+00,  4.52686711e+00],\n",
       "       [ 3.17669778e+00,  3.46442209e+00],\n",
       "       [ 3.48271774e+00,  2.41298676e+00],\n",
       "       [ 3.67978164e+00,  1.37244704e+00],\n",
       "       [ 3.76901858e+00,  3.42690009e-01],\n",
       "       [ 3.75154590e+00, -6.76396057e-01],\n",
       "       [ 3.62846940e+00, -1.68492174e+00],\n",
       "       [ 3.40088341e+00, -2.68299647e+00],\n",
       "       [ 3.06987091e+00, -3.67072856e+00],\n",
       "       [ 2.63650369e+00, -4.64822517e+00],\n",
       "       [ 2.10184238e+00, -5.61559237e+00],\n",
       "       [ 1.46693667e+00, -6.57293513e+00],\n",
       "       [ 7.32825357e-01, -7.52035734e+00],\n",
       "       [ 6.89071074e-02,  7.87578804e+00],\n",
       "       [ 8.32059334e-01,  6.77863948e+00]])"
      ]
     },
     "execution_count": 10,
     "metadata": {},
     "output_type": "execute_result"
    }
   ],
   "source": [
    "# Paso 5: Solucionar ODE\n",
    "\n",
    "sol_1 = integrate.odeint(func=ecuacion_2, \n",
    "                       y0=con_init_1, \n",
    "                       t=time_1, \n",
    "                       args=(m, b_a, b, g, k))\n",
    "sol_1"
   ]
  },
  {
   "cell_type": "code",
   "execution_count": 11,
   "id": "46b348dc",
   "metadata": {},
   "outputs": [
    {
     "data": {
      "image/png": "[encoded data removed]",
      "text/plain": [
       "<Figure size 720x288 with 2 Axes>"
      ]
     },
     "metadata": {
      "needs_background": "light"
     },
     "output_type": "display_data"
    }
   ],
   "source": [
    "fig, (ax1, ax2) = plt.subplots(1, 2, figsize=(10, 4))\n",
    "ax1.plot(time_1, sol_1[:,0], label='Posición')\n",
    "ax2.plot(time_1, sol_1[:,1], 'r')\n",
    "\n",
    "formato_grafica(ax1 ,titulo='', \n",
    "                ejex='Tiempo ($t$)', \n",
    "                ejey='Posición ($x$)',\n",
    "                leyenda=False)\n",
    "\n",
    "formato_grafica(ax2, titulo='', \n",
    "                ejex='Tiempo ($t$)', \n",
    "                ejey='Velocidad ($v$)',\n",
    "                leyenda=False)"
   ]
  },
  {
   "cell_type": "markdown",
   "id": "c73a1d99",
   "metadata": {},
   "source": [
    "Ya teniendo este resultado, ¿Qué tal si se mira el comportamiento en el tiempo? Para esto se va a utilizar la librería `interact` de `ipywidgets`. "
   ]
  },
  {
   "cell_type": "code",
   "execution_count": 12,
   "id": "2e92104a",
   "metadata": {},
   "outputs": [],
   "source": [
    "def f_p1(t, b):\n",
    "\n",
    "    m = 1             # Masa\n",
    "    b_a = 0.1         # Coeficiente de rozamiento del aire\n",
    "    g = 9.8           # Gravedad\n",
    "    k = (2011231)/2   # Constante de elasticidad del suelo\n",
    "    \n",
    "    time = np.linspace(0, t, 97) \n",
    "    sol_1 = integrate.odeint(func=ecuacion_2, \n",
    "                        y0=con_init_1, \n",
    "                        t=time,\n",
    "                        args=(m, b_a, b, g, k))\n",
    "    \n",
    "    fig, (ax1, ax2) = plt.subplots(1, 2, figsize=(10, 4))\n",
    "    ax1.plot(time, sol_1[:,0], label='Posición')\n",
    "    ax2.plot(time, sol_1[:,1], 'r')\n",
    "\n",
    "    formato_grafica(ax1 ,titulo='', \n",
    "                    ejex='Tiempo ($t$)', \n",
    "                    ejey='Posición ($x$)',\n",
    "                    leyenda=False)\n",
    "\n",
    "    formato_grafica(ax2, titulo='', \n",
    "                    ejex='Tiempo ($t$)', \n",
    "                    ejey='Velocidad ($v$)',\n",
    "                    leyenda=False)"
   ]
  },
  {
   "cell_type": "code",
   "execution_count": 13,
   "id": "a27a9a8d",
   "metadata": {},
   "outputs": [
    {
     "data": {
      "application/vnd.jupyter.widget-view+json": {
       "model_id": "b10d3525d1884878bbadcb6b598e1ab3",
       "version_major": 2,
       "version_minor": 0
      },
      "text/plain": [
       "interactive(children=(IntSlider(value=7, description='t', max=15), IntSlider(value=15, description='b', max=30…"
      ]
     },
     "metadata": {},
     "output_type": "display_data"
    },
    {
     "data": {
      "text/plain": [
       "<function __main__.f_p1(t, b)>"
      ]
     },
     "execution_count": 13,
     "metadata": {},
     "output_type": "execute_result"
    }
   ],
   "source": [
    "interact(f_p1, t=(0, 15), b=(0, 30))"
   ]
  },
  {
   "cell_type": "markdown",
   "id": "565294f6",
   "metadata": {},
   "source": [
    "<a id=\"exercise2\"></a>\n",
    "## <font color=\"#276C9B\"> Actividad 2  </font>\n",
    "<div class=\"alert alert-block alert-warning\">\n",
    "    \n",
    "Interactue con cada uno de los *sliders*. Realice un análisis del comportamiento de la gráfica, concluya acerca del tiempo y de la constante de amortiaguamiento del suelo.\n",
    "\n",
    "**Nota:** No cambie los números que se encuentran dentro de la función interact o lo que se encuentra dentro de la función f_p1.\n",
    " \n",
    "</div>\n"
   ]
  },
  {
   "cell_type": "markdown",
   "id": "3d2c0c9d",
   "metadata": {},
   "source": []
  },
  {
   "cell_type": "markdown",
   "id": "54dac631",
   "metadata": {},
   "source": [
    "<a id=\"exercise3\"></a>\n",
    "## <font color=\"#276C9B\"> Actividad 3  </font>\n",
    "\n",
    "Teniendo como referencia el anterior ejercicio anterior, se tiene la ecuación del oscilador de Van der Pol. Este tiene un amortiguamiento no lineal y está descrito por la siguien ecuación de segundo orden:\n",
    "\n",
    "$$\\frac{d^2x}{dt^2}-\\mu(1-x^2)\\frac{dx}{dt}+x=0$$\n",
    "\n",
    "Siendo $x$ la posición, $t$ el tiempo y $\\mu$ que es el parámetro que tiene en cuenta el amortiguamiento, este depende no solo de la variable sino de de la magnitud de las oscilaciones. Esta ecuación permite modelar fenómenos y sistemas que oscinlan de manera periódica y esptable. Algunas áreas en las que se encuentra este fenómeno son:\n",
    "- Eléctrica: Circuitos y temporizadores.\n",
    "- Biología: Modelo eléctrico del corazón.\n",
    "\n",
    "<div class='alert alert-block alert-info'> \n",
    "    \n",
    "<i class='fa fa-info-circle' aria-hidden='true'></i>\n",
    "Puede obtener más información en el siguiente [documento](https://www.academia.edu/35768562/Oscilador_de_Van_Der_Pol).\n",
    "</div>\n",
    "\n",
    "El ejercicio que debe realizar consta de los siguientes pasos: "
   ]
  },
  {
   "cell_type": "markdown",
   "id": "2b1dc4e2",
   "metadata": {},
   "source": [
    "## Paso 1\n",
    "<div class=\"alert alert-block alert-warning\">\n",
    "Plantee el sistema de ecuaciones de primer orden, edite la plantilla que se encuentra a continuación dando doble clic sobre la casilla.\n",
    "</div>"
   ]
  },
  {
   "cell_type": "markdown",
   "id": "891b83fe",
   "metadata": {},
   "source": [
    "$$\\frac{d^2x}{dt^2}-\\mu(1-x^2)\\frac{dx}{dt}+x=0$$"
   ]
  },
  {
   "cell_type": "markdown",
   "id": "0a08c5c0",
   "metadata": {},
   "source": [
    "## Paso 2\n",
    "<div class=\"alert alert-block alert-warning\">\n",
    "Cree una variable con el parámetro que afecta la ecuación. \n",
    "</div>"
   ]
  },
  {
   "cell_type": "code",
   "execution_count": 14,
   "id": "d703f25a",
   "metadata": {},
   "outputs": [],
   "source": [
    "# Paso 2: Definición de variables \n"
   ]
  },
  {
   "cell_type": "markdown",
   "id": "23904bd7",
   "metadata": {},
   "source": [
    "## Paso 3\n",
    "\n",
    "<div class=\"alert alert-block alert-warning\">\n",
    "Defina la ecuuación que se quiere resolver. \n",
    "</div>"
   ]
  },
  {
   "cell_type": "code",
   "execution_count": 15,
   "id": "7027ef2c",
   "metadata": {},
   "outputs": [],
   "source": [
    "# Paso 3: Definir ecuación\n"
   ]
  },
  {
   "cell_type": "markdown",
   "id": "a10df1eb",
   "metadata": {},
   "source": [
    "## Paso 4\n",
    "\n",
    "<div class=\"alert alert-block alert-warning\">\n",
    "Especifique las siguientes condiciones iniciales:\n",
    "    \n",
    "- $x(0) = 1$\n",
    "- $x'(0) = 0$\n",
    "</div>"
   ]
  },
  {
   "cell_type": "code",
   "execution_count": 16,
   "id": "cb8d09e8",
   "metadata": {},
   "outputs": [],
   "source": [
    "# Paso 4: Condiciones iniciales\n"
   ]
  },
  {
   "cell_type": "markdown",
   "id": "6b8c7bc6",
   "metadata": {},
   "source": [
    "## Paso 5\n",
    "\n",
    "<div class=\"alert alert-block alert-warning\">\n",
    "Especifique el tiempo en el que se va a estudiar la respuesta entre un rango de 0 a 40. \n",
    "</div>"
   ]
  },
  {
   "cell_type": "code",
   "execution_count": 17,
   "id": "c1c81ecf",
   "metadata": {},
   "outputs": [],
   "source": [
    "# Paso 5. Puntos de tiempo\n"
   ]
  },
  {
   "cell_type": "markdown",
   "id": "8efd7a11",
   "metadata": {},
   "source": [
    "## Paso 6\n",
    "\n",
    "<div class=\"alert alert-block alert-warning\">\n",
    "Solucione el sistema ODE. \n",
    "</div>"
   ]
  },
  {
   "cell_type": "code",
   "execution_count": 18,
   "id": "1574138e",
   "metadata": {},
   "outputs": [],
   "source": [
    "## Paso 6: Solucionar ODE\n"
   ]
  },
  {
   "cell_type": "markdown",
   "id": "5f81682e",
   "metadata": {},
   "source": [
    "## Paso 7\n",
    "\n",
    "En esta debe contruir una gráfica que tenga una fila y 3 columnas que se encuentren organizadas de la siguiente forma:\n",
    "    \n",
    "    - Columna 1: x vs t\n",
    "    - Columna 2: y vs t\n",
    "    - Columna 3: y vs x\n",
    "\n",
    "Para que la gráfica sea interactiva como en el anterior punto debe pasar como parámetros la función $\\mu$ y la condición inicial como se muestra a continuacion:\n",
    " ``` Python    \n",
    "    def f(mu, x0):\n",
    " ```\n",
    " \n",
    "Dentro de esta función se deben realizar las gráficas y la función para resolver la ecuación de segundo orden. Finalmente, para poder interactuar con ella debe agregar en una casilla diferente y debajo de la que declaró la función la siguiente línea:\n",
    "\n",
    " ``` Python\n",
    "interact(f, mu=(0, 10), x0=1)\n",
    " ```"
   ]
  },
  {
   "cell_type": "code",
   "execution_count": 19,
   "id": "86edbc86",
   "metadata": {},
   "outputs": [],
   "source": [
    "# Paso 7: Función para la gráfica\n"
   ]
  },
  {
   "cell_type": "code",
   "execution_count": 20,
   "id": "a7879568",
   "metadata": {},
   "outputs": [],
   "source": [
    "# Paso 7: Línea para visualizar\n"
   ]
  },
  {
   "cell_type": "markdown",
   "id": "3ef40468",
   "metadata": {},
   "source": [
    "1. Seleccione 3 configuraciones de $\\mu$ para una condición inicial, describa qué ve en cada una de las gráficas. \n",
    "2. ¿Qué sucede cuando $\\mu$ se vuelve negativo? "
   ]
  },
  {
   "cell_type": "markdown",
   "id": "07ec38b5",
   "metadata": {},
   "source": []
  }
 ],
 "metadata": {
  "kernelspec": {
   "display_name": "Python 3 (ipykernel)",
   "language": "python",
   "name": "python3"
  },
  "language_info": {
   "codemirror_mode": {
    "name": "ipython",
    "version": 3
   },
   "file_extension": ".py",
   "mimetype": "text/x-python",
   "name": "python",
   "nbconvert_exporter": "python",
   "pygments_lexer": "ipython3",
   "version": "3.9.12"
  }
 },
 "nbformat": 4,
 "nbformat_minor": 5
}

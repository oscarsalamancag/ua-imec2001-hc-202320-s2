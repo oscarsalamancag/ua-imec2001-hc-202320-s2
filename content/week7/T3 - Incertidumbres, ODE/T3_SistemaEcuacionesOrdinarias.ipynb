{
 "cells": [
  {
   "cell_type": "markdown",
   "id": "ea6e2bc4",
   "metadata": {},
   "source": [
    "Estudiante 1:\n",
    "\n",
    "Estudiante 2:\n",
    "\n",
    "----"
   ]
  },
  {
   "cell_type": "markdown",
   "id": "f09b1d95",
   "metadata": {},
   "source": [
    "# Departamento de Ingeniería Mecánica\n",
    "## IMEC 2001 - Herramientas Computacionales\n",
    "### Taller 3 - Sistemas de Ecuaciones Ordinarias\n",
    "----\n",
    "### **<span style=\"color:#A1CCD1;\">Condiciones de la entrega </span>**\n",
    "----\n",
    "**1. Fechas de entrega:**\n",
    "- Nota sobre 5.00 ->  <span style=\"color:red;\">1 de Octubre a las 23:59, 2023</span>\n",
    "\n",
    "**2. Colocar el nombre de los integrantes en la casilla correspondiente<br>**\n",
    "**3. La entrega del taller es por Bloque Neon y se envía el archivo en formato de Jupyter Notebook (extensión `.ipynb`)<br>**\n",
    "**4. El nombre del archivo debe ser:** \n",
    "- Si trabajó en parejas:`T#_ApellidosIntegrante1_ApellidosIntegrante2` (Ej: `T#_Salamanca_VargasTorres`)\n",
    "- Si trabajó individual: `T#_Apellido` (Ej: `T#_VargasTorres`)\n",
    "\n",
    "**5. Comente el código con el proceso que realizó para llegar a la solución.<br>**\n",
    "**6. <span style=\"color:red;\"> Si se detecta copia con otro de los talleres enviados, automáticamente la nota para los grupos involucrados es 0. </span>**\n",
    "\n",
    "\n",
    "\n"
   ]
  },
  {
   "cell_type": "markdown",
   "id": "54dac631",
   "metadata": {},
   "source": [
    "<a id=\"exercise3\"></a>\n",
    "## <font color=\"#276C9B\"> Actividad 1  </font>\n",
    "\n",
    "En los sistemas dinámicos bidimensionales para algunos casos se tienen los ciclos límite los cuales son una trayectoria cerrada en el espacio. A continuación tiene las ecuaciones de las que debe encontrar la solución para $x$ y $y$:\n",
    "\n",
    "$$y = - x' + x(1-x^2-y^2)$$\n",
    "$$-x = -y' + y(1-x^2-y^2)$$ \n",
    "\n",
    "El ejercicio que debe realizar consta de los siguientes pasos: \n",
    "1. Reescriba la ecuación para que se exprese la primera derivada en términos de x y y. \n",
    "3. Especifique como condiciones iniciales:\n",
    "- x(0) = 0\n",
    "- y(0) = 1\n",
    "4. Especifique el tiempo en el que se va a estudiar la respuesta. \n",
    "4. Solucione el sistema ode. \n",
    "5. Debe realizar una gráfica interactiva teniendo en cuenta la solución encontrada en el literal anterior. Para esto utilice la siguiente función (lo que se encuentra comentado debe completarlo): \n",
    "\n",
    "```Python\n",
    "def f(alpha, t):\n",
    "    tiempo = # Completar\n",
    "    sol = # Completar\n",
    "    \n",
    "    w = 3\n",
    "    x = np.linspace(-w, w, 101)\n",
    "    y = np.linspace(-w, w, 101)\n",
    "    # full coordinate arrays\n",
    "    X, Y = np.meshgrid(x, y)\n",
    "    U = alpha*X - alpha*(X**2 + Y**2)*X - Y\n",
    "    V = alpha*Y - alpha*(X**2 + Y**2)*Y + X\n",
    "    \n",
    "    fig, ax = plt.subplots(figsize=(5,5))\n",
    "    ax.plot(# Completar con la solución encontrada)\n",
    "    ax.streamplot(X,Y,U,V)\n",
    "\n",
    "    formato_grafica(# Completar)\n",
    " ```\n",
    "Para poder desplegar la gráfica utilice la siguiente línea de código:\n",
    "```Python\n",
    " interact(f, alpha=(0, 1, 0.1), t=(0, 'Completar', 0.1))\n",
    " ```"
   ]
  },
  {
   "cell_type": "markdown",
   "id": "7e91a521",
   "metadata": {},
   "source": [
    "1. Varie $\\alpha$ tres veces y comente los resultados.\n",
    "2. Varie el tiempo y comente lo que observa. "
   ]
  }
 ],
 "metadata": {
  "kernelspec": {
   "display_name": "Python 3 (ipykernel)",
   "language": "python",
   "name": "python3"
  },
  "language_info": {
   "codemirror_mode": {
    "name": "ipython",
    "version": 3
   },
   "file_extension": ".py",
   "mimetype": "text/x-python",
   "name": "python",
   "nbconvert_exporter": "python",
   "pygments_lexer": "ipython3",
   "version": "3.11.4"
  }
 },
 "nbformat": 4,
 "nbformat_minor": 5
}

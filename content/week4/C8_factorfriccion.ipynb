{
 "cells": [
  {
   "cell_type": "markdown",
   "metadata": {},
   "source": [
    "# IMEC2001 Herramientas Computacionales \n",
    "## Semana 4: Raíces de Ecuaciones\n",
    "### Clase 8:  Factor de Fricción de Darcy\n",
    "\n",
    "Universidad de los Andes — Octubre 30, 2023.\n",
    "\n",
    "---\n",
    "\n",
    "## TABLA DE CONTENIDO\n",
    "\n",
    "### Sección 1: Factor de Fricción de Darcy [→](#section1)\n",
    "- 1.1. Introducción\n",
    "- 1.2. Número de Reynolds\n",
    "- 1.3. Coeficiente de Fricción\n",
    "- 1.4. Flujo Laminar\n",
    "- 1.5. Flujo Turbulento\n",
    "- 1.6. Diagrama de Moody\n",
    "- 1.7. Ejemplo\n",
    "    - 1.7.1. Paso 1. Determinar el Número de Reynolds ($Re$)\n",
    "    - 1.7.2. Paso 2. Determinar la Rugosidad Relativa ($\\varepsilon_r$)\n",
    "    - 1.7.3. Paso 3. Determinar el Coeficiente de Fricción de Darcy ($f$)\n",
    "    - 1.7.3. Paso 4. Determinar la Pérdida de Carga ($h_f$)\n",
    "- 1.8. Factor de Fricción de Darcy con Librerías\n",
    "    - 1.8.1. Empleando `scipy.optimize.fsolve`\n",
    "    - 1.8.2. Empleando `scipy.optimize.root_scalar`\n",
    "    - 18.3. Empleando `sympy`\n",
    "    - 18.4. Empleando `colebrook`\n",
    "___"
   ]
  },
  {
   "cell_type": "markdown",
   "metadata": {},
   "source": [
    "<a id=\"section1\"></a>\n",
    "# Sección 1: Factor de Fricción de Darcy"
   ]
  },
  {
   "cell_type": "markdown",
   "metadata": {},
   "source": [
    "## 1.1. Introducción\n",
    "\n",
    "Consideramos la siguiente pregunta:\n",
    "\n",
    "<div class=\"alert alert-block alert-success\">\n",
    "Dada una tubería cilíndrica y componentes adicionales como válvulas y codos, más el caudal de diseño (dado por la bomba centrífuga) y las propiedades del fluido, ¿qué diferencia de presiones se necesita para generar el flujo?\n",
    "</div>\n",
    "\n",
    "Notemos una relación importante: **diferencia de presión** a causa del **flujo en un conducto**. Algunas variables que están presentes son:\n",
    "- Rugosidad de la pared.\n",
    "- Número de Reynolds que indica el tipo de flujo (laminar o turbulento).\n",
    "- Caudal."
   ]
  },
  {
   "cell_type": "markdown",
   "metadata": {},
   "source": [
    "## 1.2. Número de Reynolds\n",
    "\n",
    "Relación entre las *fuerzas de inercia* y las *fuerzas viscosas* de un fluido que permiten determinar si el flujo es laminar o turbulento.\n",
    "\n",
    "$$\n",
    "Re = \\frac{\\rho V D}{\\mu} = \\frac{V D}{\\nu}\n",
    "$$\n",
    "\n",
    "Siendo $\\rho$ la densidad del fluido, $V$ la velocidad de flujo, $D$ el diámetro interno de la tubería, $\\mu$ la viscosidad dinámica del fluido y $\\nu$ la viscosidad cinemática del fluido.\n",
    "\n",
    "La **viscosidad dinámica $\\mu$** es la resistencia interna entre las moléculas de un fluido en movimiento y determina las fuerzas que lo mueven y deforman. Por otra parte, la **viscosidad cinemática $\\nu$** se puede entender como la resistencia del fluido al movimiento.\n",
    "\n",
    "Típicamente:\n",
    "- Flujo laminar cuando $Re \\leq 2300$\n",
    "- Flujo turbulento cuando $Re > 2300$\n",
    "\n",
    "Además, el flujo turbulento es más común que el laminar.\n",
    "\n",
    "<img src='./img/flows.gif' width='350' height='350' />"
   ]
  },
  {
   "cell_type": "markdown",
   "metadata": {},
   "source": [
    "## 1.3. Coeficiente de Fricción\n",
    "\n",
    "La fricción dada por las paredes del conducto causan una pérdida de carga $h_f$ (es decir, **reducen la cabeza**).\n",
    "\n",
    "$$\n",
    "h_f = f \\frac{L}{D} \\frac{V^2}{2g}\n",
    "$$\n",
    "\n",
    "Siendo:\n",
    "- $f$ el **coeficiente de fricción de Darcy**.\n",
    "- $L$ la longitud de la tubería.\n",
    "- $D$ el diámetro de la tubería.\n",
    "- $V$ la velocidad del fluido.\n",
    "- $g$ la gravedad.\n",
    "\n",
    "En general, el coeficiente de fricción de Darcy es función de $Re$ y la rugosidad de la pared $\\varepsilon$.\n",
    "\n",
    "También, recordemos que:\n",
    "\n",
    "$$\n",
    "Q = VA \\rightarrow V = \\frac{Q}{A}\n",
    "$$\n",
    "\n",
    "y\n",
    "\n",
    "$$\n",
    "A = \\frac{\\pi D^2}{4}\n",
    "$$\n",
    "\n",
    "Siendo $A$ el área transversal de la tubería cilíndrica."
   ]
  },
  {
   "cell_type": "markdown",
   "metadata": {},
   "source": [
    "## 1.4. Flujo Laminar\n",
    "\n",
    "Recordemos que el flujo dentro de una tubería es *laminar* cuando $Re \\leq 2300$. Para este caso, el coeficiente de fricción de Darcy es: <br><br>\n",
    "\n",
    "<font color=\"white\">\n",
    "    \n",
    "$$\n",
    "f = \\frac{64}{Re}\n",
    "$$\n",
    "    \n",
    "</font>\n",
    "\n",
    "**Nota:** La derivación de esta relación se presenta en la Sección 6.4 de la lectura White - Mecánica de Fluidos (Ch. 6) en Bloque Neón > Contenido > Semana 4 > Lecturas > White, Mecánica de Fluidos (Ch. 6)."
   ]
  },
  {
   "cell_type": "markdown",
   "metadata": {},
   "source": [
    "## 1.5. Flujo Turbulento\n",
    "\n",
    "Recordemos que el flujo dentro de una tubería es *turbulento* cuando $Re > 2300$. Para este caso, el coeficiente de fricción de Darcy es: <br><br>\n",
    "\n",
    "<font color=\"white\">\n",
    "\n",
    "$$\n",
    "\\frac{1}{\\sqrt{f}} = -2 \\: \\text{log} \\left( \\frac{\\varepsilon / D}{3.7} + \\frac{2.51}{Re \\sqrt{f}} \\right)\n",
    "$$\n",
    "\n",
    "</font>\n",
    "\n",
    "Esta ecuación es también conocida como la **ecuación de Colebrook-White**.\n",
    "\n",
    "**Nota:** La derivación de esta relación se presenta en la Sección 6.6 de la lectura White - Mecánica de Fluidos (Ch. 6) en Bloque Neón > Contenido > Semana 4 > Lecturas > White, Mecánica de Fluidos (Ch. 6)."
   ]
  },
  {
   "cell_type": "markdown",
   "metadata": {},
   "source": [
    "## 1.6. Diagrama de Moody\n",
    "\n",
    "Aquí surge el concepto de *rugosidad relativa* ( $\\varepsilon_r$ ), que es la relación entre la rugosidad y el diámetro ( $\\varepsilon / D$ ).\n",
    "\n",
    "<img src='./img/moody2.png' width='800' height='800' />"
   ]
  },
  {
   "cell_type": "markdown",
   "metadata": {},
   "source": [
    "## 1.7. Ejemplo\n",
    "\n",
    "Primero, asegurémonos de haber instalado las librerías:\n",
    "\n",
    "> ```python\n",
    "  !pip install Pint\n",
    "  ```"
   ]
  },
  {
   "cell_type": "code",
   "execution_count": null,
   "metadata": {},
   "outputs": [],
   "source": [
    "# Datos y Gráficas\n",
    "%matplotlib inline\n",
    "import matplotlib.pyplot as plt\n",
    "import pandas as pd\n",
    "\n",
    "# Raíces\n",
    "import numpy as np\n",
    "from scipy import optimize\n",
    "import sympy\n",
    "\n",
    "# Unidades\n",
    "from pint import UnitRegistry"
   ]
  },
  {
   "cell_type": "markdown",
   "metadata": {},
   "source": [
    "## 1.7. Ejemplo\n",
    "\n",
    "Calculemos la pérdida de carga $h_f$ en una tubería horizontal de 6 in de diámetro ( $D$ ) y 200 ft de longitud ( $L$ ) de hierro fundido asfáltico, por el que circula agua a una velocidad media de 6 ft/s ( $V$ ).\n",
    "\n",
    "Consideremos:\n",
    "- $\\rho = 1.94$ slug / ft$^3$\n",
    "- $\\mu = 2.09 · 10^{-5}$ slug / ft·s\n",
    "- $\\varepsilon = 0.0004$ ft.\n",
    "\n",
    "Recordemos que la rugosidad relativa es $\\varepsilon_r = \\varepsilon / D$."
   ]
  },
  {
   "cell_type": "markdown",
   "metadata": {},
   "source": [
    "Podemos utilizar `Pint()` para manejar las unidades de las variables:\n",
    "\n",
    "<div class='alert alert-block alert-info'>   \n",
    "    \n",
    "<i class='fa fa-info-circle' aria-hidden='true'></i>\n",
    "Puede obtener más información en la documentación oficial de la librería `pint` dando clic [aquí](https://pint.readthedocs.io/en/stable/getting/tutorial.html).\n",
    "</div>"
   ]
  },
  {
   "cell_type": "code",
   "execution_count": null,
   "metadata": {},
   "outputs": [],
   "source": [
    "# PASO 1. Definimos las variables\n",
    "units = UnitRegistry() # Unidades con Pint\n",
    "\n",
    "D = 6 * units.inch # Diámetro [in]\n",
    "L = 200 * units.foot # Longitud [ft]\n",
    "V = 6.0 * units.foot_per_second # Velocidad [ft/s]\n",
    "rho = 1.94 * units.slug / units.foot**3 # Densidad [slug/ft3]\n",
    "vis = 2.09e-5 * units.slug / (units.foot * units.second) # Viscosidad [slug/ft·s]\n",
    "rug = 0.0004 * units.foot # Rugosidad [ft]"
   ]
  },
  {
   "cell_type": "markdown",
   "metadata": {},
   "source": [
    "O también se puede de la forma:"
   ]
  },
  {
   "cell_type": "code",
   "execution_count": null,
   "metadata": {},
   "outputs": [],
   "source": [
    "D = units.Quantity('6 in') # Diámetro [in]\n",
    "L = units.Quantity('200 ft') # Longitud [ft]\n",
    "V = units.Quantity('6 ft/s') # Velocidad [ft/s]\n",
    "rho = units.Quantity('1.94 slug/ft**3') # Densidad [slug/ft3]\n",
    "vis = units.Quantity('2.09e-5 slug/(ft*s)') # Viscosidad [slug/ft·s]\n",
    "rug = units.Quantity('0.0004 ft') # Rugosidad [ft]"
   ]
  },
  {
   "cell_type": "code",
   "execution_count": null,
   "metadata": {},
   "outputs": [],
   "source": [
    "# Variable\n",
    "print(rho)\n",
    "\n",
    "# Magnitud\n",
    "print(rho.magnitude)\n",
    "\n",
    "# Unidades\n",
    "print(rho.units)\n",
    "\n",
    "# Dimensiones\n",
    "print(rho.dimensionality)"
   ]
  },
  {
   "cell_type": "code",
   "execution_count": null,
   "metadata": {},
   "outputs": [],
   "source": [
    "# Convesión de unidades\n",
    "print( D.to('foot') ) # Método 1\n",
    "print( D.to(units.foot) ) # Método 2"
   ]
  },
  {
   "cell_type": "code",
   "execution_count": null,
   "metadata": {},
   "outputs": [],
   "source": [
    "print( D.to('meter') ) # Diámetro [m]\n",
    "print( L.to('meter') ) # Longitud [m]\n",
    "print( V.to('meter/second') ) # Velocidad [m/s]\n",
    "print( rho.to(units.kilogram / units.meter**3) ) # Densidad [kg/m3]\n",
    "print( vis.to(units.kilogram / (units.meter * units.second)) ) # Viscosidad [kg/m·s]\n",
    "print( rug.to('meter') ) # Rugosidad [m]"
   ]
  },
  {
   "cell_type": "code",
   "execution_count": null,
   "metadata": {},
   "outputs": [],
   "source": [
    "print( vis.to(units.kilogram / (units.meter * units.second)).to_compact() ) # Viscosidad\n",
    "print( rug.to('meter').to_compact() ) # Rugosidad"
   ]
  },
  {
   "cell_type": "markdown",
   "metadata": {},
   "source": [
    "También podemos utilizar la función `to_base_units()` para convertir todas las variables al Sistema Internacional.\n",
    "\n",
    "<div class='alert alert-block alert-info'>   \n",
    "    \n",
    "<i class='fa fa-info-circle' aria-hidden='true'></i>\n",
    "Puede obtener más información de las unidades definidas en el repositorio oficial de la librería `pint` dando clic [aquí](https://github.com/hgrecco/pint/blob/master/pint/default_en.txt).\n",
    "</div>"
   ]
  },
  {
   "cell_type": "code",
   "execution_count": null,
   "metadata": {},
   "outputs": [],
   "source": [
    "print( D.to_base_units() ) # Diámetro [m]\n",
    "print( L.to_base_units() ) # Longitud [m]\n",
    "print( V.to_base_units() ) # Velocidad [m/s]\n",
    "print( rho.to_base_units() ) # Densidad [kg/m3]\n",
    "print( vis.to_base_units() ) # Viscosidad [kg/m·s]\n",
    "print( rug.to_base_units() ) # Rugosidad [m]"
   ]
  },
  {
   "cell_type": "markdown",
   "metadata": {},
   "source": [
    "O podemos calcular las conversiones en forma convencional."
   ]
  },
  {
   "cell_type": "code",
   "execution_count": null,
   "metadata": {},
   "outputs": [],
   "source": [
    "# PASO 1. Definimos las variables\n",
    "\n",
    "D = 6/12 # Diámetro [ft]\n",
    "L = 200 # Longitud [ft]\n",
    "V = 6.0 # Velocidad [ft/s]\n",
    "rho = 1.94 # Densidad [slug/ft3]\n",
    "vis = 2.09e-5 # Viscosidad [slug/ft·s]\n",
    "rug = 0.0004 # Rugosidad [ft]"
   ]
  },
  {
   "cell_type": "markdown",
   "metadata": {},
   "source": [
    "### 1.7.1. Paso 1. Determinar el Número de Reynolds ($Re$)"
   ]
  },
  {
   "cell_type": "markdown",
   "metadata": {},
   "source": [
    "$$\n",
    "Re = \\frac{\\rho V D}{\\mu}\n",
    "$$"
   ]
  },
  {
   "cell_type": "code",
   "execution_count": null,
   "metadata": {},
   "outputs": [],
   "source": [
    "def reynolds(densidad, velocidad, diametro, viscosidad):\n",
    "    return densidad*velocidad*diametro / viscosidad   \n",
    "\n",
    "Re = reynolds(densidad=rho,\n",
    "              velocidad=V,\n",
    "              diametro=D,\n",
    "              viscosidad=vis)\n",
    "    \n",
    "Re"
   ]
  },
  {
   "cell_type": "markdown",
   "metadata": {},
   "source": [
    "### 1.7.2. Paso 2. Determinar la Rugosidad Relativa ($\\varepsilon_{r}$)\n",
    "\n",
    "Recordemos que:\n",
    "\n",
    "$$\n",
    "\\varepsilon_r = \\varepsilon / D\n",
    "$$"
   ]
  },
  {
   "cell_type": "code",
   "execution_count": null,
   "metadata": {},
   "outputs": [],
   "source": [
    "rug_rel = rug / D\n",
    "rug_rel"
   ]
  },
  {
   "cell_type": "markdown",
   "metadata": {},
   "source": [
    "### 1.7.3. Paso 3. Determinar el Coeficiente de Fricción de Darcy ( $f$ )\n",
    "\n",
    "<div class=\"alert alert-block alert-success\">\n",
    "    \n",
    "Este paso puede realizarse de dos formas:\n",
    "1. Analíticamente mediante iteraciones hasta alcanzar una convergencia.\n",
    "2. Diagrama de Moody.\n",
    "\n",
    "</div>\n",
    "\n",
    "#### Forma 1\n",
    "Para el primer método, asumimos un valor de $f$ inicial para luego comparar las dos partes de la igualdad. El valor de $f$ correcto será el que converja según el valor estipulado manualmente de umbral. Reordenando un poco:\n",
    "\n",
    "$$\n",
    "\\frac{1}{\\sqrt{f}} = -2 \\: \\text{log} \\left( \\frac{\\varepsilon / D}{3.7} + \\frac{2.51}{Re \\sqrt{f}} \\right)\n",
    "$$\n",
    "\n",
    "$$\n",
    "\\left( \\frac{1}{\\sqrt{f}} \\right) ^2 = \\left[ -2 \\: \\text{log} \\left( \\frac{\\varepsilon / D}{3.7} + \\frac{2.51}{Re \\sqrt{f}} \\right) \\right]^2\n",
    "$$\n",
    "\n",
    "$$\n",
    "\\frac{1}{f} = \\left[ -2 \\: \\text{log} \\left( \\frac{\\varepsilon / D}{3.7} + \\frac{2.51}{Re \\sqrt{f}} \\right) \\right]^2\n",
    "$$\n",
    "\n",
    "$$\n",
    "f = \\frac{1}{\\left[ -2 \\: \\text{log} \\left( \\frac{\\varepsilon / D}{3.7} + \\frac{2.51}{Re \\sqrt{f}} \\right) \\right]^2}\n",
    "$$\n",
    "\n",
    "#### Forma 2\n",
    "Con la segunda opción, el coeficiente de fricción de Darcy (en este caso es aproximadamente 0.02) se determina así:\n",
    "\n",
    "<img src='./img/moody_e1.png' width='800' height='800' />"
   ]
  },
  {
   "cell_type": "markdown",
   "metadata": {},
   "source": [
    "Vamos a desarrollar el método iterativo para solucionar la ecuación de Colebrook-White:\n",
    "\n",
    "$$\n",
    "\\frac{1}{\\sqrt{f}} = -2 \\: \\text{log} \\left( \\frac{\\varepsilon / D}{3.7} + \\frac{2.51}{Re \\sqrt{f}} \\right)\n",
    "$$\n",
    "\n",
    "Reorganizada:\n",
    "\n",
    "$$\n",
    "f = \\frac{1}{\\left[ -2 \\: \\text{log} \\left( \\frac{\\varepsilon / D}{3.7} + \\frac{2.51}{Re \\sqrt{f}} \\right) \\right]^2}\n",
    "$$\n",
    "\n",
    "$$\n",
    "f = \\frac{1}{\\left[ -2 \\: \\text{log} \\left( \\frac{\\varepsilon_r}{3.7} + \\frac{2.51}{Re \\sqrt{f}} \\right) \\right]^2}\n",
    "$$"
   ]
  },
  {
   "cell_type": "code",
   "execution_count": null,
   "metadata": {},
   "outputs": [],
   "source": [
    "# PASO 1. Definimos el lado derecho de la igualdad\n",
    "def lado_derecho(rug_relativa, reynolds, coef_friccion):\n",
    "    \n",
    "    valor = 1 / ( -2 * np.log10( (rug_relativa/3.7) + (2.51 / (reynolds*np.sqrt(coef_friccion))) ) )**2\n",
    "    \n",
    "    return valor"
   ]
  },
  {
   "cell_type": "code",
   "execution_count": null,
   "metadata": {},
   "outputs": [],
   "source": [
    "# PASO 3. Iteración con while loop\n",
    "\n",
    "## 3.1. Definimos nuestros criterio de convergencia\n",
    "criterio_convergencia = 0.005"
   ]
  },
  {
   "cell_type": "code",
   "execution_count": null,
   "metadata": {},
   "outputs": [],
   "source": [
    "## 3.2. Primera estimación manual\n",
    "f_asumido = 0.1\n",
    "\n",
    "valor_lado_derecho = lado_derecho(rug_relativa=rug_rel,\n",
    "                                  reynolds=Re,\n",
    "                                  coef_friccion=f_asumido)\n",
    "\n",
    "print(valor_lado_derecho)"
   ]
  },
  {
   "cell_type": "markdown",
   "metadata": {},
   "source": [
    "Entonces:\n",
    "\n",
    "1. Asumimos un valor inicial de $f$. En este primer caso: $f=0.1$.\n",
    "2. Evaluamos el lado derecho de la ecuación reorganizada. En este primer caso el resultado es $0.019$.\n",
    "\n",
    "¿Qué criterio utilizamos para saber si este resultado es aceptable?"
   ]
  },
  {
   "cell_type": "code",
   "execution_count": null,
   "metadata": {},
   "outputs": [],
   "source": [
    "np.abs( f_asumido - valor_lado_derecho )"
   ]
  },
  {
   "cell_type": "markdown",
   "metadata": {},
   "source": [
    "¿Esta diferencia ($0.08$) es menor o igual a nuestro criterio de convergencia ($0.005$)?"
   ]
  },
  {
   "cell_type": "code",
   "execution_count": null,
   "metadata": {},
   "outputs": [],
   "source": [
    "## 3.3. Segunda estimación manual\n",
    "f_asumido = 0.019\n",
    "\n",
    "valor_lado_derecho = lado_derecho(rug_relativa=rug_rel,\n",
    "                                  reynolds=Re,\n",
    "                                  coef_friccion=f_asumido)\n",
    "\n",
    "print(valor_lado_derecho)\n",
    "\n",
    "print( np.abs( f_asumido - valor_lado_derecho ) )"
   ]
  },
  {
   "cell_type": "markdown",
   "metadata": {},
   "source": [
    "Esta vez la diferencia ($0.0008$) **sí** es menor a nuestro criterio de convergencia ($0.005$), entonces podemos decir que este resultado **es aceptable**.\n",
    "\n",
    "<div class=\"alert alert-block alert-success\">\n",
    "    \n",
    "Notemos que con el método manual obtenemos que $f = 0.0198$ mientras que con el método gráfico (Diagrama de Moody) el resultado es $f = 0.02$.\n",
    "\n",
    "</div>"
   ]
  },
  {
   "cell_type": "code",
   "execution_count": null,
   "metadata": {},
   "outputs": [],
   "source": [
    "## 3.4. Creamos el while loop\n",
    "dif = 100\n",
    "\n",
    "f_asumido = 0.1\n",
    "\n",
    "i = 1\n",
    "while dif > criterio_convergencia:\n",
    "    # Evaluar lado derecho asumiendo un valor f inicial\n",
    "    valor_lado_derecho = lado_derecho(rug_relativa=rug_rel,\n",
    "                                      reynolds=Re,\n",
    "                                      coef_friccion=f_asumido)\n",
    "    \n",
    "    # Calcular la diferencia entre el valor asumido y el calculado\n",
    "    dif = np.abs(f_asumido - valor_lado_derecho)\n",
    "    \n",
    "    print(f'ITERACIÓN {i} | Asumido: {f_asumido} | Estimado: {valor_lado_derecho} | Dif: {dif}')\n",
    "    \n",
    "    # Nuevo valor de f asumido\n",
    "    f_asumido = valor_lado_derecho\n",
    "    i += 1 # i = i + 1"
   ]
  },
  {
   "cell_type": "code",
   "execution_count": null,
   "metadata": {},
   "outputs": [],
   "source": [
    "print(f_asumido)"
   ]
  },
  {
   "cell_type": "markdown",
   "metadata": {},
   "source": [
    "### 1.7.3. Paso 4. Determinar la Pérdida de Carga ($h_f$)\n",
    "\n",
    "Recordemos la relación:\n",
    "\n",
    "$$\n",
    "h_f = f \\frac{L}{D} \\frac{V^2}{2g}\n",
    "$$\n",
    "\n",
    "En este caso $g = 32.2$ ft/s$^2$."
   ]
  },
  {
   "cell_type": "code",
   "execution_count": null,
   "metadata": {},
   "outputs": [],
   "source": [
    "# PASO 1. Creamos la función\n",
    "def perdida_carga(coef_friccion, longitud, diametro, velocidad):\n",
    "    \n",
    "    hf = coef_friccion * (longitud/diametro) * ((velocidad**2)/(2*32.2))\n",
    "   \n",
    "    return hf"
   ]
  },
  {
   "cell_type": "code",
   "execution_count": null,
   "metadata": {},
   "outputs": [],
   "source": [
    "# PASO 2. Evaluamos la función\n",
    "hf = perdida_carga(coef_friccion=f_asumido, \n",
    "                   longitud=L, \n",
    "                   diametro=D, \n",
    "                   velocidad=V)\n",
    "\n",
    "hf"
   ]
  },
  {
   "cell_type": "markdown",
   "metadata": {},
   "source": [
    "Este resultado quiere decir que la altura manométrica que lograba alcanzar la bomba centrífuga en condiciones iniciales se ve reducida en $4.43$ ft.\n",
    "\n",
    "<div class=\"alert alert-block alert-success\">\n",
    "    \n",
    "Por ejemplo, si inicialmente con la bomba centrífuga se lograba una altura manométrica de $10$ ft, ahora la cabeza será de $10 - 4.43$ ft, es decir, $5.57$ ft. Esto a causa de la fricción dentro de la tubería.\n",
    "\n",
    "</div>"
   ]
  },
  {
   "cell_type": "markdown",
   "metadata": {},
   "source": [
    "## 1.8. Factor de Fricción de Darcy con Librerías\n",
    "\n",
    "Partimos con la ecuación de Colebrook-White:\n",
    "\n",
    "$$\n",
    "\\frac{1}{\\sqrt{f}} = -2 \\: \\text{log} \\left( \\frac{\\varepsilon / D}{3.7} + \\frac{2.51}{Re \\sqrt{f}} \\right)\n",
    "$$\n",
    "\n",
    "Reorganizada para igualarla a cero:\n",
    "\n",
    "$$\n",
    "\\frac{1}{\\sqrt{f}} + 2 \\: \\text{log} \\left( \\frac{\\varepsilon / D}{3.7} + \\frac{2.51}{Re \\sqrt{f}} \\right) = 0\n",
    "$$\n",
    "\n",
    "$$\n",
    "\\frac{1}{\\sqrt{f}} + 2 \\: \\text{log} \\left( \\frac{\\varepsilon_r}{3.7} + \\frac{2.51}{Re \\sqrt{f}} \\right) = 0\n",
    "$$"
   ]
  },
  {
   "cell_type": "markdown",
   "metadata": {},
   "source": [
    "### 1.8.1. Empleando `scipy.optimize.fsolve`\n",
    "\n",
    "<div class='alert alert-block alert-info'>   \n",
    "    \n",
    "<i class='fa fa-info-circle' aria-hidden='true'></i>\n",
    "Puede obtener más información en la documentación oficial de la librería `scipy.optimize.fsolve` dando clic [aquí](https://docs.scipy.org/doc/scipy/reference/generated/scipy.optimize.fsolve.html).\n",
    "</div>"
   ]
  },
  {
   "cell_type": "code",
   "execution_count": null,
   "metadata": {},
   "outputs": [],
   "source": [
    "# PASO 1. Definir la función\n",
    "def colebrook_white(coef_friccion, rug_relativa, reynolds):\n",
    "    \n",
    "    valor = (1 / np.sqrt(coef_friccion)) + (2 * np.log10( (rug_relativa/3.7) + (2.51 / (reynolds*np.sqrt(coef_friccion))) ) )\n",
    "    \n",
    "    return valor"
   ]
  },
  {
   "cell_type": "code",
   "execution_count": null,
   "metadata": {},
   "outputs": [],
   "source": [
    "# PASO 2. Indicar valor cercano a la raíz\n",
    "f_asumido = 0.02"
   ]
  },
  {
   "cell_type": "code",
   "execution_count": null,
   "metadata": {},
   "outputs": [],
   "source": [
    "# PASO 3. Estimar raíz\n",
    "'''\n",
    "Note que la el parámetro 'args=()' de la función optimize.fsolve()\n",
    "se agrega porque nuestra función de estudio 'colebrook_white()'\n",
    "tiene más de un parámetro de entrada\n",
    "'''\n",
    "raices = optimize.fsolve(func=colebrook_white, # Como entrada requiere la función 'colebrook_white'\n",
    "                         x0=f_asumido,\n",
    "                         args=(rug_rel, Re)) # Note el parámetro args=()\n",
    "\n",
    "\n",
    "raices"
   ]
  },
  {
   "cell_type": "markdown",
   "metadata": {},
   "source": [
    "### 1.8.2. Empleando `scipy.optimize.root_scalar`\n",
    "\n",
    "<div class='alert alert-block alert-info'>   \n",
    "    \n",
    "<i class='fa fa-info-circle' aria-hidden='true'></i>\n",
    "Puede obtener más información en la documentación oficial de la librería `scipy.optimize.root_scalar` dando clic [aquí](https://docs.scipy.org/doc/scipy/reference/generated/scipy.optimize.root_scalar.html).\n",
    "</div>"
   ]
  },
  {
   "cell_type": "code",
   "execution_count": null,
   "metadata": {},
   "outputs": [],
   "source": [
    "# PASO 1. Definir la función\n",
    "def colebrook_white(coef_friccion, rug_relativa, reynolds):\n",
    "    \n",
    "    valor = (1 / np.sqrt(coef_friccion)) + (2 * np.log10( (rug_relativa/3.7) + (2.51 / (reynolds*np.sqrt(coef_friccion))) ) )\n",
    "    \n",
    "    return valor"
   ]
  },
  {
   "cell_type": "code",
   "execution_count": null,
   "metadata": {},
   "outputs": [],
   "source": [
    "# PASO 2. Indicar el rango donde se encuentra la raíz\n",
    "rango = [0.008, 0.1]"
   ]
  },
  {
   "cell_type": "code",
   "execution_count": null,
   "metadata": {},
   "outputs": [],
   "source": [
    "# PASO 3. Estimar raíces\n",
    "raices = optimize.root_scalar(f=colebrook_white,\n",
    "                              bracket=rango,\n",
    "                              method='bisect',\n",
    "                              args=(rug_rel, Re))\n",
    "\n",
    "raices"
   ]
  },
  {
   "cell_type": "markdown",
   "metadata": {},
   "source": [
    "### 18.3. Empleando `sympy`\n",
    "\n",
    "<div class='alert alert-block alert-info'>   \n",
    "    \n",
    "<i class='fa fa-info-circle' aria-hidden='true'></i>\n",
    "Puede obtener más información en la documentación oficial de la librería `sympy.solvers.solveset.nonlinsolve` dando clic [aquí](https://docs.sympy.org/latest/modules/solvers/solveset.html#nonlinsolve).\n",
    "</div>"
   ]
  },
  {
   "cell_type": "code",
   "execution_count": null,
   "metadata": {},
   "outputs": [],
   "source": [
    "# PASO 1. Definir la variable simbólica\n",
    "coef_friccion = sympy.Symbol('f', real=True)\n",
    "coef_friccion"
   ]
  },
  {
   "cell_type": "code",
   "execution_count": null,
   "metadata": {},
   "outputs": [],
   "source": [
    "# PASO 2. Definir la función simbólica\n",
    "colebrook_white = (1 / coef_friccion**0.5) + (2 * sympy.log( (rug_rel/3.7) + (2.51 / (Re*coef_friccion**0.5) ) ) ) \n",
    "colebrook_white"
   ]
  },
  {
   "cell_type": "code",
   "execution_count": null,
   "metadata": {},
   "outputs": [],
   "source": [
    "# PASO 3. Estimar raíces\n",
    "raices = sympy.nonlinsolve([colebrook_white], [coef_friccion]) # Los parámetros son `([ecuaciones], [símbolos])`; cada uno es una lista\n",
    "raices"
   ]
  },
  {
   "cell_type": "markdown",
   "metadata": {},
   "source": [
    "<div class=\"alert alert-block alert-warning\">   \n",
    "\n",
    "**BONO**\n",
    "    \n",
    "Implemente la función `sympy.nonlinsolve` para este caso. Explore cómo obtener un resultado numérico ($0.0198$ en este caso) a partir del modelamiento simbólico.\n",
    "\n",
    "</div>"
   ]
  },
  {
   "cell_type": "markdown",
   "metadata": {},
   "source": [
    "### 18.4. Empleando `colebrook`\n",
    "\n",
    "> ```python\n",
    "  pip install colebrook\n",
    "  ```\n",
    "\n",
    "<div class='alert alert-block alert-info'>   \n",
    "    \n",
    "<i class='fa fa-info-circle' aria-hidden='true'></i>\n",
    "Puede obtener más información en la documentación oficial de la librería `colebrook.sjFriction` dando clic [aquí](https://github.com/IMEConsultants/colebrook/).\n",
    "</div>"
   ]
  },
  {
   "cell_type": "code",
   "execution_count": null,
   "metadata": {},
   "outputs": [],
   "source": [
    "!pip install colebrook"
   ]
  },
  {
   "cell_type": "code",
   "execution_count": null,
   "metadata": {},
   "outputs": [],
   "source": [
    "import colebrook"
   ]
  },
  {
   "cell_type": "code",
   "execution_count": null,
   "metadata": {},
   "outputs": [],
   "source": [
    "coef_friccion = colebrook.sjFriction(reynolds=Re,\n",
    "                                     roughness=rug_rel)"
   ]
  },
  {
   "cell_type": "code",
   "execution_count": null,
   "metadata": {},
   "outputs": [],
   "source": [
    "coef_friccion"
   ]
  }
 ],
 "metadata": {
  "kernelspec": {
   "display_name": "hc",
   "language": "python",
   "name": "hc"
  },
  "language_info": {
   "codemirror_mode": {
    "name": "ipython",
    "version": 3
   },
   "file_extension": ".py",
   "mimetype": "text/x-python",
   "name": "python",
   "nbconvert_exporter": "python",
   "pygments_lexer": "ipython3",
   "version": "3.11.0"
  },
  "toc": {
   "base_numbering": 1,
   "nav_menu": {},
   "number_sections": false,
   "sideBar": true,
   "skip_h1_title": true,
   "title_cell": "Table of Contents",
   "title_sidebar": "Contents",
   "toc_cell": false,
   "toc_position": {},
   "toc_section_display": true,
   "toc_window_display": false
  },
  "vscode": {
   "interpreter": {
    "hash": "9f12aee310b8281ef9ce2211b67f1da3216244ae69bebf1f667f53f24fdf1ef3"
   }
  }
 },
 "nbformat": 4,
 "nbformat_minor": 2
}

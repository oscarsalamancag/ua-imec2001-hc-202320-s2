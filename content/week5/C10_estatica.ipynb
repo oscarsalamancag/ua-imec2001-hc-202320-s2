{
 "cells": [
  {
   "attachments": {},
   "cell_type": "markdown",
   "metadata": {},
   "source": [
    "# IMEC2001 Herramientas Computacionales \n",
    "## Semana 5: Sistemas de Ecuaciones\n",
    "### Clase 10: Estática\n",
    "\n",
    "Universidad de los Andes — Noviembre 8, 2023.\n",
    "\n",
    "---\n",
    "\n",
    "## TABLA DE CONTENIDO\n",
    "\n",
    "### Sección 1: Estática [→](#section1)\n",
    "- 1.1. Cargar Librerías\n",
    "- 1.2. Momento Par o Torque\n",
    "- 1.3. Equilibrio\n",
    "- 1.4. Ejemplos Diagrama Cuerpo Libre\n",
    "- 1.5. Condiciones de Equilibrio\n",
    "- 1.6. Ejemplo 1\n",
    "    - 1.6.1. Método de Matrices  \n",
    "        - 1.6.1.1 Empleando `numpy.linalg.inv` y `numpy.dots`\n",
    "        - 1.6.1.2 Empleando `numpy.linalg.solve`\n",
    "        - 1.6.1.3 Empleando `sympy.rref()`\n",
    "    - 1.6.2. Librería `scipy.optimize.fsolve`\n",
    "    - 1.6.3. Librería `sympy.solve`\n",
    "- 1.7. Ejemplo 2\n",
    "    - 1.7.1. Método de Matrices  \n",
    "        - 1.7.1.1 Empleando `numpy.linalg.inv` y `numpy.dots`\n",
    "        - 1.7.1.2 Empleando `numpy.linalg.solve`\n",
    "        - 1.7.1.3 Empleando `sympy.rref()`\n",
    "    - 1.7.2. Librería `scipy.optimize.fsolve`\n",
    "    - 1.7.3. Librería `sympy.solve`\n",
    "- 1.8. Estructuras\n",
    "    - 1.8.1. Ejemplo 3 (Librería `sympy.solve`)\n",
    "___"
   ]
  },
  {
   "attachments": {},
   "cell_type": "markdown",
   "metadata": {},
   "source": [
    "<a id=\"section1\"></a>\n",
    "# Sección 1: Estática"
   ]
  },
  {
   "attachments": {},
   "cell_type": "markdown",
   "metadata": {},
   "source": [
    "## 1.1. Cargar Librerías\n",
    "\n",
    "Primero, asegurémonos de haber instalado las librerías:\n",
    "\n",
    "> ```python\n",
    "  !pip install numpy\n",
    "  !pip install scipy\n",
    "  !pip install sympy\n",
    "  ```"
   ]
  },
  {
   "cell_type": "code",
   "execution_count": 1,
   "metadata": {},
   "outputs": [],
   "source": [
    "# Datos y Gráficas\n",
    "%matplotlib inline\n",
    "import matplotlib.pyplot as plt\n",
    "import pandas as pd\n",
    "\n",
    "# Raíces\n",
    "import numpy as np\n",
    "from scipy import optimize\n",
    "import sympy"
   ]
  },
  {
   "cell_type": "code",
   "execution_count": 2,
   "metadata": {},
   "outputs": [],
   "source": [
    "def formato_grafica(titulo, ejex, ejey, leyenda=False, xlim=[None, None], ylim=[None, None]):\n",
    "    plt.rcParams['axes.axisbelow'] = True\n",
    "\n",
    "    plt.title(titulo, fontsize=15)\n",
    "    plt.ylabel(ejey, fontsize=13)\n",
    "    plt.xlabel(ejex, fontsize=13)\n",
    "\n",
    "    plt.tick_params(direction='out', length=5, width=0.75, grid_alpha=0.3)\n",
    "    plt.xticks(rotation=0)\n",
    "    plt.minorticks_on()\n",
    "    plt.ylim(ylim[0], ylim[1])\n",
    "    plt.xlim(xlim[0], xlim[1])\n",
    "    plt.grid(True)\n",
    "    plt.grid(visible=True, which='major', color='grey', linestyle='-')\n",
    "    plt.grid(visible=True, which='minor', color='lightgrey', linestyle='-', alpha=0.2)\n",
    "    \n",
    "    if leyenda == True:\n",
    "        plt.legend(loc='best')\n",
    "    \n",
    "    plt.tight_layout;"
   ]
  },
  {
   "attachments": {},
   "cell_type": "markdown",
   "metadata": {},
   "source": [
    "## 1.2. Momento Par o Torque\n",
    "\n",
    "Una fuerza puede hacer girar un cuerpo alrededor de un eje, siempre y cuando el eje sea cualquier línea que no corte ni sea paralela a la línea de acción de la fuerza.\n",
    "\n",
    "Esta tendencia rotacional se conoce como el **momento par** $M$ o **torque** de la fuerza.\n",
    "\n",
    "De forma explícita, se tiene que:\n",
    "\n",
    "$$\n",
    "M = F \\: d \\: sin\\theta\n",
    "$$\n",
    "\n",
    "<img src='./img/torque.png' width='700' height='700' />"
   ]
  },
  {
   "attachments": {},
   "cell_type": "markdown",
   "metadata": {},
   "source": [
    "## 1.3. Equilibrio\n",
    "\n",
    "La estática se ocupa principalmente de la descripción de las condiciones de fuerza y momento necesarias y *suficientes* para mantener el **equilibrio** de las estructuras de ingeniería.\n",
    "\n",
    "Cuando un cuerpo está en equilibrio, la resultante de todas las fuerzas y momentos que actúan sobre él es cero. Por lo tanto, la fuerza resultante y el momento par resultante son ambos cero y tenemos el sistema de ecuaciones de equilibrio.\n",
    "\n",
    "$$\n",
    "\\sum F = 0\n",
    "$$\n",
    "\n",
    "$$\n",
    "\\sum M = 0\n",
    "$$\n",
    "\n",
    "El primer paso para estudiar una estructura es representar completamente todas las fuerzas y momentos que actúan sobre el cuerpo. Se debe tener cuidado con la omisión de una fuerza que actúa sobre el cuerpo o la inclusión de una fuerza que no actúa sobre este, pues esto deriva en resultados erróneos. La representación de fuerzas y momentos se conoce como **diagrama de cuerpo libre**.\n",
    "\n",
    "En general, para construir los diagramas de cuerpo libre, tenemos los siguientes análisis en dos dimensiones:\n",
    "\n",
    "<img src='./img/dcl.png' width='700' height='700' />"
   ]
  },
  {
   "attachments": {},
   "cell_type": "markdown",
   "metadata": {},
   "source": [
    "## 1.4. Ejemplos Diagrama Cuerpo Libre\n",
    "\n",
    "<img src='./img/dcl_examples.png' width='1000' height='1000' />"
   ]
  },
  {
   "attachments": {},
   "cell_type": "markdown",
   "metadata": {},
   "source": [
    "## 1.5. Condiciones de Equilibrio\n",
    "\n",
    "Recordemos que equilibrio es la condición en donde la resultante de todas las fuerzas y momentos que actúan sobre un cuerpo es cero. Dicho de otra manera, un cuerpo está en equilibrio si todas las fuerzas y momentos que se le aplican están en balance.\n",
    "\n",
    "$$\n",
    "\\sum F_x = 0\n",
    "$$\n",
    "\n",
    "$$\n",
    "\\sum F_y = 0\n",
    "$$\n",
    "\n",
    "$$\n",
    "\\sum M_o = 0\n",
    "$$\n",
    "\n",
    "Como lo comentamos en la clase anterior, **el número de ecuaciones debe ser igual al número de incógnitas para que el sistema sea compatible y determinado**."
   ]
  },
  {
   "attachments": {},
   "cell_type": "markdown",
   "metadata": {},
   "source": [
    "## 1.6. Ejemplo 1\n",
    "\n",
    "Debemos determinar las magnitudes de las fuerzas $C$ y $T$ que, junto con las otras tres fuerzas que se muestran, actúan sobre el nudo del puente y la armadura.\n",
    "\n",
    "<img src='./img/example1.png' width='300' height='300'/>\n",
    "\n",
    "Analíticamente, empleando el método de sustitución, tenemos que:\n",
    "\n",
    "$$\n",
    "\\begin{cases}\n",
    "  \\sum F_x = 0 \\: \\rightarrow \\: 8 + T \\cos(40) + C \\sin(20) - 16 = 0 & (1)\\\\ \n",
    "  \\\\\n",
    "  \\sum F_y = 0 \\: \\rightarrow \\: T \\sin(40) - C \\cos(20) - 3 = 0 & (2)\\\\\n",
    "\\end{cases} \n",
    "$$\n",
    "\n",
    "**Paso 1.** Despejamos $T$ de la Ecuación 1:\n",
    "\n",
    "$$\n",
    "T = \\frac{16 - 8 - C \\sin(20)}{\\cos(40)} \\hspace{1cm} (3)\n",
    "$$\n",
    "\n",
    "**Paso 2.** Sustituimos cada ocurrencia de la incógnita $T$ en la Ecuación 2, para así obtener una ecuación donde la única incógnita sea $C$:\n",
    "\n",
    "$$\n",
    "\\frac{16 - 8 - C \\sin(20)}{\\cos(40)} \\cdot \\sin(40) - C \\cos(20) - 3 = 0 \\hspace{1cm} (4)\n",
    "$$\n",
    "\n",
    "**Paso 3.** Resolvemos la Ecuación 4 para determinar $C$:\n",
    "\n",
    "$$\n",
    "\\boxed{C = 3.03}\n",
    "$$\n",
    "\n",
    "**Paso 4.** Ahora sustituimos $C$ en la Ecuación 1 para determinar $T$:\n",
    "\n",
    "$$\n",
    "8 + T \\cos(40) + 3.03 \\sin(20) - 16 = 0\n",
    "$$\n",
    "\n",
    "$$\n",
    "\\boxed{T = 9.09}\n",
    "$$"
   ]
  },
  {
   "cell_type": "code",
   "execution_count": 3,
   "metadata": {},
   "outputs": [
    {
     "data": {
      "image/png": "[encoded data removed]",
      "text/plain": [
       "<Figure size 720x450 with 1 Axes>"
      ]
     },
     "metadata": {
      "needs_background": "light"
     },
     "output_type": "display_data"
    }
   ],
   "source": [
    "# Definimos valores de X para evaluar\n",
    "C = np.linspace(start=0, stop=10, num=11)\n",
    "\n",
    "'''\n",
    "PASO 1. Estimar T a partir de la Ecuación 3\n",
    "PASO 2. Estimar T a partir de la Ecuación 2\n",
    "PASO 3. Método gráfico: ¿dónde se intersectan?\n",
    "'''\n",
    "\n",
    "# Definimos la Ecuación 3\n",
    "def ec3(C):\n",
    "    return (16 - 8 - C * np.sin(np.deg2rad(20))) / np.cos(np.deg2rad(40))\n",
    "\n",
    "T3 = ec3(C)\n",
    "\n",
    "# Definimos la Ecuación 2 (o 4)\n",
    "def ec2(C):\n",
    "    return (3 + C * np.cos(np.deg2rad(20))) / np.sin(np.deg2rad(40))\n",
    "\n",
    "T2 = ec2(C)\n",
    "\n",
    "# Método Gráfico\n",
    "hor = 8\n",
    "ver = 5\n",
    "fig1 = plt.figure(figsize=(hor, ver), dpi=90)\n",
    "\n",
    "plt.plot(C, T3, linestyle='-', color='dodgerblue', label='Ecuación 3')\n",
    "plt.plot(C, T2, linestyle='-', color='orange', label='Ecuación 2')\n",
    "plt.plot(3.03, 9.09, marker='o', ms='10', markerfacecolor='mediumseagreen', markeredgecolor='green', label='Solución')\n",
    "\n",
    "formato_grafica(titulo='Método Visual', \n",
    "                ejex='C', \n",
    "                ejey='T',\n",
    "                leyenda=True)"
   ]
  },
  {
   "attachments": {},
   "cell_type": "markdown",
   "metadata": {},
   "source": [
    "### 1.6.1. Método de Matrices\n",
    "\n",
    "Como vimos en la clase anterior (`C9_sistemaecuaciones.ipynb`), tenemos $m$ ecuaciones lineales con $n$ incógnitas, donde las incógnitas son $x_1, x_2, ..., x_n$.\n",
    "\n",
    "$$\n",
    "\\begin{cases}\n",
    "  a_{11}x_1 + a_{12}x_2 + \\dots + a_{1n}x_n = b_1 & (1) \\\\ \n",
    "  \\\\\n",
    "  a_{21}x_1 + a_{22}x_2 + \\dots + a_{2n}x_n = b_2 & (2) \\\\\n",
    "  \\\\\n",
    "  \\hspace{2.5cm} \\vdots \\\\\n",
    "  \\\\\n",
    "   a_{m1}x_1 + a_{m2}x_2 + \\dots + a_{mn}x_n = b_m & (m) \\\\\n",
    "\\end{cases} \n",
    "$$\n",
    "\n",
    "Ahora, si separamos los coeficientes $a_{nm}$, es posible reescribir el sistema de ecuaciones en forma matricial, es decir:\n",
    "\n",
    "$$\n",
    "{\\begin{bmatrix}\n",
    "a_{11} & a_{12} & \\dots & a_{1n} \\\\\n",
    "a_{21} & a_{22} & \\dots & a_{2n} \\\\\n",
    "\\vdots & \\vdots & \\ddots & \\vdots \\\\\n",
    "a_{m1} & a_{m2} & \\dots & a_{mn} \\\\\n",
    "\\end{bmatrix}}\n",
    "{\\begin{bmatrix}\n",
    "x_1 \\\\\n",
    "x_2 \\\\\n",
    "\\vdots \\\\\n",
    "x_n \\\\\n",
    "\\end{bmatrix}} =\n",
    "{\\begin{bmatrix}\n",
    "b_1 \\\\\n",
    "b_2 \\\\\n",
    "\\vdots \\\\\n",
    "b_n \\\\\n",
    "\\end{bmatrix}}\n",
    "$$\n",
    "\n",
    "Representando cada matrix con una letra, se tiene:\n",
    "\n",
    "$$\n",
    "Ax = b\n",
    "$$\n",
    "\n",
    "Donde:\n",
    "- $A$ es una matriz de $m$ filas por $n$ columnas y se conoce como **matriz de coeficientes**.\n",
    "- $x$ es un vector columna de longitud $n$ (es decir, 1 columna y $n$ filas) y se conoce como **vector de incógnitas**.\n",
    "- $b$ es un vector columna de longitud $m$ (es decir, 1 columna y $m$ filas) y se conoce como **vector de términos independientes**.\n",
    "\n",
    "La solución es entonces:\n",
    "\n",
    "$$\n",
    "\\boxed{x = A^{-1} b}\n",
    "$$\n",
    "\n",
    "El término $A^{-1}$ es la **inversa de la matrix $A$**."
   ]
  },
  {
   "attachments": {},
   "cell_type": "markdown",
   "metadata": {},
   "source": [
    "#### 1.6.1.1. Empleando `numpy.linalg.inv` y `numpy.dots`\n",
    "\n",
    "$$\n",
    "\\begin{cases}\n",
    "  \\sum F_x = 0 \\: \\rightarrow \\: 8 + T \\cos(40) + C \\sin(20) - 16 = 0 & (1)\\\\ \n",
    "  \\\\\n",
    "  \\sum F_y = 0 \\: \\rightarrow \\: T \\sin(40) - C \\cos(20) - 3 = 0 & (2)\\\\\n",
    "\\end{cases} \n",
    "$$\n",
    "\n",
    "Donde las soluciones son:\n",
    "\n",
    "$$\n",
    "\\boxed{C = 3.03}\n",
    "$$\n",
    "\n",
    "$$\n",
    "\\boxed{T = 9.09}\n",
    "$$"
   ]
  },
  {
   "cell_type": "code",
   "execution_count": 4,
   "metadata": {},
   "outputs": [
    {
     "data": {
      "text/plain": [
       "array([[ 0.76604444,  0.34202014],\n",
       "       [ 0.64278761, -0.93969262]])"
      ]
     },
     "execution_count": 4,
     "metadata": {},
     "output_type": "execute_result"
    }
   ],
   "source": [
    "# PASO 1. Matriz de coeficientes (2 filas y 2 columnas)\n",
    "A = np.array( [ [np.cos(np.deg2rad(40)), np.sin(np.deg2rad(20))],\n",
    "                [np.sin(np.deg2rad(40)), -np.cos(np.deg2rad(20))] ] )\n",
    "\n",
    "A"
   ]
  },
  {
   "cell_type": "code",
   "execution_count": 5,
   "metadata": {},
   "outputs": [
    {
     "data": {
      "text/plain": [
       "array([8, 3])"
      ]
     },
     "execution_count": 5,
     "metadata": {},
     "output_type": "execute_result"
    }
   ],
   "source": [
    "# PASO 2. Vector de términos independientes (2 filas y 1 columna)\n",
    "b = np.array( [8, 3] )\n",
    "b"
   ]
  },
  {
   "cell_type": "code",
   "execution_count": 6,
   "metadata": {},
   "outputs": [
    {
     "data": {
      "text/plain": [
       "array([[ 1.        ,  0.36397023],\n",
       "       [ 0.68404029, -0.81520747]])"
      ]
     },
     "execution_count": 6,
     "metadata": {},
     "output_type": "execute_result"
    }
   ],
   "source": [
    "# PASO 3. Inversa de matriz de coeficientes -> A\n",
    "invA = np.linalg.inv(A)\n",
    "invA"
   ]
  },
  {
   "cell_type": "code",
   "execution_count": 7,
   "metadata": {},
   "outputs": [
    {
     "data": {
      "text/plain": [
       "array([9.0919107 , 3.02669989])"
      ]
     },
     "execution_count": 7,
     "metadata": {},
     "output_type": "execute_result"
    }
   ],
   "source": [
    "# PASO 4. Vector de incógnitas (2 filas y 1 columna) -> invA · b\n",
    "x = np.dot(invA, b)\n",
    "x"
   ]
  },
  {
   "attachments": {},
   "cell_type": "markdown",
   "metadata": {},
   "source": [
    "#### 1.6.1.2. Empleando `numpy.linalg.solve`\n",
    "\n",
    "$$\n",
    "\\begin{cases}\n",
    "  \\sum F_x = 0 \\: \\rightarrow \\: 8 + T \\cos(40) + C \\sin(20) - 16 = 0 & (1)\\\\ \n",
    "  \\\\\n",
    "  \\sum F_y = 0 \\: \\rightarrow \\: T \\sin(40) - C \\cos(20) - 3 = 0 & (2)\\\\\n",
    "\\end{cases} \n",
    "$$\n",
    "\n",
    "Donde las soluciones son:\n",
    "\n",
    "$$\n",
    "\\boxed{C = 3.03}\n",
    "$$\n",
    "\n",
    "$$\n",
    "\\boxed{T = 9.09}\n",
    "$$"
   ]
  },
  {
   "cell_type": "code",
   "execution_count": 8,
   "metadata": {},
   "outputs": [
    {
     "data": {
      "text/plain": [
       "array([[ 0.76604444,  0.34202014],\n",
       "       [ 0.64278761, -0.93969262]])"
      ]
     },
     "execution_count": 8,
     "metadata": {},
     "output_type": "execute_result"
    }
   ],
   "source": [
    "# PASO 1. Matriz de coeficientes (2 filas y 2 columnas)\n",
    "A = np.array( [ [np.cos(np.deg2rad(40)), np.sin(np.deg2rad(20))],\n",
    "                [np.sin(np.deg2rad(40)), -np.cos(np.deg2rad(20))] ] )\n",
    "\n",
    "A"
   ]
  },
  {
   "cell_type": "code",
   "execution_count": 9,
   "metadata": {},
   "outputs": [
    {
     "data": {
      "text/plain": [
       "array([8, 3])"
      ]
     },
     "execution_count": 9,
     "metadata": {},
     "output_type": "execute_result"
    }
   ],
   "source": [
    "# PASO 2. Vector de términos independientes (2 filas y 1 columna)\n",
    "b = np.array( [8, 3] )\n",
    "b"
   ]
  },
  {
   "cell_type": "code",
   "execution_count": 10,
   "metadata": {},
   "outputs": [
    {
     "data": {
      "text/plain": [
       "array([9.0919107 , 3.02669989])"
      ]
     },
     "execution_count": 10,
     "metadata": {},
     "output_type": "execute_result"
    }
   ],
   "source": [
    "# PASO 3. Vector de incógnitas (2 filas y 1 columna) -> invA · b\n",
    "x = np.linalg.solve(A, b)\n",
    "x"
   ]
  },
  {
   "attachments": {},
   "cell_type": "markdown",
   "metadata": {},
   "source": [
    "#### 1.6.1.3 Empleando `sympy.rref()`\n",
    "\n",
    "$$\n",
    "\\begin{cases}\n",
    "  \\sum F_x = 0 \\: \\rightarrow \\: 8 + T \\cos(40) + C \\sin(20) - 16 = 0 & (1)\\\\ \n",
    "  \\\\\n",
    "  \\sum F_y = 0 \\: \\rightarrow \\: T \\sin(40) - C \\cos(20) - 3 = 0 & (2)\\\\\n",
    "\\end{cases} \n",
    "$$\n",
    "\n",
    "Donde las soluciones son:\n",
    "\n",
    "$$\n",
    "\\boxed{C = 3.03}\n",
    "$$\n",
    "\n",
    "$$\n",
    "\\boxed{T = 9.09}\n",
    "$$"
   ]
  },
  {
   "cell_type": "code",
   "execution_count": 11,
   "metadata": {},
   "outputs": [
    {
     "data": {
      "text/latex": [
       "$\\displaystyle \\left[\\begin{matrix}0.766044443118978 & 0.342020143325669 & 8\\\\0.642787609686539 & -0.939692620785908 & 3\\end{matrix}\\right]$"
      ],
      "text/plain": [
       "Matrix([\n",
       "[0.766044443118978,  0.342020143325669, 8],\n",
       "[0.642787609686539, -0.939692620785908, 3]])"
      ]
     },
     "execution_count": 11,
     "metadata": {},
     "output_type": "execute_result"
    }
   ],
   "source": [
    "# PASO 1. Matriz de coeficientes y vector de términos independientes\n",
    "A_aumentada = sympy.Matrix( [ [np.cos(np.deg2rad(40)), np.sin(np.deg2rad(20)), 8],\n",
    "                              [np.sin(np.deg2rad(40)), -np.cos(np.deg2rad(20)), 3] ] )\n",
    "\n",
    "A_aumentada"
   ]
  },
  {
   "cell_type": "code",
   "execution_count": 12,
   "metadata": {},
   "outputs": [
    {
     "data": {
      "text/latex": [
       "$\\displaystyle \\left[\\begin{matrix}1 & 0 & 9.09191070279861\\\\0 & 1 & 3.02669988592299\\end{matrix}\\right]$"
      ],
      "text/plain": [
       "Matrix([\n",
       "[1, 0, 9.09191070279861],\n",
       "[0, 1, 3.02669988592299]])"
      ]
     },
     "execution_count": 12,
     "metadata": {},
     "output_type": "execute_result"
    }
   ],
   "source": [
    "# PASO 2. Solución mediante matriz escalonada\n",
    "x = A_aumentada.rref()[0]\n",
    "x"
   ]
  },
  {
   "attachments": {},
   "cell_type": "markdown",
   "metadata": {},
   "source": [
    "### 1.6.2. Librería `scipy.optimize.fsolve`\n",
    "\n",
    "Recordemos que la librería `scipy.optimize.fsolve` la utilizamos para determinar las raíces de una función.\n",
    "\n",
    "Esta librería requiere dos parámetros de entrada:\n",
    "1. Función (en este caso el sistema de ecuaciones).\n",
    "2. Una primera estimación.\n",
    "\n",
    "<div class='alert alert-block alert-info'>   \n",
    "    \n",
    "<i class='fa fa-info-circle' aria-hidden='true'></i>\n",
    "Puede obtener más información en la documentación oficial de la librería `scipy.optimize.fsolve` dando clic [aquí](https://docs.scipy.org/doc/scipy/reference/generated/scipy.optimize.fsolve.html).\n",
    "</div>"
   ]
  },
  {
   "attachments": {},
   "cell_type": "markdown",
   "metadata": {},
   "source": [
    "$$\n",
    "\\begin{cases}\n",
    "  \\sum F_x = 0 \\: \\rightarrow \\: 8 + T \\cos(40) + C \\sin(20) - 16 = 0 & (1)\\\\ \n",
    "  \\\\\n",
    "  \\sum F_y = 0 \\: \\rightarrow \\: T \\sin(40) - C \\cos(20) - 3 = 0 & (2)\\\\\n",
    "\\end{cases} \n",
    "$$\n",
    "\n",
    "Donde las soluciones son:\n",
    "\n",
    "$$\n",
    "\\boxed{C = 3.03}\n",
    "$$\n",
    "\n",
    "$$\n",
    "\\boxed{T = 9.09}\n",
    "$$"
   ]
  },
  {
   "cell_type": "code",
   "execution_count": 13,
   "metadata": {},
   "outputs": [],
   "source": [
    "# PASO 1. Definir la función\n",
    "def f(z):\n",
    "    ## Definimos las incógnitas\n",
    "    T = z[0]\n",
    "    C = z[1]\n",
    "    \n",
    "    ## Creamos una lista vacía para alojar las funciones \n",
    "    F = [8 + T * np.cos(np.deg2rad(40)) + C * np.sin(np.deg2rad(20)) - 16,\n",
    "         T * np.sin(np.deg2rad(40)) - C * np.cos(np.deg2rad(20)) - 3]\n",
    "    \n",
    "    return F"
   ]
  },
  {
   "cell_type": "code",
   "execution_count": 14,
   "metadata": {},
   "outputs": [
    {
     "data": {
      "text/plain": [
       "[1, 1]"
      ]
     },
     "execution_count": 14,
     "metadata": {},
     "output_type": "execute_result"
    }
   ],
   "source": [
    "# PASO 2. Indicar valor cercano a la raíz\n",
    "estimacion = [1, 1]\n",
    "estimacion"
   ]
  },
  {
   "cell_type": "code",
   "execution_count": 15,
   "metadata": {},
   "outputs": [
    {
     "data": {
      "text/plain": [
       "array([9.0919107 , 3.02669989])"
      ]
     },
     "execution_count": 15,
     "metadata": {},
     "output_type": "execute_result"
    }
   ],
   "source": [
    "# PASO 3. Estimar raíz\n",
    "x = optimize.fsolve(func=f,\n",
    "                    x0=estimacion)\n",
    "\n",
    "x"
   ]
  },
  {
   "attachments": {},
   "cell_type": "markdown",
   "metadata": {},
   "source": [
    "### 1.6.3. Librería `sympy.solve`\n",
    "\n",
    "La forma en como podemos expresar las ecuaciones en código de forma 'similar a cuando la escribimos en una hoja' es de forma **simbólica**.\n",
    "\n",
    "La librería de Python que permite definir variables en forma simbólica es `sympy`. Esto se realiza mediante la función `sympy.Symbol`.\n",
    "\n",
    "A partir de las variables simbólicas y, empleando la función `sympy.solve`, podemos encontrar la solución del sistema de ecuaciones lineales.\n",
    "\n",
    "El flujo de trabajo es:\n",
    "\n",
    "1. Definiremos las variables simbólicas.\n",
    "2. Definiremos el sistema de ecuaciones.\n",
    "3. Encontraremos las soluciones mediante la función `sympy.solve`.\n",
    "\n",
    "La ventaja que tenemos sobre las demás funciones es que solo basta con escribir la función en forma simbólica para poder estimar las raíces.\n",
    "\n",
    "<div class='alert alert-block alert-info'>   \n",
    "    \n",
    "<i class='fa fa-info-circle' aria-hidden='true'></i>\n",
    "Puede obtener más información en la documentación oficial de la librería `sympy.solve` dando clic [aquí](https://docs.sympy.org/latest/modules/solvers/solvers.html).\n",
    "</div>"
   ]
  },
  {
   "attachments": {},
   "cell_type": "markdown",
   "metadata": {},
   "source": [
    "$$\n",
    "\\begin{cases}\n",
    "  \\sum F_x = 0 \\: \\rightarrow \\: 8 + T \\cos(40) + C \\sin(20) - 16 = 0 & (1)\\\\ \n",
    "  \\\\\n",
    "  \\sum F_y = 0 \\: \\rightarrow \\: T \\sin(40) - C \\cos(20) - 3 = 0 & (2)\\\\\n",
    "\\end{cases} \n",
    "$$\n",
    "\n",
    "Donde las soluciones son:\n",
    "\n",
    "$$\n",
    "\\boxed{C = 3.03}\n",
    "$$\n",
    "\n",
    "$$\n",
    "\\boxed{T = 9.09}\n",
    "$$"
   ]
  },
  {
   "cell_type": "code",
   "execution_count": 16,
   "metadata": {},
   "outputs": [
    {
     "data": {
      "text/latex": [
       "$\\displaystyle T$"
      ],
      "text/plain": [
       "T"
      ]
     },
     "execution_count": 16,
     "metadata": {},
     "output_type": "execute_result"
    }
   ],
   "source": [
    "# PASO 1. Definir las variables simbólicas\n",
    "T = sympy.Symbol('T')\n",
    "T"
   ]
  },
  {
   "cell_type": "code",
   "execution_count": 17,
   "metadata": {},
   "outputs": [
    {
     "data": {
      "text/latex": [
       "$\\displaystyle C$"
      ],
      "text/plain": [
       "C"
      ]
     },
     "execution_count": 17,
     "metadata": {},
     "output_type": "execute_result"
    }
   ],
   "source": [
    "C = sympy.Symbol('C')\n",
    "C"
   ]
  },
  {
   "cell_type": "code",
   "execution_count": 18,
   "metadata": {},
   "outputs": [
    {
     "data": {
      "text/latex": [
       "$\\displaystyle 0.342020143325669 C + 0.766044443118978 T - 8 = 0$"
      ],
      "text/plain": [
       "Eq(0.342020143325669*C + 0.766044443118978*T - 8, 0)"
      ]
     },
     "execution_count": 18,
     "metadata": {},
     "output_type": "execute_result"
    }
   ],
   "source": [
    "# PASO 2. Definir las funciones simbólicas\n",
    "ec1 = sympy.Eq(8 + T * np.cos(np.deg2rad(40)) + C * np.sin(np.deg2rad(20)) - 16, 0) # La derecha de la igualdad va después de la coma\n",
    "ec1"
   ]
  },
  {
   "cell_type": "code",
   "execution_count": 19,
   "metadata": {},
   "outputs": [
    {
     "data": {
      "text/latex": [
       "$\\displaystyle - 0.939692620785908 C + 0.642787609686539 T - 3 = 0$"
      ],
      "text/plain": [
       "Eq(-0.939692620785908*C + 0.642787609686539*T - 3, 0)"
      ]
     },
     "execution_count": 19,
     "metadata": {},
     "output_type": "execute_result"
    }
   ],
   "source": [
    "ec2 = sympy.Eq(T * np.sin(np.deg2rad(40)) - C * np.cos(np.deg2rad(20)) - 3, 0)\n",
    "ec2"
   ]
  },
  {
   "cell_type": "code",
   "execution_count": 20,
   "metadata": {},
   "outputs": [
    {
     "data": {
      "text/plain": [
       "{T: 9.09191070279861, C: 3.02669988592298}"
      ]
     },
     "execution_count": 20,
     "metadata": {},
     "output_type": "execute_result"
    }
   ],
   "source": [
    "# PASO 3. Solucionar el sistema de ecuaciones\n",
    "sol = sympy.solve([ec1, ec2], # Lista de ecuaciones\n",
    "                  [T, C]) # Lista de símbolos\n",
    "sol"
   ]
  },
  {
   "attachments": {},
   "cell_type": "markdown",
   "metadata": {},
   "source": [
    "## 1.7. Ejemplo 2\n",
    "\n",
    "Debemos determinar la magnitud de la tensión $T$ en el cable de soporte y la magnitud de la fuerza sobre el pasador en $A$ para la grúa giratoria que se muestra. La viga $AB$ es una viga tipo I estándar de 0.5 m con peso de 4.66 kN.\n",
    "\n",
    "<img src='./img/example2.png' width='550' height='550'/>\n",
    "\n",
    "Del diagrama de cuerpo libre vemos **tres incógnidas**: $A_x$, $A_y$ y $T$. Por tanto, debemos definir **tres ecuaciones**.\n",
    "\n",
    "Analíticamente, empleando el método de sustitución, tenemos que:\n",
    "\n",
    "$$\n",
    "\\begin{cases}\n",
    "  \\sum M_A = 0 \\: \\rightarrow \\: 0.25 \\cdot T \\cos(25) + (5-0.12) \\cdot T \\sin(25) - 10 \\cdot (5 - 1.5 - 0.12) - 4.66 \\cdot (2.5 - 0.12) = 0 & (1)\\\\ \n",
    "  \\\\\n",
    "  \\sum F_x = 0 \\: \\rightarrow \\: A_x - T \\cdot \\cos(25) = 0 & (2)\\\\\n",
    "  \\\\\n",
    "  \\sum F_y = 0 \\: \\rightarrow \\: A_y + T \\cdot \\sin(25) - 4.66 - 10 = 0 & (3)\\\\\n",
    "\\end{cases} \n",
    "$$\n",
    "\n",
    "En este caso particular, notemos que, aunque tenemos tres ecuaciones y tres incógnitas, cada ecuación solo contiene una incógnita, es decir, una incógnita por cada una de las ecuaciones. Luego, al determinar las incógnitas se obtiene que:\n",
    "\n",
    "$$\n",
    "\\boxed{T = 19.61}\n",
    "$$\n",
    "\n",
    "$$\n",
    "\\boxed{A_x = 17.77}\n",
    "$$\n",
    "\n",
    "$$\n",
    "\\boxed{A_y = 6.37}\n",
    "$$"
   ]
  },
  {
   "attachments": {},
   "cell_type": "markdown",
   "metadata": {},
   "source": [
    "### 1.7.1. Método de Matrices"
   ]
  },
  {
   "attachments": {},
   "cell_type": "markdown",
   "metadata": {},
   "source": [
    "#### 1.7.1.1. Empleando `numpy.linalg.inv` y `numpy.dots`\n",
    "\n",
    "<div class=\"alert alert-block alert-warning\">   \n",
    "\n",
    "**SU TURNO**\n",
    "\n",
    "Resuelva con las librerías `numpy.linalg.inv` y `numpy.dots` el siguiente sistema de ecuaciones lineales.\n",
    "\n",
    "$$\n",
    "\\begin{cases}\n",
    "  \\sum M_A = 0 \\: \\rightarrow \\: 0.25 \\cdot T \\cos(25) + (5-0.12) \\cdot T \\sin(25) - 10 \\cdot (5 - 1.5 - 0.12) - 4.66 \\cdot (2.5 - 0.12) = 0 & (1)\\\\ \n",
    "  \\\\\n",
    "  \\sum F_x = 0 \\: \\rightarrow \\: A_x - T \\cdot \\cos(25) = 0 & (2)\\\\\n",
    "  \\\\\n",
    "  \\sum F_y = 0 \\: \\rightarrow \\: A_y + T \\cdot \\sin(25) - 4.66 - 10 = 0 & (3)\\\\\n",
    "\\end{cases} \n",
    "$$\n",
    "\n",
    "Donde las soluciones son:\n",
    "\n",
    "$$\n",
    "\\boxed{T = 19.61}\n",
    "$$\n",
    "\n",
    "$$\n",
    "\\boxed{A_x = 17.77}\n",
    "$$\n",
    "\n",
    "$$\n",
    "\\boxed{A_y = 6.37}\n",
    "$$\n",
    "\n",
    "</div>"
   ]
  },
  {
   "cell_type": "code",
   "execution_count": 21,
   "metadata": {},
   "outputs": [
    {
     "data": {
      "text/plain": [
       "array([[ 2.28895406,  0.        ,  0.        ],\n",
       "       [-0.90630779,  1.        ,  0.        ],\n",
       "       [ 0.42261826,  0.        ,  1.        ]])"
      ]
     },
     "execution_count": 21,
     "metadata": {},
     "output_type": "execute_result"
    }
   ],
   "source": [
    "# PASO 1. Matriz de coeficientes (3 filas y 3 columnas)\n",
    "A = np.array( [ [0.25*np.cos(np.deg2rad(25)) + (5-0.12)*np.sin(np.deg2rad(25)), 0, 0],\n",
    "                [-np.cos(np.deg2rad(25)), 1, 0],\n",
    "                [np.sin(np.deg2rad(25)), 0, 1]] )\n",
    "\n",
    "A"
   ]
  },
  {
   "cell_type": "code",
   "execution_count": 22,
   "metadata": {},
   "outputs": [
    {
     "data": {
      "text/plain": [
       "array([44.8908,  0.    , 14.66  ])"
      ]
     },
     "execution_count": 22,
     "metadata": {},
     "output_type": "execute_result"
    }
   ],
   "source": [
    "# PASO 2. Vector de términos independientes (3 filas y 1 columna)\n",
    "b = np.array( [-(-10*(5-1.5-0.12) - 4.66*(2.5-0.12)),\n",
    "               0,\n",
    "               -(-4.66-10)] )\n",
    "b"
   ]
  },
  {
   "cell_type": "code",
   "execution_count": 23,
   "metadata": {},
   "outputs": [
    {
     "data": {
      "text/plain": [
       "array([[ 0.43688076,  0.        ,  0.        ],\n",
       "       [ 0.39594844,  1.        ,  0.        ],\n",
       "       [-0.18463379,  0.        ,  1.        ]])"
      ]
     },
     "execution_count": 23,
     "metadata": {},
     "output_type": "execute_result"
    }
   ],
   "source": [
    "# PASO 3. Inversa de matriz de coeficientes -> A\n",
    "invA = np.linalg.inv(A)\n",
    "invA"
   ]
  },
  {
   "cell_type": "code",
   "execution_count": 24,
   "metadata": {},
   "outputs": [
    {
     "data": {
      "text/plain": [
       "array([19.611927  , 17.77444215,  6.3716415 ])"
      ]
     },
     "execution_count": 24,
     "metadata": {},
     "output_type": "execute_result"
    }
   ],
   "source": [
    "# PASO 4. Vector de incógnitas (3 filas y 1 columna) -> invA · b\n",
    "x = np.dot(invA, b)\n",
    "x"
   ]
  },
  {
   "attachments": {},
   "cell_type": "markdown",
   "metadata": {},
   "source": [
    "#### 1.7.1.2. Empleando `numpy.linalg.solve`\n",
    "\n",
    "<div class=\"alert alert-block alert-warning\">   \n",
    "\n",
    "**SU TURNO**\n",
    "\n",
    "Resuelva con la librería `numpy.linalg.solve` el siguiente sistema de ecuaciones lineales.\n",
    "\n",
    "$$\n",
    "\\begin{cases}\n",
    "  \\sum M_A = 0 \\: \\rightarrow \\: 0.25 \\cdot T \\cos(25) + (5-0.12) \\cdot T \\sin(25) - 10 \\cdot (5 - 1.5 - 0.12) - 4.66 \\cdot (2.5 - 0.12) = 0 & (1)\\\\ \n",
    "  \\\\\n",
    "  \\sum F_x = 0 \\: \\rightarrow \\: A_x - T \\cdot \\cos(25) = 0 & (2)\\\\\n",
    "  \\\\\n",
    "  \\sum F_y = 0 \\: \\rightarrow \\: A_y + T \\cdot \\sin(25) - 4.66 - 10 = 0 & (3)\\\\\n",
    "\\end{cases} \n",
    "$$\n",
    "\n",
    "Donde las soluciones son:\n",
    "\n",
    "$$\n",
    "\\boxed{T = 19.61}\n",
    "$$\n",
    "\n",
    "$$\n",
    "\\boxed{A_x = 17.77}\n",
    "$$\n",
    "\n",
    "$$\n",
    "\\boxed{A_y = 6.37}\n",
    "$$\n",
    "\n",
    "</div>"
   ]
  },
  {
   "cell_type": "code",
   "execution_count": 25,
   "metadata": {},
   "outputs": [
    {
     "data": {
      "text/plain": [
       "array([19.611927  , 17.77444215,  6.3716415 ])"
      ]
     },
     "execution_count": 25,
     "metadata": {},
     "output_type": "execute_result"
    }
   ],
   "source": [
    "# PASO 1. Matriz de coeficientes\n",
    "A = np.array( [ [0.25*np.cos(np.deg2rad(25)) + (5-0.12)*np.sin(np.deg2rad(25)), 0, 0],\n",
    "                [-np.cos(np.deg2rad(25)), 1, 0],\n",
    "                [np.sin(np.deg2rad(25)), 0, 1]] )\n",
    "\n",
    "# PASO 2. Vector de términos independientes\n",
    "b = np.array( [-(-10*(5-1.5-0.12) - 4.66*(2.5-0.12)),\n",
    "               0,\n",
    "               -(-4.66-10)] )\n",
    "\n",
    "# PASO 3. Vector de incógnitas\n",
    "x = np.linalg.solve(A, b)\n",
    "x"
   ]
  },
  {
   "attachments": {},
   "cell_type": "markdown",
   "metadata": {},
   "source": [
    "#### 1.7.1.3 Empleando `sympy.rref()`\n",
    "\n",
    "<div class=\"alert alert-block alert-warning\">   \n",
    "\n",
    "**SU TURNO**\n",
    "\n",
    "Resuelva con la librería `sympy.rref()` el siguiente sistema de ecuaciones lineales.\n",
    "\n",
    "$$\n",
    "\\begin{cases}\n",
    "  \\sum M_A = 0 \\: \\rightarrow \\: 0.25 \\cdot T \\cos(25) + (5-0.12) \\cdot T \\sin(25) - 10 \\cdot (5 - 1.5 - 0.12) - 4.66 \\cdot (2.5 - 0.12) = 0 & (1)\\\\ \n",
    "  \\\\\n",
    "  \\sum F_x = 0 \\: \\rightarrow \\: A_x - T \\cdot \\cos(25) = 0 & (2)\\\\\n",
    "  \\\\\n",
    "  \\sum F_y = 0 \\: \\rightarrow \\: A_y + T \\cdot \\sin(25) - 4.66 - 10 = 0 & (3)\\\\\n",
    "\\end{cases} \n",
    "$$\n",
    "\n",
    "Donde las soluciones son:\n",
    "\n",
    "$$\n",
    "\\boxed{T = 19.61}\n",
    "$$\n",
    "\n",
    "$$\n",
    "\\boxed{A_x = 17.77}\n",
    "$$\n",
    "\n",
    "$$\n",
    "\\boxed{A_y = 6.37}\n",
    "$$\n",
    "\n",
    "</div>"
   ]
  },
  {
   "cell_type": "code",
   "execution_count": 26,
   "metadata": {},
   "outputs": [
    {
     "data": {
      "text/latex": [
       "$\\displaystyle \\left[\\begin{matrix}1 & 0 & 0 & 19.6119269953796\\\\0 & 1 & 0 & 17.7744421547068\\\\0 & 0 & 1 & 6.37164150382719\\end{matrix}\\right]$"
      ],
      "text/plain": [
       "Matrix([\n",
       "[1, 0, 0, 19.6119269953796],\n",
       "[0, 1, 0, 17.7744421547068],\n",
       "[0, 0, 1, 6.37164150382719]])"
      ]
     },
     "execution_count": 26,
     "metadata": {},
     "output_type": "execute_result"
    }
   ],
   "source": [
    "# PASO 1. Matriz de coeficientes y vector de términos independientes\n",
    "A_aumentada = sympy.Matrix( [ [0.25*np.cos(np.deg2rad(25)) + (5-0.12)*np.sin(np.deg2rad(25)), 0, 0, -(-10*(5-1.5-0.12) - 4.66*(2.5-0.12))],\n",
    "                              [-np.cos(np.deg2rad(25)), 1, 0, 0],\n",
    "                              [np.sin(np.deg2rad(25)), 0, 1, -(-4.66-10)]] )\n",
    "\n",
    "# PASO 2. Solución mediante matriz escalonada\n",
    "x = A_aumentada.rref()[0]\n",
    "x"
   ]
  },
  {
   "attachments": {},
   "cell_type": "markdown",
   "metadata": {},
   "source": [
    "### 1.7.2. Librería `scipy.optimize.fsolve`\n",
    "\n",
    "<div class=\"alert alert-block alert-warning\">   \n",
    "\n",
    "**SU TURNO**\n",
    "\n",
    "Resuelva con la librería `scipy.optimize.fsolve` el siguiente sistema de ecuaciones lineales.\n",
    "\n",
    "$$\n",
    "\\begin{cases}\n",
    "  \\sum M_A = 0 \\: \\rightarrow \\: 0.25 \\cdot T \\cos(25) + (5-0.12) \\cdot T \\sin(25) - 10 \\cdot (5 - 1.5 - 0.12) - 4.66 \\cdot (2.5 - 0.12) = 0 & (1)\\\\ \n",
    "  \\\\\n",
    "  \\sum F_x = 0 \\: \\rightarrow \\: A_x - T \\cdot \\cos(25) = 0 & (2)\\\\\n",
    "  \\\\\n",
    "  \\sum F_y = 0 \\: \\rightarrow \\: A_y + T \\cdot \\sin(25) - 4.66 - 10 = 0 & (3)\\\\\n",
    "\\end{cases} \n",
    "$$\n",
    "\n",
    "Donde las soluciones son:\n",
    "\n",
    "$$\n",
    "\\boxed{T = 19.61}\n",
    "$$\n",
    "\n",
    "$$\n",
    "\\boxed{A_x = 17.77}\n",
    "$$\n",
    "\n",
    "$$\n",
    "\\boxed{A_y = 6.37}\n",
    "$$\n",
    "\n",
    "</div>"
   ]
  },
  {
   "cell_type": "code",
   "execution_count": 27,
   "metadata": {},
   "outputs": [],
   "source": [
    "# PASO 1. Definir la función\n",
    "def f(z):\n",
    "    ## Definimos las incógnitas\n",
    "    T = z[0]\n",
    "    Ax = z[1]\n",
    "    Ay = z[2]\n",
    "\n",
    "    ## Creamos una lista vacía para alojar las funciones\n",
    "    F = [0.25*T*np.cos(np.deg2rad(25)) + (5-0.12)*T*np.sin(np.deg2rad(25)) - 10*(5-1.5-0.12) - 4.66*(2.5-0.12),\n",
    "         Ax - T*np.cos(np.deg2rad(25)),\n",
    "         Ay + T*np.sin(np.deg2rad(25)) - 4.66 - 10]\n",
    "\n",
    "    return F"
   ]
  },
  {
   "cell_type": "code",
   "execution_count": 28,
   "metadata": {},
   "outputs": [
    {
     "data": {
      "text/plain": [
       "[1, 1, 1]"
      ]
     },
     "execution_count": 28,
     "metadata": {},
     "output_type": "execute_result"
    }
   ],
   "source": [
    "# PASO 2. Indicar valor cercano a la raíz\n",
    "estimacion = [1, 1, 1]\n",
    "estimacion"
   ]
  },
  {
   "cell_type": "code",
   "execution_count": 29,
   "metadata": {},
   "outputs": [
    {
     "data": {
      "text/plain": [
       "array([19.611927  , 17.77444215,  6.3716415 ])"
      ]
     },
     "execution_count": 29,
     "metadata": {},
     "output_type": "execute_result"
    }
   ],
   "source": [
    "# PASO 3. Estimar raíz\n",
    "x = optimize.fsolve(func=f,\n",
    "                    x0=estimacion)\n",
    "\n",
    "x"
   ]
  },
  {
   "attachments": {},
   "cell_type": "markdown",
   "metadata": {},
   "source": [
    "### 1.7.3. Librería `sympy.solve`\n",
    "\n",
    "\n",
    "<div class=\"alert alert-block alert-warning\">   \n",
    "\n",
    "**SU TURNO**\n",
    "\n",
    "Resuelva con la librería `sympy.solve` el siguiente sistema de ecuaciones lineales.\n",
    "\n",
    "$$\n",
    "\\begin{cases}\n",
    "  \\sum M_A = 0 \\: \\rightarrow \\: 0.25 \\cdot T \\cos(25) + (5-0.12) \\cdot T \\sin(25) - 10 \\cdot (5 - 1.5 - 0.12) - 4.66 \\cdot (2.5 - 0.12) = 0 & (1)\\\\ \n",
    "  \\\\\n",
    "  \\sum F_x = 0 \\: \\rightarrow \\: A_x - T \\cdot \\cos(25) = 0 & (2)\\\\\n",
    "  \\\\\n",
    "  \\sum F_y = 0 \\: \\rightarrow \\: A_y + T \\cdot \\sin(25) - 4.66 - 10 = 0 & (3)\\\\\n",
    "\\end{cases} \n",
    "$$\n",
    "\n",
    "Donde las soluciones son:\n",
    "\n",
    "$$\n",
    "\\boxed{T = 19.61}\n",
    "$$\n",
    "\n",
    "$$\n",
    "\\boxed{A_x = 17.77}\n",
    "$$\n",
    "\n",
    "$$\n",
    "\\boxed{A_y = 6.37}\n",
    "$$\n",
    "\n",
    "</div>"
   ]
  },
  {
   "cell_type": "code",
   "execution_count": 30,
   "metadata": {},
   "outputs": [],
   "source": [
    "# PASO 1. Definir las variables simbólicas\n",
    "T = sympy.Symbol('T')\n",
    "Ax = sympy.Symbol('Ax')\n",
    "Ay = sympy.Symbol('Ay')"
   ]
  },
  {
   "cell_type": "code",
   "execution_count": 31,
   "metadata": {},
   "outputs": [],
   "source": [
    "# PASO 2. Definir las funciones simbólicas\n",
    "ec1 = sympy.Eq(0.25*T*np.cos(np.deg2rad(25)) + (5-0.12)*T*np.sin(np.deg2rad(25)) - 10*(5-1.5-0.12) - 4.66*(2.5-0.12), 0) # La derecha de la igualdad va después de la coma\n",
    "ec2 = sympy.Eq(Ax - T*np.cos(np.deg2rad(25)), 0) # La derecha de la igualdad va después de la coma\n",
    "ec3 = sympy.Eq(Ay + T*np.sin(np.deg2rad(25)) - 4.66 - 10, 0) # La derecha de la igualdad va después de la coma"
   ]
  },
  {
   "cell_type": "code",
   "execution_count": 32,
   "metadata": {},
   "outputs": [
    {
     "data": {
      "text/plain": [
       "{T: 19.6119269953795, Ax: 17.7744421547068, Ay: 6.37164150382722}"
      ]
     },
     "execution_count": 32,
     "metadata": {},
     "output_type": "execute_result"
    }
   ],
   "source": [
    "# PASO 3. Solucionar el sistema de ecuaciones\n",
    "sol = sympy.solve([ec1, ec2, ec3], # Lista de ecuaciones\n",
    "                  [T, Ax, Ay]) # Lista de símbolos\n",
    "sol"
   ]
  },
  {
   "attachments": {},
   "cell_type": "markdown",
   "metadata": {},
   "source": [
    "## 1.8. Estructuras\n",
    "\n",
    "Una estructura de ingeniería es cualquier sistema conectado de elementos construidos para soportar o transferir fuerzas y para **soportar con seguridad** las cargas que se le aplican. Algunos ejemplos son cerchas y máquinas.\n",
    "\n",
    "Para determinar las fuerzas internas de una estructura de ingeniería, debemos analizar por partes la estructura y realizar diagramas de cuerpo libre separados individualmente o por combinaciones de partes.\n",
    "\n",
    "Las estructuras requieren una aplicación cuidadosa de la tercera ley de Newton, que establece que cada acción va acompañada de una reacción igual y opuesta.\n",
    "\n",
    "Para esta clase nos centraremos únicamente en **cerchas**.\n",
    "\n",
    "Un armazón compuesto por miembros unidos en sus extremos para formar una estructura rígida se llama **cercha**. Algunos ejemplos son: puentes, soportes de techos, torres de perforación.\n",
    "\n",
    "<img src='./img/cercha.png' width='550' height='550'/>\n",
    "\n",
    "El método de resolución de las ecuaciones de equilibrio en cerchas se conoce como **Método de Juntas** y es el siguiente:\n",
    "> Satisfacer las condiciones de equilibrio de las fuerzas que actúan sobre el pin de conexión de cada elemento.\n",
    "\n",
    "<img src='./img/dcl_cercha.png' width='400' height='400'/>"
   ]
  },
  {
   "attachments": {},
   "cell_type": "markdown",
   "metadata": {},
   "source": [
    "### 1.8.1 Ejemplo 3 (Librería `sympy.solve`)\n",
    "\n",
    "Debemos determinar la fuerza en cada miembro de la cercha en voladizo por el método de juntas.\n",
    "\n",
    "<img src='./img/example3.png' width='550' height='550'/>\n",
    "\n",
    "Del diagrama de cuerpo libre vemos **diez incógnidas** y, por tanto, debemos definir **diez ecuaciones**.\n",
    "\n",
    "Analíticamente, empleando el método de sustitución, tenemos que:\n",
    "\n",
    "$$\n",
    "\\begin{cases}\n",
    "  \\sum M_E = 0 \\: \\rightarrow \\: 5 T - 20(5) - 30(10) = 0 & (1)\\\\ \n",
    "  \\\\\n",
    "  \\sum F_x = 0 \\: \\rightarrow \\: T \\cdot \\cos(30) - E_x = 0 & (2)\\\\\n",
    "  \\\\\n",
    "  \\sum F_y = 0 \\: \\rightarrow \\: T \\cdot \\sin(30) + E_y - 20 - 30 = 0 & (3)\\\\\n",
    "  \\\\\n",
    "  \\sum A_y = 0 \\: \\rightarrow \\: AB \\cdot \\sin(60) - 30 = 0 & (4)\\\\\n",
    "  \\\\\n",
    "  \\sum A_x = 0 \\: \\rightarrow \\: AC - AB \\cdot \\cos(60) = 0 & (5)\\\\\n",
    "  \\\\\n",
    "  \\sum B_y = 0 \\: \\rightarrow \\: BC \\cdot \\cos(30) - AB \\cdot \\cos(30) = 0 & (6)\\\\\n",
    "  \\\\\n",
    "  \\sum B_x = 0 \\: \\rightarrow \\: BD - BC \\cdot \\sin(30) - AB \\cdot \\sin(30) = 0 & (7)\\\\\n",
    "  \\\\\n",
    "  \\sum C_y = 0 \\: \\rightarrow \\: CD \\cdot \\sin(60) - BC \\cdot \\sin(60) - 20 = 0 & (8)\\\\\n",
    "  \\\\\n",
    "  \\sum C_x = 0 \\: \\rightarrow \\: CE - AC - BC \\cdot \\cos(60) - CD \\cdot \\cos(60) = 0 & (9)\\\\\n",
    "  \\\\\n",
    "  \\sum E_y = 0 \\: \\rightarrow \\: DE \\cdot \\sin(60) = 10 & (10)\\\\\n",
    "\\end{cases} \n",
    "$$\n",
    "\n",
    "Los siguientes resultados son obtenidos al emplear el método de sustitución:\n",
    "\n",
    "$$\n",
    "\\boxed{T = 80}\n",
    "$$\n",
    "\n",
    "$$\n",
    "\\boxed{E_x = 69.3}\n",
    "$$\n",
    "\n",
    "$$\n",
    "\\boxed{E_y = 10}\n",
    "$$\n",
    "\n",
    "$$\n",
    "\\boxed{AB = 34.6}\n",
    "$$\n",
    "\n",
    "$$\n",
    "\\boxed{AC = 17.32}\n",
    "$$\n",
    "\n",
    "$$\n",
    "\\boxed{BC = 34.6}\n",
    "$$\n",
    "\n",
    "$$\n",
    "\\boxed{BD = 34.6}\n",
    "$$\n",
    "\n",
    "$$\n",
    "\\boxed{CD = 57.7}\n",
    "$$\n",
    "\n",
    "$$\n",
    "\\boxed{CE = 63.5}\n",
    "$$\n",
    "\n",
    "$$\n",
    "\\boxed{DE = 11.55}\n",
    "$$"
   ]
  },
  {
   "cell_type": "code",
   "execution_count": 33,
   "metadata": {},
   "outputs": [],
   "source": [
    "# PASO 1. Definir las variables simbólicas\n",
    "T, Ex, Ey, AB, AC, BC, BD, CD, CE, DE = sympy.symbols('T, Ex, Ey, AB, AC, BC, BD, CD, CE, DE')"
   ]
  },
  {
   "attachments": {},
   "cell_type": "markdown",
   "metadata": {},
   "source": [
    "Notemos que en este caso utilizamos `sympy.symbols` porque estamos definiendo más de una variable en una única línea de código, en lugar de `sympy.Symbol` en donde definimos un único símbolo a la vez (sería: `T = sympy.Symbol('T')`, `Ex = sympy.Symbol('Ex')`, ..., `DE = sympy.Symbol('DE')`)."
   ]
  },
  {
   "cell_type": "code",
   "execution_count": 34,
   "metadata": {},
   "outputs": [],
   "source": [
    "# PASO 2. Definir las funciones simbólicas\n",
    "ec1 = sympy.Eq( 5*T - 20*5 - 30*10, 0 )\n",
    "\n",
    "ec2 = sympy.Eq( T * np.cos(np.deg2rad(30)) - Ex, 0 )\n",
    "\n",
    "ec3 = sympy.Eq( T * np.sin(np.deg2rad(30)) + Ey - 20 - 30, 0 ) \n",
    "\n",
    "ec4 = sympy.Eq( AB * np.sin(np.deg2rad(60)) - 30, 0 )\n",
    "\n",
    "ec5 = sympy.Eq( AC - AB * np.cos(np.deg2rad(60)), 0 )\n",
    "\n",
    "ec6 = sympy.Eq( BC * np.cos(np.deg2rad(30)) - AB * np.cos(np.deg2rad(30)), 0 )\n",
    "\n",
    "ec7 = sympy.Eq( BD - BC * np.sin(np.deg2rad(30)) - AB * np.sin(np.deg2rad(30)), 0 )\n",
    "\n",
    "ec8 = sympy.Eq( CD * np.sin(np.deg2rad(60)) - BC * np.sin(np.deg2rad(60)) - 20, 0 )\n",
    "\n",
    "ec9 = sympy.Eq( CE - AC - BC * np.cos(np.deg2rad(60)) - CD * np.cos(np.deg2rad(60)), 0 )\n",
    "\n",
    "ec10 = sympy.Eq( DE * np.sin(np.deg2rad(60)) - 10, 0 )"
   ]
  },
  {
   "cell_type": "code",
   "execution_count": 35,
   "metadata": {},
   "outputs": [
    {
     "data": {
      "text/plain": [
       "{T: 80.0000000000000,\n",
       " Ex: 69.2820323027551,\n",
       " Ey: 10.0000000000000,\n",
       " AB: 34.6410161513775,\n",
       " AC: 17.3205080756888,\n",
       " BC: 34.6410161513775,\n",
       " BD: 34.6410161513775,\n",
       " CD: 57.7350269189626,\n",
       " CE: 63.5085296108588,\n",
       " DE: 11.5470053837925}"
      ]
     },
     "execution_count": 35,
     "metadata": {},
     "output_type": "execute_result"
    }
   ],
   "source": [
    "# PASO 3. Solucionar el sistema de ecuaciones\n",
    "sol = sympy.solve([ec1, ec2, ec3, ec4, ec5, ec6, ec7, ec8, ec9, ec10], # Lista de ecuaciones\n",
    "                  [T, Ex, Ey, AB, AC, BC, BD, CD, CE, DE]) # Lista de símbolos\n",
    "\n",
    "sol"
   ]
  }
 ],
 "metadata": {
  "kernelspec": {
   "display_name": "hc",
   "language": "python",
   "name": "python3"
  },
  "language_info": {
   "codemirror_mode": {
    "name": "ipython",
    "version": 3
   },
   "file_extension": ".py",
   "mimetype": "text/x-python",
   "name": "python",
   "nbconvert_exporter": "python",
   "pygments_lexer": "ipython3",
   "version": "3.11.0"
  },
  "toc": {
   "base_numbering": 1,
   "nav_menu": {},
   "number_sections": false,
   "sideBar": true,
   "skip_h1_title": true,
   "title_cell": "Table of Contents",
   "title_sidebar": "Contents",
   "toc_cell": false,
   "toc_position": {},
   "toc_section_display": true,
   "toc_window_display": false
  }
 },
 "nbformat": 4,
 "nbformat_minor": 2
}

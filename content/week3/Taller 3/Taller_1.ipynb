{
 "cells": [
  {
   "cell_type": "markdown",
   "metadata": {},
   "source": [
    "Estudiante 1:\n",
    "\n",
    "Estudiante 2:\n"
   ]
  },
  {
   "attachments": {},
   "cell_type": "markdown",
   "metadata": {},
   "source": [
    "\n",
    "<p>\n",
    "<img src=./img/Logo_Uniandes.svg width=\"20%\">\n",
    "</p>\n",
    "\n",
    "# Departamento de Ingeniería Mecánica\n",
    "## IMEC 2001 - Herramientas Computacionales\n",
    "### Taller 1 - Interpolación y Raices\n",
    "\n",
    "----\n",
    "### **<span style=\"color:#A1CCD1;\">Condiciones de la entrega </span>**\n",
    "----\n",
    "**1. Fechas de entrega:**\n",
    "- Nota sobre 5.00 ->  <span style=\"color:red;\">5 de Noviembre a las 23:59, 2023</span>\n",
    "- Nota sobre 4.00 ->  <span style=\"color:red;\">6 de Noviembre a las 23:59, 2023</span>\n",
    "\n",
    "**2. Colocar el nombre de los integrantes en la casilla correspondiente<br>**\n",
    "**3. La entrega del taller es por Bloque Neon y se envía el archivo en formato de Jupyter Notebook (extensión `.ipynb`)<br>**\n",
    "**4. El nombre del archivo debe ser:** \n",
    "- Si trabajó en parejas:`T#_ApellidosIntegrante1_ApellidosIntegrante2` (Ej: `T#_Salamanca_VargasTorres`)\n",
    "- Si trabajó individual: `T#_Apellido` (Ej: `T#_VargasTorres`)\n",
    "\n",
    "**5. Comente el código con el proceso que realizó para llegar a la solución.<br>**\n",
    "**6. <span style=\"color:red;\"> Si se detecta copia con otro de los talleres enviados, automáticamente la nota para los grupos involucrados es 0. </span>**\n",
    "\n",
    "\n",
    "----\n",
    "### **<span style=\"color:#A1CCD1;\">Condiciones para el segundo envío </span>**\n",
    "----\n",
    "<div class='alert alert-block alert-info'>   \n",
    "\n",
    "<i class='fa fa-info-circle' aria-hidden='true'></i>\n",
    "Para poder realizar un segundo envío con correcciones, la nota del **primer envío** debe estar mínimo en **Aprendiz**.\n",
    "</div>\n",
    "\n",
    "----\n",
    "### **Tabla de contenido**\n",
    "----\n",
    "### Sección 1: Interpolación [→](#section1)\n",
    "- 1.1. Punto 1: Interpolación puntos aleatorios\n",
    "- 1.2. <font color=\"#276C9B\"> Punto 2: Interpolación ciencia de materiales </font> [→](#exercise1)\n",
    "\n",
    "### Sección 2: Raíces – Solución de Ecuaciones No Lineales [→](#section2)\n",
    "- 2.1. Raices identificando los puntos \n",
    "- 2.2. Esfuerzo de fluencia\n"
   ]
  },
  {
   "cell_type": "code",
   "execution_count": 1,
   "metadata": {},
   "outputs": [],
   "source": [
    "# Importar librerías\n",
    "import pandas as pd\n",
    "import numpy as np\n",
    "import matplotlib.pyplot as plt"
   ]
  },
  {
   "cell_type": "code",
   "execution_count": 2,
   "metadata": {},
   "outputs": [],
   "source": [
    "# No edite este código\n",
    "def formato_grafica(ax, fig, titulo= \"\", x_label= \"\", y_label= \"\", leyenda=False, xlim=[None, None], ylim=[None, None]):\n",
    "    \n",
    "    ax.set_title(titulo)\n",
    "    ax.set_xlabel(x_label)\n",
    "    ax.set_ylabel(y_label)\n",
    "    \n",
    "    ax.tick_params(direction='out', length=5, width=0.75, grid_alpha=0.3)\n",
    "    \n",
    "    # Utilizarlo si se necesita alguna rotación en los labels de los ejes\n",
    "#     ax.set_xticklabels(ax.get_xticks(), rotation = 0)\n",
    "#     ax.set_yticklabels(ax.get_yticks(), rotation = 0)\n",
    "    ax.set_xlim(xlim[0], xlim[1])\n",
    "    ax.set_ylim(ylim[0], ylim[1])\n",
    "\n",
    "    # Grid de la gráfica\n",
    "    ax.grid(True)\n",
    "    ax.grid(visible=True, which='major', color='grey', linestyle='-')\n",
    "    ax.minorticks_on()\n",
    "    ax.grid(visible=True, which='minor', color='lightgrey', linestyle='-', alpha=0.2)\n",
    "\n",
    "    if leyenda == True:\n",
    "        ax.legend(loc='best', fontsize= 7)\n",
    "\n",
    "    fig.tight_layout()\n",
    "\n"
   ]
  },
  {
   "cell_type": "markdown",
   "metadata": {},
   "source": [
    "## **Punto 1 - Sección Interpolación**\n",
    "----\n",
    "<div class='alert alert-block alert-info'>   \n",
    "\n",
    "<i class='fa fa-info-circle' aria-hidden='true'></i>\n",
    "A continuación tiene 3 conjuntos de datos para los cuales debe:\n",
    "1. Utiliza la función de numpy np.arange para generar los puntos x de cada conjunto, estos van de 0 a la longitud de cada uno. \n",
    "2. Grafique cada conjunto de datos utilizando [``plt.scatter()``](https://realpython.com/visualizing-python-plt-scatter/)\n",
    "3. Como puede observar, cada gráfica tiene un comportamiento diferente, teniendo que hay un método de interpolación que da una mejor aproximación. Seleccione **3** métodos de interpolación **uno** para cada conjunto de datos (deben ser distintos) y realice la interpolación. \n",
    "4. Grafique en un subplot los puntos que utilizó para la interpolación y los que obtuvo para cada conjunto. \n",
    "\n",
    "**Bono:** Para el punto 3 utilizar las funciones de las interpolaciones en una función, intente generalizarla (que funcione para cualqueir caso). Siga el siguiente formato:\n",
    "``` Python\n",
    "def fun_1(param_1: tipo, param_2: tipo, ....)-> tipo que se retorna:\n",
    "    \"\"\"\n",
    "    Descripción de la función\n",
    "\n",
    "    Parameters\n",
    "    ----------\n",
    "    param_1 : tipo\n",
    "        Descripción del parámetro\n",
    "    param_2 : tipo\n",
    "        Descripción del parámetro\n",
    "\n",
    "    Returns\n",
    "    -------\n",
    "    variable : tipo\n",
    "        Descripción de la variable \n",
    "    \"\"\"\n",
    "    Variables y operaciones con el método de interpolación seleccionado\n",
    "```\n",
    "</div>\n",
    "\n"
   ]
  },
  {
   "cell_type": "code",
   "execution_count": 3,
   "metadata": {},
   "outputs": [],
   "source": [
    "# Conjuntos de datos\n",
    "datos_1 = np.array([  0. ,   62.5,  250. ,  562.5, 1000.])\n",
    "datos_2 = np.array([0.00000000e+00, 9.82812500e+02, 3.12750000e+04, 2.37360938e+05,\n",
    "                    1.00010000e+06, 3.05191406e+06, 7.59397500e+06, 1.64133922e+07,\n",
    "                    3.20004000e+07])\n",
    "datos_3 = np.array([0.        ,   6.12244898,  12.24489796,  18.36734694,\n",
    "                    24.48979592,  30.6122449 ,  36.73469388,  42.85714286,\n",
    "                    48.97959184,  55.10204082,  61.2244898 ,  67.34693878,\n",
    "                    73.46938776,  79.59183673,  85.71428571,  91.83673469,\n",
    "                    97.95918367, 104.08163265, 110.20408163])"
   ]
  },
  {
   "attachments": {},
   "cell_type": "markdown",
   "metadata": {},
   "source": [
    "----\n",
    "## Punto 2\n",
    "----\n",
    "\n",
    "Algunas de las cargas que se pueden encontrar en la ingeniería son de tensión, compresión, torsión y cortante, para el taller se trabajará con el primero. Una de las pruebas que se le realizan a los materiales es la prueba de tensión en donde se deforma la probeta aplicando una carga axial hasta que se llega a la fractura como se muestra en la siguiente imagen:\n",
    "\n",
    "\n",
    "<p align=\"center\">\n",
    "<img src=./img/ensayo_tension.jpg width=\"20%\">\n",
    "</p>\n",
    "\n",
    "Ahora, se quiere encontrar el esfuerzo de tracción, el cual está definido como:\n",
    "$$\\sigma = \\frac{F}{A_0}$$\n",
    "\n",
    "Siendo $F$ la fuerza que está siendo aplicada y $A$ el área de la sección transversal, de la cual su fórmula para este caso está dada por:\n",
    "\n",
    "$$A_0 = ancho\\times espesor \\rightarrow A_0 = W\\times T$$\n",
    "<p align=\"center\">\n",
    "<img src=./img/tension.jpg width=\"20%\">\n",
    "</p>\n",
    "\n",
    "Ahora, para la deformación unitaria, definida como el cambio entre la longitud inicial y la final, sobre la inicial:\n",
    "\n",
    "$$\\epsilon = \\frac{l_i - l_0}{l_0} $$\n",
    "\n",
    "\n",
    "<div class='alert alert-block alert-info'>   \n",
    "\n",
    "<i class='fa fa-info-circle' aria-hidden='true'></i>\n",
    "Se quiere reconstruir la curva de Esfuerzo - Deformación del HDPE, la probeta tiene un ancho de 13.92 mm, un espesor de 3.14 y una longitud inicial de 25 mm. \n",
    "\n",
    "Como puede observar, se tienen comportamientos distintos en cada una de las secciones, al igual que en el ejercicio anterior, debe poder recrear la curva utilizando las diferentes funciones de interpolación (si realizó las funciones de la sección pasada las puede utilizar en este punto). Los datos que se suministran para el ejercicio son de fuerza, el tiempo y la extensión de tracción medida por el equipo. \n",
    "\n",
    "**2.1. Importe el csv que se encuentra en el repositorio**\n",
    "- Tenga en cuenta que se tienen dos headers, revise la documentación para presentar un dataFrame con ambos. \n",
    "- Agregue **encoding='utf-8'** para que se cargue correctamente el archivo. \n",
    "\n",
    "**2.2. Creación DataFrame <br>**\n",
    "- Con los datos dados cree un DataFrame con los cuales sus columnas sean: (Fuerza, Deformación).\n",
    "- Encuentre el esfuerzo y la deformación **unitaria** de los datos dados con las fórmulas dadas, estos datos deben quedar en el DataFrame creado como nuevas columnas. \n",
    "- **Importante:** Para la deformación unitaria ya se le dan los datos de cuánto se deformó por lo que debe tomar la longitud inicial y dividirla entre el número respectivo. \n",
    "\n",
    "**2.3. Grafique los puntos y comente cuáles funciones junto con su librería utilizaría para interpolar cada sección junto con una justificación <br>**\n",
    "**2.4. Interpole los datos <br>**\n",
    "**2.5. Grafique la curva con los datos dados y la de los datos del csv.**\n",
    "- Con esto puede comprobar si su interpolación fue correcta y se acerca a la original.\n",
    "\n",
    "\n",
    "**Recomendaciones:**\n",
    "- Divida correctamente los datos para cada sección. Una ayuda para esto se encuentra en la presentación de ppt que se encuenta en bloque neón y en github.\n",
    "\n",
    "</div>\n"
   ]
  },
  {
   "cell_type": "code",
   "execution_count": 10,
   "metadata": {},
   "outputs": [
    {
     "data": {
      "text/html": [
       "<div>\n",
       "<style scoped>\n",
       "    .dataframe tbody tr th:only-of-type {\n",
       "        vertical-align: middle;\n",
       "    }\n",
       "\n",
       "    .dataframe tbody tr th {\n",
       "        vertical-align: top;\n",
       "    }\n",
       "\n",
       "    .dataframe thead tr th {\n",
       "        text-align: left;\n",
       "    }\n",
       "</style>\n",
       "<table border=\"1\" class=\"dataframe\">\n",
       "  <thead>\n",
       "    <tr>\n",
       "      <th></th>\n",
       "      <th>Tiempo</th>\n",
       "      <th>Carga</th>\n",
       "      <th>Extensión de tracción</th>\n",
       "    </tr>\n",
       "    <tr>\n",
       "      <th></th>\n",
       "      <th>s</th>\n",
       "      <th>N</th>\n",
       "      <th>mm</th>\n",
       "    </tr>\n",
       "  </thead>\n",
       "  <tbody>\n",
       "    <tr>\n",
       "      <th>0</th>\n",
       "      <td>0.0</td>\n",
       "      <td>0.25441</td>\n",
       "      <td>0.00011</td>\n",
       "    </tr>\n",
       "    <tr>\n",
       "      <th>1</th>\n",
       "      <td>0.1</td>\n",
       "      <td>17.75244</td>\n",
       "      <td>0.01695</td>\n",
       "    </tr>\n",
       "    <tr>\n",
       "      <th>2</th>\n",
       "      <td>0.2</td>\n",
       "      <td>52.51681</td>\n",
       "      <td>0.05468</td>\n",
       "    </tr>\n",
       "    <tr>\n",
       "      <th>3</th>\n",
       "      <td>0.3</td>\n",
       "      <td>82.20963</td>\n",
       "      <td>0.09200</td>\n",
       "    </tr>\n",
       "    <tr>\n",
       "      <th>4</th>\n",
       "      <td>0.4</td>\n",
       "      <td>108.18626</td>\n",
       "      <td>0.12843</td>\n",
       "    </tr>\n",
       "  </tbody>\n",
       "</table>\n",
       "</div>"
      ],
      "text/plain": [
       "  Tiempo      Carga Extensión de tracción\n",
       "       s          N                    mm\n",
       "0    0.0    0.25441               0.00011\n",
       "1    0.1   17.75244               0.01695\n",
       "2    0.2   52.51681               0.05468\n",
       "3    0.3   82.20963               0.09200\n",
       "4    0.4  108.18626               0.12843"
      ]
     },
     "execution_count": 10,
     "metadata": {},
     "output_type": "execute_result"
    }
   ],
   "source": [
    "# 1. Importe los datos del csv [Tenga en cuenta que se tienen 2 headers]\n"
   ]
  },
  {
   "cell_type": "code",
   "execution_count": 11,
   "metadata": {},
   "outputs": [],
   "source": [
    "# 2. Datos iniciales\n"
   ]
  },
  {
   "cell_type": "code",
   "execution_count": 12,
   "metadata": {},
   "outputs": [
    {
     "data": {
      "text/plain": [
       "43.708800000000004"
      ]
     },
     "execution_count": 12,
     "metadata": {},
     "output_type": "execute_result"
    }
   ],
   "source": [
    "# Calcular área\n"
   ]
  },
  {
   "cell_type": "markdown",
   "metadata": {},
   "source": [
    "## **Punto 3 - Sección Raíces**\n",
    "----\n",
    "\n",
    "<p align=\"center\">\n",
    "<img src=./img/Ejercicio_2.png width=\"30%\">\n",
    "</p>\n",
    "\n",
    "\n",
    "En la figura anterior tiene dos curvas con las cuales debe:\n",
    "1. Obtener datos de x y y de cada una\n",
    "2. Interpole los datos (Esto con el fin de aproximar mejor la solución)\n",
    "2. Utilizando la librería polyfit de numpy y los datos del literal anterior encuentre las ecuaciones de las curvas.\n",
    "3. Teniendo las ecuaciones diga cuál sería la raíz para este caso. \n",
    "4. Encuentre la raíz utilizando las ecuaciones encontradas. \n"
   ]
  },
  {
   "cell_type": "code",
   "execution_count": 32,
   "metadata": {},
   "outputs": [],
   "source": [
    "# Puntos con las curvas\n",
    "\n",
    "\n",
    "# Ineterpolación de los puntos\n",
    "\n"
   ]
  },
  {
   "attachments": {},
   "cell_type": "markdown",
   "metadata": {},
   "source": [
    "## Punto 4\n",
    "----\n",
    "\n",
    "Uno de los puntos importantes que se obtienen con la curva esfuerzo vs deformación es el esfuerzo de fluencia $S_{y}$, este se define como el esfuerzo máximo que se puede desarrollar en un material sin causar una deformación plástica[^1]. Este se puede encontrar trazando una línea paralela y que parte desde el 0.002 en el eje x que es el que tiene la deformación, cuando se interseca con la curva original del material es cuando se obtiene su valor. \n",
    "\n",
    "1. Utilizando algunos puntos del primer tramo del punto 2, encuentre el módulo de Young. \n",
    "- Para que no se tengan errores con la función de *polyfit* utilizar con los valores escogidos utilice np.array(x).reshape(-1,).\n",
    "2. Se quiere encontrar el esfuerzo de Fluencia para lo cual de los puntos que seleccionó anteriormente al ser un array: \n",
    "- 2.1. En una nueva variable sumele a la deformación 0.002.\n",
    "- 2.2. Encuentre la ecuación utilzando los nuevos x (deformacion) y el y (Esfuerzo) del literal 1.\n",
    "- 2.3. Para realizar la paralela y que cruce la curva inicial defina una variable que van a ser los nuevos puntos x utilizando como punto inicial el x[0] de la deformación desplazada. \n",
    "- 2.4. Evalúe los valores del 2.3. en la ecuación del punto 2.2.\n",
    "\n",
    "3. Grafique la recta encontrada junto con la gráfica de esfuerzo deformación del tramo correspondiente.\n",
    "4. Como puede evidenciar en donde se corta con la curva original si se delimita entre 0.005 y 0.01 se tiene una recta. Encuentre la ecuación de esta recta.\n",
    "5. En este caso se encuentra que se tiene un problema de raices, siendo esta en donde se intersecan las rectas. Encuentre el esfuerzo de fluencia del material y compare con la literatura. \n",
    "\n",
    "\n",
    "[^1]: [Instron] (https://www.instron.com/es-es/resources/glossary/y/yield-strength)"
   ]
  },
  {
   "cell_type": "code",
   "execution_count": null,
   "metadata": {},
   "outputs": [],
   "source": []
  }
 ],
 "metadata": {
  "kernelspec": {
   "display_name": "Python 3 (ipykernel)",
   "language": "python",
   "name": "python3"
  },
  "language_info": {
   "codemirror_mode": {
    "name": "ipython",
    "version": 3
   },
   "file_extension": ".py",
   "mimetype": "text/x-python",
   "name": "python",
   "nbconvert_exporter": "python",
   "pygments_lexer": "ipython3",
   "version": "3.11.4"
  },
  "vscode": {
   "interpreter": {
    "hash": "53a1c45876d37b93742cefcbccd0e028309dbdecc6e457f55650f19fbe3f8ebb"
   }
  }
 },
 "nbformat": 4,
 "nbformat_minor": 2
}

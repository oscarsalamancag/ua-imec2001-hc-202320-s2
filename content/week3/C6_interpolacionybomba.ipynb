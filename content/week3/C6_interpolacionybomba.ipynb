{
 "cells": [
  {
   "cell_type": "markdown",
   "metadata": {},
   "source": [
    "# IMEC2001 Herramientas Computacionales \n",
    "## Semana 3: Interpolación y Curva de Bomba\n",
    "### Clase 6: Interpolación\n",
    "\n",
    "Universidad de los Andes — Octubre 25, 2023.\n",
    "\n",
    "---\n",
    "\n",
    "## TABLA DE CONTENIDO\n",
    "\n",
    "### Sección 1: Interpolación [→](#section1)\n",
    "- 1.1. Cargar Librerías\n",
    "- 1.2. Interpolación Lineal\n",
    "- 1.3. Interpolación con Splines\n",
    "- 1.4. Splines 1D\n",
    "- 1.5. ¿Matemáticamente?\n",
    "\n",
    "### Sección 2: Bomba Centrífuga [→](#section2)\n",
    "- 2.1. Introducción\n",
    "- 2.2. Parámetros de Estudio\n",
    "- 2.3. Curvas Características\n",
    "\n",
    "### Sección 3. Puesta en Práctica [→](#section3)\n",
    "- 3.1. Cargar Librerías\n",
    "- 3.2. Conjunto de Datos a Interpolar\n",
    "- 3.3. Interpolación Lineal\n",
    "- 3.4. Interpolación con Splines\n",
    "- 3.5. Actividad Clase 6: Evaluemos el Comportamiento de la Bomba Centrífuga\n",
    "___"
   ]
  },
  {
   "cell_type": "markdown",
   "metadata": {},
   "source": [
    "<a id=\"section1\"></a>\n",
    "# Sección 1: Interpolación\n",
    "\n",
    "La interpolación es el ejercicio de determinar una función $ f(x) $ que pase por un conjunto de puntos.\n",
    "\n",
    "Típicamente, en los laboratorios de los cursos de Ingeniería Mecánica, se dispone de un número de datos obtenidos por muestreo a partir de un experimento y se pretende construir una función que los ajuste para así obtener nuevos puntos y precisar/expander el análisis.\n",
    "\n",
    "<div class=\"alert alert-block alert-success\">\n",
    "    \n",
    "**Nota:** La interpolación es diferente a la *regresión* dado que la última busca determinar una función que **describa** el modelo físico particular; es decir, una tendencia.\n",
    "</div>\n",
    "\n",
    "En general, vamos a utilizar la librería `scipy` para explorar diferentes tipos de interpolación.\n",
    "\n",
    "<div class='alert alert-block alert-info'>   \n",
    "    \n",
    "<i class='fa fa-info-circle' aria-hidden='true'></i>\n",
    "Puede obtener más información en la documentación oficial de la librería `scipy.interpolate` dando clic [aquí](https://docs.scipy.org/doc/scipy/tutorial/interpolate.html).\n",
    "</div>"
   ]
  },
  {
   "cell_type": "markdown",
   "metadata": {},
   "source": [
    "## 1.1. Cargar Librerías\n",
    "\n",
    "Primero, asegurémonos de haber instalado las librerías:\n",
    "\n",
    "> ```python\n",
    "  !pip install numpy\n",
    "  !pip install scipy\n",
    "  ```"
   ]
  },
  {
   "cell_type": "code",
   "execution_count": null,
   "metadata": {},
   "outputs": [],
   "source": [
    "# Datos y Gráficas\n",
    "%matplotlib inline\n",
    "import matplotlib.pyplot as plt\n",
    "import pandas as pd\n",
    "\n",
    "# OLS\n",
    "import numpy as np\n",
    "import scipy\n",
    "import sklearn"
   ]
  },
  {
   "cell_type": "markdown",
   "metadata": {},
   "source": [
    "## 1.2. Interpolación Lineal\n",
    "\n",
    "En este escenario, tenemos un par de puntos $(x_k,\\:y_k)$ y se quiere conocer el valor de $y$ para un valor cualquiera de $x$ en el intervalo $[x_0, x_1, ..., x_n]$.\n",
    "\n",
    "El ejercicio consiste en determinar la recta que pasa por dos puntos continuos, es decir, en el intervalo $[x_k, \\:x_{k+1}]$.\n",
    "\n",
    "El modelo matemático para un par de puntos $(x_a,\\:y_a)$ y $(x_b,\\:y_b)$ es:\n",
    "\n",
    "$$\n",
    "y = y_a + (x - x_a) \\cdot \\frac{y_b - y_a}{x_b - x_a}\n",
    "$$\n",
    "\n",
    "Con la librería `scipy.interpolate` utilizamos la función `interp1d`. La sintaxis de esta función consiste en:\n",
    "\n",
    "1. Definir el interpolador mediante `scipy.interpolate.interp1d(x, y)`.\n",
    "2. Ejecutar la función determinada por el interpolador en el conjunto de puntos independiente mediante.\n",
    "\n",
    "<div class='alert alert-block alert-info'>   \n",
    "    \n",
    "<i class='fa fa-info-circle' aria-hidden='true'></i>\n",
    "Puede obtener más información en la documentación oficial de la librería `interp1d` dando clic [aquí](https://docs.scipy.org/doc/scipy/reference/generated/scipy.interpolate.interp1d.html#scipy.interpolate.interp1d).\n",
    "</div>"
   ]
  },
  {
   "cell_type": "code",
   "execution_count": null,
   "metadata": {},
   "outputs": [],
   "source": [
    "# Límite inferior y superior del intervalo\n",
    "a = 0.0\n",
    "b = 2 * np.pi\n",
    "ndatos = 7\n",
    "\n",
    "# Definición del intervalo\n",
    "x = np.linspace(start=a, stop=b, num=ndatos)\n",
    "x"
   ]
  },
  {
   "cell_type": "code",
   "execution_count": null,
   "metadata": {},
   "outputs": [],
   "source": [
    "# Función que originalmente desconocemos\n",
    "y = np.sin(x)\n",
    "y"
   ]
  },
  {
   "cell_type": "code",
   "execution_count": null,
   "metadata": {},
   "outputs": [],
   "source": [
    "def formato_grafica(titulo, ejex, ejey):\n",
    "    plt.rcParams['axes.axisbelow'] = True\n",
    "\n",
    "    plt.title(titulo, fontsize=15)\n",
    "    plt.ylabel(ejey, fontsize=13)\n",
    "    plt.xlabel(ejex, fontsize=13)\n",
    "\n",
    "    plt.tick_params(direction='out', length=5, width=0.75, grid_alpha=0.3)\n",
    "    plt.xticks(rotation=0)\n",
    "    plt.minorticks_on()\n",
    "    plt.ylim(None, None)\n",
    "    plt.xlim(None, None)\n",
    "    plt.grid(True)\n",
    "    plt.legend(loc=True)\n",
    "    plt.tight_layout;"
   ]
  },
  {
   "cell_type": "code",
   "execution_count": null,
   "metadata": {},
   "outputs": [],
   "source": [
    "hor = 8\n",
    "ver = 5\n",
    "plt.figure(figsize=(hor, ver))\n",
    "\n",
    "plt.plot(x, y, linestyle='', marker='o', color='dodgerblue', ms=10, label='Datos medidos')\n",
    "\n",
    "formato_grafica(titulo='Datos Conocidos (Medidos)', \n",
    "                ejex='Eje X', \n",
    "                ejey='Eje Y')"
   ]
  },
  {
   "cell_type": "code",
   "execution_count": null,
   "metadata": {},
   "outputs": [],
   "source": [
    "# PASO 1. Creamos el interpolador lineal\n",
    "itp_lineal = scipy.interpolate.interp1d(x, y)\n",
    "itp_lineal"
   ]
  },
  {
   "cell_type": "code",
   "execution_count": null,
   "metadata": {},
   "outputs": [],
   "source": [
    "# PASO 2. Evaluamos el interpolador lineal\n",
    "x_new = 2.5\n",
    "\n",
    "y_new = itp_lineal(x_new)\n",
    "y_new"
   ]
  },
  {
   "cell_type": "code",
   "execution_count": null,
   "metadata": {},
   "outputs": [],
   "source": [
    "hor = 8\n",
    "ver = 5\n",
    "plt.figure(figsize=(hor, ver))\n",
    "\n",
    "plt.plot(x, y, linestyle='', marker='o', color='dodgerblue', ms=10, label='Datos medidos')\n",
    "plt.plot(x_new, y_new, linestyle='', marker='o', color='crimson', ms=10, label='Dato desconocido (interpolado)')\n",
    "\n",
    "formato_grafica(titulo='Datos Conocidos (Medidos)', \n",
    "                ejex='Eje X', \n",
    "                ejey='Eje Y')"
   ]
  },
  {
   "cell_type": "markdown",
   "metadata": {},
   "source": [
    "Si evaluamos el interpolador lineal con los datos conocidos, vemos lo siguiente:"
   ]
  },
  {
   "cell_type": "code",
   "execution_count": null,
   "metadata": {},
   "outputs": [],
   "source": [
    "y_inter = itp_lineal(x)\n",
    "y_inter"
   ]
  },
  {
   "cell_type": "code",
   "execution_count": null,
   "metadata": {},
   "outputs": [],
   "source": [
    "hor = 8\n",
    "ver = 5\n",
    "plt.figure(figsize=(hor, ver))\n",
    "\n",
    "plt.plot(x, y, linestyle='', marker='o', color='dodgerblue', ms=10, label='Datos conocidos')\n",
    "plt.plot(x_new, y_new, linestyle='', marker='s', color='crimson', ms=10, label='Dato desconocido (interpolado)')\n",
    "plt.plot(x, y_inter, linestyle='--', marker='^', color='orange', ms=7, label='Datos interpolados')\n",
    "\n",
    "formato_grafica(titulo='Interpolación Lineal', \n",
    "                ejex='Eje X', \n",
    "                ejey='Eje Y')"
   ]
  },
  {
   "cell_type": "markdown",
   "metadata": {},
   "source": [
    "Note lo que sucede si se aumenta el número de puntos del conjunto de datos conocidos."
   ]
  },
  {
   "cell_type": "code",
   "execution_count": null,
   "metadata": {},
   "outputs": [],
   "source": [
    "ndatos = 15\n",
    "x = np.linspace(start=a, stop=b, num=ndatos)\n",
    "y = np.sin(x)\n",
    "\n",
    "# PASO 1. Creamos el interpolador lineal\n",
    "itp_lineal = scipy.interpolate.interp1d(x, y)\n",
    "\n",
    "# PASO 2. Evaluamos el interpolador lineal\n",
    "y_inter = itp_lineal(x)\n",
    "\n",
    "# Gráfica\n",
    "hor = 8\n",
    "ver = 5\n",
    "plt.figure(figsize=(hor, ver))\n",
    "\n",
    "plt.plot(x, y, linestyle='', marker='o', color='dodgerblue', ms=10, label='Datos conocidos')\n",
    "plt.plot(x, y_inter, linestyle='--', marker='^', color='orange', ms=7, label='Datos interpolados')\n",
    "\n",
    "formato_grafica(titulo='Interpolación Lineal', \n",
    "                ejex='Eje X', \n",
    "                ejey='Eje Y')"
   ]
  },
  {
   "cell_type": "markdown",
   "metadata": {},
   "source": [
    "Ahora, si en lugar de partir de una función utilizamos una nube de puntos (como típicamente es en un laboratorio), ¿cómo lo haríamos y qué obtendríamos?"
   ]
  },
  {
   "cell_type": "code",
   "execution_count": null,
   "metadata": {},
   "outputs": [],
   "source": [
    "xx = [0.97, 1.12, 2.92, 3.00, 3.33, 3.97, 6.10, 8.39, 8.56, 9.44]\n",
    "yy = [2.58, 0.43, 0.06, 5.74, 7.44, 8.07, 6.37, 2.51, 1.44, 0.52]\n",
    "\n",
    "# PASO 1. Creamos el interpolador lineal\n",
    "itp_lineal = scipy.interpolate.interp1d(xx, yy)\n",
    "\n",
    "# PASO 2. Evaluamos el interpolador lineal\n",
    "y_inter = itp_lineal(xx)\n",
    "\n",
    "# Gráfica\n",
    "hor = 8\n",
    "ver = 5\n",
    "plt.figure(figsize=(hor, ver))\n",
    "\n",
    "plt.plot(xx, yy, linestyle='', marker='o', color='dodgerblue', ms=10, label='Datos conocidos')\n",
    "plt.plot(xx, y_inter, linestyle='--', marker='^', color='orange', ms=7, label='Datos interpolados')\n",
    "\n",
    "formato_grafica(titulo='Datos Conocidos (Medidos)', \n",
    "                ejex='Eje X', \n",
    "                ejey='Eje Y')"
   ]
  },
  {
   "cell_type": "code",
   "execution_count": null,
   "metadata": {},
   "outputs": [],
   "source": [
    "x_new = 5.3\n",
    "y_new = itp_lineal(x_new)\n",
    "\n",
    "print(f'Para xx = {x_new}, el valor de yy es {np.round(y_new, 2)}.')"
   ]
  },
  {
   "cell_type": "code",
   "execution_count": null,
   "metadata": {},
   "outputs": [],
   "source": [
    "hor = 8\n",
    "ver = 5\n",
    "plt.figure(figsize=(hor, ver))\n",
    "\n",
    "plt.plot(xx, yy, linestyle='', marker='o', color='dodgerblue', ms=10, label='Datos conocidos')\n",
    "plt.plot(x_new, y_new, linestyle='', marker='s', color='crimson', ms=10, label='Dato desconocido (interpolado)')\n",
    "plt.plot(xx, y_inter, linestyle='--', marker='^', color='orange', ms=7, label='Datos interpolados')\n",
    "\n",
    "formato_grafica(titulo='Datos Conocidos (Medidos)', \n",
    "                ejex='Eje X', \n",
    "                ejey='Eje Y')"
   ]
  },
  {
   "cell_type": "markdown",
   "metadata": {},
   "source": [
    "## 1.3. Interpolación con Splines\n",
    "\n",
    "Un *spline* es una curva suave definida en partes mediante diferentes polinomios.\n",
    "\n",
    "En interpolación, los *splines* dan lugar a buenos resultados para formas complicadas requiriendo solamente el uso de polinomios de bajo grado, evitando así las oscilaciones indeseables que se dan al interpolar mediante polinomios de grado elevado.\n",
    "\n",
    "Con la librería `scipy.interpolate` utilizamos la función `splrep` para crear el interpolador con *spline* cúbico, y luego la función `splev` para evaluar el interpolador con datos desconocidos.\n",
    "\n",
    "Si se tienen solo dos puntos, el polinomio que pasa por estos es de grado uno, es decir, una recta. Si se tienen tres puntos, el polinomio es de segundo grado, es decir, unaparábola. Por tanto, en el caso general de tener $n$ puntos, el polinomio sería de grado $n-1$, es decir:\n",
    "\n",
    "$$\n",
    "y = a_0 x^{n-1} + a_1 x^{n-2} + ... + a_{n-2} x + a_{n-1}\n",
    "$$\n",
    "\n",
    "<div class='alert alert-block alert-info'>   \n",
    "    \n",
    "<i class='fa fa-info-circle' aria-hidden='true'></i>\n",
    "Puede obtener más información en la documentación oficial de la librería `splprep` dando clic [aquí](https://docs.scipy.org/doc/scipy/reference/generated/scipy.interpolate.splprep.html#scipy.interpolate.splprep) y `splev` dando clic [aquí](https://docs.scipy.org/doc/scipy/reference/generated/scipy.interpolate.splev.html#scipy.interpolate.splev).\n",
    "</div>"
   ]
  },
  {
   "cell_type": "code",
   "execution_count": null,
   "metadata": {},
   "outputs": [],
   "source": [
    "# Límite inferior y superior del intervalo\n",
    "a = 0.0\n",
    "b = 2 * np.pi\n",
    "ndatos = 7\n",
    "\n",
    "# Definición del intervalo\n",
    "x = np.linspace(start=a, stop=b, num=ndatos)\n",
    "\n",
    "# Función que originalmente desconocemos\n",
    "y = np.sin(x)\n",
    "\n",
    "# Gráfica\n",
    "hor = 8\n",
    "ver = 5\n",
    "plt.figure(figsize=(hor, ver))\n",
    "\n",
    "plt.plot(x, y, linestyle='', marker='o', color='dodgerblue', ms=10, label='Datos medidos')\n",
    "\n",
    "formato_grafica(titulo='Datos Conocidos (Medidos)', \n",
    "                ejex='Eje X', \n",
    "                ejey='Eje Y')"
   ]
  },
  {
   "cell_type": "code",
   "execution_count": null,
   "metadata": {},
   "outputs": [],
   "source": [
    "# PASO 1. Creamos el interpolador spline cúbico\n",
    "itp_spline = scipy.interpolate.splrep(x, y, k=3) # k es el grado del spline (para cúbico, k=3)\n",
    "\n",
    "# PASO 2. Evaluamos el interpolador spline cúbico\n",
    "x_new = np.linspace(start=a, stop=b, num=15)\n",
    "y_new = scipy.interpolate.splev(x_new, tck=itp_spline)\n",
    "y_new"
   ]
  },
  {
   "cell_type": "code",
   "execution_count": null,
   "metadata": {},
   "outputs": [],
   "source": [
    "hor = 8\n",
    "ver = 5\n",
    "plt.figure(figsize=(hor, ver))\n",
    "\n",
    "plt.plot(x, y, linestyle='', marker='o', color='dodgerblue', ms=10, label='Datos conocidos')\n",
    "plt.plot(x_new, y_new, linestyle='--', marker='^', color='orange', ms=7, label='Datos interpolados')\n",
    "\n",
    "formato_grafica(titulo='Interpolación Spline Cúbico', \n",
    "                ejex='Eje X', \n",
    "                ejey='Eje Y')"
   ]
  },
  {
   "cell_type": "markdown",
   "metadata": {},
   "source": [
    "<a id=\"section2\"></a>\n",
    "# Sección 2: Bomba Centrífuga"
   ]
  },
  {
   "cell_type": "markdown",
   "metadata": {},
   "source": [
    "## 2.1. Introducción\n",
    "\n",
    "Una bomba es un dispositivo que **añade energía a un fluido**. Hablando específicamente de la bombas centrífugas, estas añaden una cantidad de movimiento al fluido por medio de paletas, también llamados álabes. \n",
    "\n",
    "<img src='./img/centrifugal_pump.gif' width='250' height='250' />\n",
    "\n",
    "Las bombas centrífugas proporcionan grandes caudales (hasta 300.000 gal/min) con bajos incrementos de presión (pocas atmósferas).<br><br>\n",
    "\n",
    "\n",
    "De manera general, el flujo de la operación es:\n",
    "> - **Paso 1.** El fluido entra axialmente a través del ojo, en el eje de la carcasa.\n",
    "> - **Paso 2.** Los álabes del rotor fuerzan el fluido a tomar un movimiento tangencial y radial hacia el exterior del rotor, donde es recogido por una carcasa que hace de difusor.\n",
    "> - **Paso 3.** El fluido aumenta su velocidad y presión cuando pasa a través del rotor.\n",
    "> - **Paso 4.** La parte de la carcasa, con forma de voluta, desacelera el flujo y aumenta más la presión.\n",
    "\n",
    "<img src='./img/esquematico.png' width='500' height='500' />"
   ]
  },
  {
   "cell_type": "markdown",
   "metadata": {},
   "source": [
    "## 2.2. Parámetros de Estudio\n",
    "\n",
    "La potencia que la bomba centrífuga le añade al fluido (conocida como **potencia hidráulica** $P_w$), es:\n",
    "\n",
    "$$\n",
    "P_w = \\rho g Q H\n",
    "$$\n",
    "\n",
    "Donde $\\rho$ es la densidad del fluido, $g$ la gravedad, $Q$ el caudal y $H$ la altura manométrica, definida como:\n",
    "\n",
    "$$\n",
    "H = \\frac{\\Delta p}{\\rho g}\n",
    "$$\n",
    "\n",
    "Siendo $\\Delta p$ el cambio de presión entre la entrada y salida de la bomba centrífuga.\n",
    "\n",
    "También, recordemos que el caudal es:\n",
    "\n",
    "$$\n",
    "Q = V \\cdot A\n",
    "$$\n",
    "\n",
    "Siendo $V$ la velocidad media del fluido y $A$ el área transversal de la tubería. Las unidades del caudal son de volumen sobre tiempo.\n",
    "\n",
    "Ahora bien, para que la bomba centrífuga le añada energía al fluido, debe haber un recurso que, asimismo, le suministre energía al dispositivo. Esto último es conocido como **potencia mecánica** $P_f$ y es el producto entre la velocidad de rotación del eje de la bomba $w$ y el torque en el mismo $T$.\n",
    "\n",
    "$$\n",
    "P_f = w T\n",
    "$$\n",
    "\n",
    "Luego, si el insumo es $P_f$ y la salida es $P_w$, la eficiencia de la bomba es la relación entre estos parámetros, es decir:\n",
    "\n",
    "$$\n",
    "\\eta = \\frac{P_w}{P_f} = \\frac{\\rho g Q H}{w T}\n",
    "$$\n",
    "\n",
    "Entonces, el rendimiento de la bomba centrífuga depende de tres factores: volumétrico, hidráulico y mecánico. "
   ]
  },
  {
   "cell_type": "markdown",
   "metadata": {},
   "source": [
    "## 2.3. Curvas Características\n",
    "\n",
    "Las curvas características de las bombas centrífugas se trazan para velocidad de giro $n$ constante del eje (en RPM). El caudal $Q$ (en gal/min o gpm) se toma como variable independiente, es decir, se ubica en el eje horizontal. \n",
    "\n",
    "Las variables dependientes (se ubican en el eje vertical) son:\n",
    "- Altura manométrica $H$.\n",
    "- Potencia mecánica $P_f$.\n",
    "- Eficiencia $\\eta$.\n",
    "\n",
    "<img src='./img/curvas_teoricas.png' width='400' height='400' />\n",
    "\n",
    "En la práctica, aunque las curvas de la altura manométrica $H$ aparecen explícitamente, las de potencia $P_f$ y rendimiento $\\eta$ deben deducirse a partir de los datos medidos. Fíjense, **es como los laboratorios que hacemos en los cursos de ingeniería mecánica**.\n",
    "\n",
    "<img src='./img/curvas_reales.png' width='900' height='900' />\n",
    "\n",
    "La variable $NPSH$ (*Net-Positive Suction Head*) es la **altura neta de succión**, también llamada **cabeza** neta de succión, y establece el valor de presión disponible a la entrada de la bomba para evitar la cavitación o evaporación del líquido.\n",
    "\n",
    "$$\n",
    "NPSH = \\frac{p_{in}}{\\rho g} + \\frac{V_{in}^2}{2g} - \\frac{p_{vapor}}{\\rho g}\n",
    "$$\n",
    "\n",
    "<img src='./img/npsh.png' width='400' height='400' />"
   ]
  },
  {
   "cell_type": "markdown",
   "metadata": {},
   "source": [
    "<a id=\"section3\"></a>\n",
    "# Sección 3. Puesta en Práctica"
   ]
  },
  {
   "cell_type": "markdown",
   "metadata": {},
   "source": [
    "## 3.1. Cargar Librerías"
   ]
  },
  {
   "cell_type": "code",
   "execution_count": null,
   "metadata": {},
   "outputs": [],
   "source": [
    "# Datos y Gráficas\n",
    "%matplotlib inline\n",
    "import matplotlib.pyplot as plt\n",
    "import pandas as pd\n",
    "\n",
    "# OLS\n",
    "import numpy as np\n",
    "import scipy\n",
    "import sklearn"
   ]
  },
  {
   "cell_type": "markdown",
   "metadata": {},
   "source": [
    "## 3.2. Conjunto de Datos a Interpolar\n",
    "\n",
    "Conformemos entonces la nube de puntos para un diámetro de rotor de 36 3/4 in. Empecemos con tres datos (a ver qué tal) y luego aumentamos dos puntos más.\n",
    "\n",
    "<img src='./img/curva_practica.png' width='500' height='500' />"
   ]
  },
  {
   "cell_type": "code",
   "execution_count": null,
   "metadata": {},
   "outputs": [],
   "source": [
    "# PASO 1. Toma de datos\n",
    "Q = [0.0, 6.0, 12.0, 20.0, 26.0] # gal/min\n",
    "H = [655.0, 645.0, 620.0, 560.0, 460.] # ft"
   ]
  },
  {
   "cell_type": "code",
   "execution_count": null,
   "metadata": {},
   "outputs": [],
   "source": [
    "# PASO 2. Los guardamos en un pandas.DataFrame\n",
    "df = pd.DataFrame({'Caudal': Q,\n",
    "                   'Altura': H})\n",
    "\n",
    "df"
   ]
  },
  {
   "cell_type": "markdown",
   "metadata": {},
   "source": [
    "## 3.3. Interpolación Lineal\n",
    "\n",
    "Como vimos en la Sección 1 ([→](#section1)), con la librería `scipy.interpolate` utilizamos la función `interp1d`. La sintaxis de esta función consiste en:\n",
    "\n",
    "1. Definir el interpolador mediante `scipy.interpolate.interp1d(x, y)`.\n",
    "2. Ejecutar la función determinada por el interpolador en el conjunto de puntos independiente mediante.\n",
    "\n",
    "<div class='alert alert-block alert-info'>   \n",
    "    \n",
    "<i class='fa fa-info-circle' aria-hidden='true'></i>\n",
    "Puede obtener más información en la documentación oficial de la librería `interp1d` dando clic [aquí](https://docs.scipy.org/doc/scipy/reference/generated/scipy.interpolate.interp1d.html#scipy.interpolate.interp1d).\n",
    "</div>"
   ]
  },
  {
   "cell_type": "code",
   "execution_count": null,
   "metadata": {},
   "outputs": [],
   "source": [
    "# PASO 1. Creamos el interpolador lineal\n",
    "itp_lineal = scipy.interpolate.interp1d(df['Caudal'], df['Altura'])\n",
    "itp_lineal"
   ]
  },
  {
   "cell_type": "code",
   "execution_count": null,
   "metadata": {},
   "outputs": [],
   "source": [
    "# PASO 2. Evaluamos el interpolador lineal\n",
    "H_inter = itp_lineal(df['Caudal'])\n",
    "H_inter"
   ]
  },
  {
   "cell_type": "code",
   "execution_count": null,
   "metadata": {},
   "outputs": [],
   "source": [
    "# Gráfica\n",
    "hor = 8\n",
    "ver = 5\n",
    "plt.figure(figsize=(hor, ver))\n",
    "\n",
    "plt.plot(df['Caudal'], df['Altura'], linestyle='', marker='o', color='dodgerblue', ms=10, label='Datos conocidos')\n",
    "plt.plot(df['Caudal'], H_inter, linestyle='--', marker='^', color='orange', ms=7, label='Datos interpolados')\n",
    "\n",
    "formato_grafica(titulo='Curva Cabeza vs. Caudal (Interpolación Lineal)', \n",
    "                ejex='Galones EE.UU. por minuto x 1000', \n",
    "                ejey='Altura manométrica (ft)')"
   ]
  },
  {
   "cell_type": "markdown",
   "metadata": {},
   "source": [
    "En este caso, si quisiera conocer el valor en un punto dado, debo utilizar la misma función, indicando el valor de interés, es decir: `itp_lineal(x_new)`.\n",
    "\n",
    "Por ejemplo, estimemos el valor de la cabeza $H$ cuando el caudal toma un valor de 16 (la interpolación debe ser para valores dentro del rango de las mediciones, es decir $Q \\in {[0, 26]}$)."
   ]
  },
  {
   "cell_type": "code",
   "execution_count": null,
   "metadata": {},
   "outputs": [],
   "source": [
    "# PASO 1. Indicamos el valor de interés\n",
    "x_new = 16\n",
    "\n",
    "# PASO 2. Evaluamos el interpolador lineal\n",
    "y_new = itp_lineal(x_new)\n",
    "y_new"
   ]
  },
  {
   "cell_type": "markdown",
   "metadata": {},
   "source": [
    "Ahora, si deseamos estudiar la relación entre el caudal $Q$ y la altura manométrica $H$ a partir de nuevos datos, deberíamos tener un comportamiento similar al siguiente:\n",
    "\n",
    "<img src='./img/curvas_teoricas.png' width='400' height='400' />"
   ]
  },
  {
   "cell_type": "code",
   "execution_count": null,
   "metadata": {},
   "outputs": [],
   "source": [
    "# PASO 1. Definimos los datos de estudio\n",
    "Q_estudio = np.linspace(start=0, stop=26, num=50)\n",
    "Q_estudio"
   ]
  },
  {
   "cell_type": "code",
   "execution_count": null,
   "metadata": {
    "scrolled": true
   },
   "outputs": [],
   "source": [
    "# PASO 2. Evaluamos el interpolador lineal para los datos de estudio\n",
    "\n",
    "## 2.1. Creamos una lista vacía donde guardar los datos nuevos\n",
    "H_itp = []\n",
    "\n",
    "## 2.2. Interpolamos los datos de estudio\n",
    "for i in Q_estudio:\n",
    "    H_itp.append( itp_lineal(i) )\n",
    "\n",
    "H_itp"
   ]
  },
  {
   "cell_type": "code",
   "execution_count": null,
   "metadata": {},
   "outputs": [],
   "source": [
    "# Gráfica\n",
    "hor = 8\n",
    "ver = 5\n",
    "plt.figure(figsize=(hor, ver))\n",
    "\n",
    "plt.plot(Q_estudio, H_itp, linestyle='--', marker='^', color='orange', ms=7, label='Datos interpolados')\n",
    "\n",
    "formato_grafica(titulo='Curva Cabeza vs. Caudal (Interpolación Lineal)', \n",
    "                ejex='Galones EE.UU. por minuto x 1000', \n",
    "                ejey='Altura manométrica (ft)')"
   ]
  },
  {
   "cell_type": "markdown",
   "metadata": {},
   "source": [
    "## 3.4. Interpolación con Splines\n",
    "\n",
    "En ingeniería, y en específico en los cursos de ingeniería mecánica, de los datos obtenidos de un experimento se crea una tabla de valores, a partir de la cual muchas veces se necesita conocer a qué función matemática pertenece.\n",
    "\n",
    "Recordemos que por interpolación se entiende **estimar el valor desconocido de una función también desconocida en un punto**, es decir, ¿cuánto \"*vale*\" el valor aproximado de \"*y*\", a partir de “*x*”, o viceversa, si se desconoce la función?\n",
    "\n",
    "Como hemos visto, la interpolación, como método numérico, genera una medida ponderada de sus valores conocidos en puntos cercanos al punto dado. También, la interpolación resuelve el problema referido a encontrar un polinomio que\n",
    "pase por puntos dados $(x_i,\\:y_i)$.\n",
    "\n",
    "Esto es, permite a partir de los puntos dados, encontrar una función aproximada (un polinomio) que define el fenómeno, y que pasa exactamente por esos puntos. Así, se puede conocer parte del comportamiento de la función desconocida $f(x)$.\n",
    "\n",
    "Por último, recordemos también que un *spline* es una curva suave definida en partes mediante diferentes polinomios."
   ]
  },
  {
   "cell_type": "code",
   "execution_count": null,
   "metadata": {},
   "outputs": [],
   "source": [
    "df"
   ]
  },
  {
   "cell_type": "code",
   "execution_count": null,
   "metadata": {},
   "outputs": [],
   "source": [
    "x = df['Caudal']\n",
    "y = df['Altura']"
   ]
  },
  {
   "cell_type": "code",
   "execution_count": null,
   "metadata": {},
   "outputs": [],
   "source": [
    "# PASO 1. Creamos el interpolador spline\n",
    "spline1d = scipy.interpolate.splrep(x, y, k=1)\n",
    "spline2d = scipy.interpolate.splrep(x, y, k=2)\n",
    "spline3d = scipy.interpolate.splrep(x, y, k=3)\n",
    "spline4d = scipy.interpolate.splrep(x, y, k=4)"
   ]
  },
  {
   "cell_type": "code",
   "execution_count": null,
   "metadata": {},
   "outputs": [],
   "source": [
    "# PASO 2. Evaluamos el interpolador spline\n",
    "x_new = np.linspace(start=0, stop=26, num=50)\n",
    "\n",
    "y_new_1d = scipy.interpolate.splev(x_new, tck=spline1d)\n",
    "y_new_2d = scipy.interpolate.splev(x_new, tck=spline2d)\n",
    "y_new_3d = scipy.interpolate.splev(x_new, tck=spline3d)\n",
    "y_new_4d = scipy.interpolate.splev(x_new, tck=spline4d)"
   ]
  },
  {
   "cell_type": "code",
   "execution_count": null,
   "metadata": {},
   "outputs": [],
   "source": [
    "# Gráfica\n",
    "hor = 15\n",
    "ver = 12\n",
    "plt.figure(figsize=(hor, ver))\n",
    "\n",
    "plt.plot(x, y, linestyle='', marker='o', color='dodgerblue', ms=10, label='Datos conocidos')\n",
    "plt.plot(x_new, y_new_1d, linestyle='--', marker='.', color='crimson', ms=10, label='Interpolación Spline k=1')\n",
    "plt.plot(x_new, y_new_2d, linestyle='--', marker='.', color='orange', ms=8, label='Interpolación Spline k=2')\n",
    "plt.plot(x_new, y_new_3d, linestyle='--', marker='.', color='limegreen', ms=6, label='Interpolación Spline k=3')\n",
    "plt.plot(x_new, y_new_4d, linestyle='--', marker='.', color='tan', ms=4, label='Interpolación Spline k=4')\n",
    "\n",
    "formato_grafica(titulo='Curva Cabeza vs. Caudal (Interpolación Lineal)', \n",
    "                ejex='Galones EE.UU. por minuto x 1000', \n",
    "                ejey='Altura manométrica (ft)')"
   ]
  },
  {
   "cell_type": "markdown",
   "metadata": {},
   "source": [
    "## 3.5. Actividad Clase 6: Evaluemos el Comportamiento de la Bomba Centrífuga\n",
    "\n",
    "<div class=\"alert alert-block alert-warning\">\n",
    "\n",
    "Para las mediciones de los datos de caudal $Q$ y, sabiendo que la velocidad de rotación del eje de la bomba $w$ es 1170 rpm y la eficiencia $\\eta$ es 82$\\%$, verifiquemos la relación entre caudal $Q$ y torque $T$. Asumimos $\\rho g = 1$. Para esto:\n",
    "\n",
    "$$\n",
    "\\eta = \\frac{P_w}{P_f} = \\frac{\\rho g Q H}{w T}\n",
    "$$\n",
    "\n",
    "Luego:\n",
    "\n",
    "$$\n",
    "T = \\frac{\\rho g Q H}{w \\eta} = \\frac{Q H}{1170 \\cdot 0.82}\n",
    "$$\n",
    "\n",
    "Comparemos los resultados si utilizamos una **interpolación lineal** y ***spline* cúbica**.\n",
    "    \n",
    "</div>"
   ]
  },
  {
   "cell_type": "code",
   "execution_count": null,
   "metadata": {},
   "outputs": [],
   "source": [
    "df"
   ]
  },
  {
   "cell_type": "code",
   "execution_count": null,
   "metadata": {},
   "outputs": [],
   "source": [
    "x = df['Caudal'].values\n",
    "y = df['Altura'].values"
   ]
  },
  {
   "cell_type": "code",
   "execution_count": null,
   "metadata": {},
   "outputs": [],
   "source": [
    "#  PASO 1. Creamos el interpolador lineal"
   ]
  },
  {
   "cell_type": "code",
   "execution_count": null,
   "metadata": {},
   "outputs": [],
   "source": [
    "# PASO 2. Creamos el interpolador spline cúbico"
   ]
  },
  {
   "cell_type": "code",
   "execution_count": null,
   "metadata": {},
   "outputs": [],
   "source": [
    "#  PASO 3. Creamos los datos de estudio\n",
    "\n",
    "Q_estudio"
   ]
  },
  {
   "cell_type": "code",
   "execution_count": null,
   "metadata": {
    "scrolled": true
   },
   "outputs": [],
   "source": [
    "# PASO 4. Evaluamos el interpolador lineal con los datos de estudio\n",
    "H_lineal = []"
   ]
  },
  {
   "cell_type": "code",
   "execution_count": null,
   "metadata": {
    "scrolled": true
   },
   "outputs": [],
   "source": [
    "# PASO 5. Evaluamos el interpolador spline cúbico\n",
    "H_spline3d = []"
   ]
  },
  {
   "cell_type": "code",
   "execution_count": null,
   "metadata": {},
   "outputs": [],
   "source": [
    "# PASO 6. Calculamos el torque\n"
   ]
  },
  {
   "cell_type": "code",
   "execution_count": null,
   "metadata": {},
   "outputs": [],
   "source": [
    "# Gráfica"
   ]
  }
 ],
 "metadata": {
  "kernelspec": {
   "display_name": "hc",
   "language": "python",
   "name": "hc"
  },
  "language_info": {
   "codemirror_mode": {
    "name": "ipython",
    "version": 3
   },
   "file_extension": ".py",
   "mimetype": "text/x-python",
   "name": "python",
   "nbconvert_exporter": "python",
   "pygments_lexer": "ipython3",
   "version": "3.11.0"
  },
  "toc": {
   "base_numbering": 1,
   "nav_menu": {},
   "number_sections": false,
   "sideBar": true,
   "skip_h1_title": true,
   "title_cell": "Table of Contents",
   "title_sidebar": "Contents",
   "toc_cell": false,
   "toc_position": {},
   "toc_section_display": true,
   "toc_window_display": false
  }
 },
 "nbformat": 4,
 "nbformat_minor": 2
}
